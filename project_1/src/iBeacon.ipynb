{
 "cells": [
  {
   "cell_type": "code",
   "execution_count": null,
   "metadata": {
    "colab": {
     "base_uri": "https://localhost:8080/"
    },
    "executionInfo": {
     "elapsed": 38909,
     "status": "ok",
     "timestamp": 1664097301022,
     "user": {
      "displayName": "Han Yong Chang",
      "userId": "01427371050759770652"
     },
     "user_tz": -480
    },
    "id": "BL5M8YZ66_V0",
    "outputId": "b1c0bf04-5ef0-48ce-b335-4216bb1b65bf"
   },
   "outputs": [
    {
     "name": "stdout",
     "output_type": "stream",
     "text": [
      "Cloning into 'indoor-location-competition-20'...\n",
      "remote: Enumerating objects: 1181, done.\u001b[K\n",
      "remote: Total 1181 (delta 0), reused 0 (delta 0), pack-reused 1181\u001b[K\n",
      "Receiving objects: 100% (1181/1181), 411.37 MiB | 16.82 MiB/s, done.\n",
      "Resolving deltas: 100% (45/45), done.\n",
      "Checking out files: 100% (1145/1145), done.\n"
     ]
    }
   ],
   "source": [
    "# a) clone from github repo directly\n",
    "!git clone https://github.com/location-competition/indoor-location-competition-20\n",
    "!mv ./indoor-location-competition-20/* ./"
   ]
  },
  {
   "cell_type": "code",
   "execution_count": null,
   "metadata": {
    "colab": {
     "base_uri": "https://localhost:8080/"
    },
    "executionInfo": {
     "elapsed": 5787,
     "status": "ok",
     "timestamp": 1664633116754,
     "user": {
      "displayName": "Han Yong Chang",
      "userId": "01427371050759770652"
     },
     "user_tz": -480
    },
    "id": "qC1m4zRb7nvY",
    "outputId": "3b4dc7db-efb6-472b-db76-42aa8bf9e7b1"
   },
   "outputs": [
    {
     "name": "stdout",
     "output_type": "stream",
     "text": [
      "Drive already mounted at /content/drive/; to attempt to forcibly remount, call drive.mount(\"/content/drive/\", force_remount=True).\n",
      "Archive:  /content/drive/My Drive/Colab_Notebooks/indoor-location-competition-20-master.zip\n",
      "replace /content/drive/My Drive/Colab_Notebooks/indoor-location-competition-20-master/data/site1/B1/floor_image.png? [y]es, [n]o, [A]ll, [N]one, [r]ename: "
     ]
    }
   ],
   "source": [
    "from google.colab import drive\n",
    "\n",
    "\n",
    "drive.mount('/content/drive/') # mount your drive\n",
    "# !cp \"/content/drive/My Drive/Colab Notebooks/indoor-location-competition-20-master.zip\" ./  # copy to the Colab machine\n",
    "# !unzip \"/content/drive/My Drive/Colab_Notebooks/indoor-location-competition-20-master.zip\" -d \"/content/drive/My Drive/Colab_Notebooks/indoor-location-competition-20-master/\" # unzip the file"
   ]
  },
  {
   "cell_type": "code",
   "execution_count": 7,
   "metadata": {
    "colab": {
     "base_uri": "https://localhost:8080/"
    },
    "executionInfo": {
     "elapsed": 2567,
     "status": "ok",
     "timestamp": 1664688737008,
     "user": {
      "displayName": "Han Yong Chang",
      "userId": "01427371050759770652"
     },
     "user_tz": -480
    },
    "id": "0wb6uqsN7D93",
    "outputId": "20621f25-539f-4b71-9186-358b1b7d468d"
   },
   "outputs": [
    {
     "name": "stdout",
     "output_type": "stream",
     "text": [
      "Drive already mounted at /content/drive/; to attempt to forcibly remount, call drive.mount(\"/content/drive/\", force_remount=True).\n"
     ]
    }
   ],
   "source": [
    "from dataclasses import dataclass\n",
    "\n",
    "import os\n",
    "import json\n",
    "import numpy as np\n",
    "from collections import defaultdict\n",
    "import random\n",
    "import matplotlib.pyplot as plt\n",
    "import matplotlib.image as mpimg\n",
    "import sys\n",
    "#!pip install numpy scipy dataclasses plotly pillow\n",
    "\n",
    "from google.colab import files\n",
    "from google.colab import drive\n",
    "drive.mount('/content/drive/')\n",
    "\n",
    "data_dir = \"/content/drive/My Drive/Colab_Notebooks/indoor-location-competition-20-master/data/\""
   ]
  },
  {
   "cell_type": "code",
   "execution_count": 8,
   "metadata": {
    "colab": {
     "base_uri": "https://localhost:8080/"
    },
    "executionInfo": {
     "elapsed": 2,
     "status": "ok",
     "timestamp": 1664688738774,
     "user": {
      "displayName": "Han Yong Chang",
      "userId": "01427371050759770652"
     },
     "user_tz": -480
    },
    "id": "PO5DbzOdA2dH",
    "outputId": "f387d43e-0e4c-4f4b-bcf8-d8d5fd10b3cb"
   },
   "outputs": [
    {
     "name": "stdout",
     "output_type": "stream",
     "text": [
      "[('site1', 'B1'), ('site1', 'F2'), ('site1', 'F1'), ('site1', 'F4'), ('site1', 'F3'), ('site2', 'B1'), ('site2', 'F4'), ('site2', 'F2'), ('site2', 'F5'), ('site2', 'F6'), ('site2', 'F1'), ('site2', 'F3'), ('site2', 'F7'), ('site2', 'F8')]\n"
     ]
    }
   ],
   "source": [
    "def site_floors(data_dir: str) -> []:\n",
    "    sites = []\n",
    "    site_floors = []\n",
    "    for f in os.scandir(data_dir):\n",
    "      if f.is_dir():\n",
    "          sites.append((f.name, f.path))\n",
    "    for site_name, site_dir in sites:\n",
    "      for f in os.scandir(site_dir):\n",
    "            if f.is_dir():\n",
    "                site_floors.append((site_name, f.name))\n",
    "    return site_floors\n",
    "\n",
    "print(site_floors(data_dir))"
   ]
  },
  {
   "cell_type": "code",
   "execution_count": 9,
   "metadata": {
    "executionInfo": {
     "elapsed": 339,
     "status": "ok",
     "timestamp": 1664688742206,
     "user": {
      "displayName": "Han Yong Chang",
      "userId": "01427371050759770652"
     },
     "user_tz": -480
    },
    "id": "tI4jOHq4B-FI"
   },
   "outputs": [],
   "source": [
    "# this cell contain the content from io_f.py\n",
    "from dataclasses import dataclass\n",
    "\n",
    "import numpy as np\n",
    "\n",
    "\n",
    "@dataclass\n",
    "class PathData:\n",
    "  acce: np.ndarray\n",
    "  magn: np.ndarray\n",
    "  ahrs: np.ndarray\n",
    "  ibeacon: np.ndarray\n",
    "  waypoint: np.ndarray\n",
    "\n",
    "\n",
    "def read_data_file(data_filename, augment = True):\n",
    "  accel = []\n",
    "  magnet = []\n",
    "  rotate = []\n",
    "  ibeacon = []\n",
    "  waypoint = []\n",
    "\n",
    "  with open(data_filename, 'r', encoding='utf-8') as file:\n",
    "    lines = file.readlines()\n",
    "\n",
    "  for line_data in lines:\n",
    "    line_data = line_data.strip()\n",
    "    if not line_data or line_data[0] == '#':\n",
    "        continue\n",
    "\n",
    "    line_data = line_data.split('\\t')\n",
    "\n",
    "    if augment and line_data[1] == 'TYPE_ACCELEROMETER':\n",
    "        accel.append([int(line_data[0]), float(line_data[2]), float(line_data[3]), float(line_data[4])])\n",
    "        # print(accel)\n",
    "    elif augment and line_data[1] == 'TYPE_MAGNETIC_FIELD':\n",
    "        magnet.append([int(line_data[0]), float(line_data[2]), float(line_data[3]), float(line_data[4])])\n",
    "    elif augment and line_data[1] == 'TYPE_ROTATION_VECTOR':\n",
    "        rotate.append([int(line_data[0]), float(line_data[2]), float(line_data[3]), float(line_data[4])])\n",
    "\n",
    "    elif line_data[1] == 'TYPE_BEACON':\n",
    "        ts = line_data[0]\n",
    "        uuid = line_data[2]\n",
    "        major = line_data[3]\n",
    "        minor = line_data[4]\n",
    "        rssi = line_data[6]\n",
    "        ibeacon_data = [ts, '_'.join([uuid, major, minor]), rssi]\n",
    "        ibeacon.append(ibeacon_data)\n",
    "        continue\n",
    "\n",
    "    elif line_data[1] == 'TYPE_WAYPOINT':\n",
    "        waypoint.append([int(line_data[0]), float(line_data[2]), float(line_data[3])])\n",
    "\n",
    "  accel = np.array(accel)\n",
    "  magn = np.array(magnet)\n",
    "  ahrs = np.array(rotate)\n",
    "  ibeacon = np.array(ibeacon)\n",
    "  waypoint = np.array(waypoint)\n",
    "\n",
    "  # if augment:\n",
    "  #   augmented_data = compute_step_positions(accel, ahrs, waypoint) # use position estimation funciton in sample code compute_f.py\n",
    "  #   # print(augmented_data)\n",
    "  # else:\n",
    "  #   augmented_data = waypoint\n",
    "\n",
    "  return PathData(accel, magn, ahrs, ibeacon, waypoint)\n"
   ]
  },
  {
   "cell_type": "code",
   "execution_count": null,
   "metadata": {
    "colab": {
     "base_uri": "https://localhost:8080/"
    },
    "executionInfo": {
     "elapsed": 356,
     "status": "ok",
     "timestamp": 1664633554697,
     "user": {
      "displayName": "Han Yong Chang",
      "userId": "01427371050759770652"
     },
     "user_tz": -480
    },
    "id": "7JOVPBYmi4tK",
    "outputId": "1ba19fe4-e985-4b27-ca68-60cf8196c246"
   },
   "outputs": [
    {
     "name": "stdout",
     "output_type": "stream",
     "text": [
      "[['1574572522535' '9195B3AD-A9D0-4500-85FF-9FB0F65A5201_0_0' '-84']\n",
      " ['1574572522549' '9195B3AD-A9D0-4500-85FF-9FB0F65A5201_0_0' '-95']\n",
      " ['1574572525875' '9195B3AD-A9D0-4500-85FF-9FB0F65A5201_0_0' '-82']\n",
      " ['1574572526506' '9195B3AD-A9D0-4500-85FF-9FB0F65A5201_0_0' '-98']\n",
      " ['1574572526609' '9195B3AD-A9D0-4500-85FF-9FB0F65A5201_0_0' '-89']\n",
      " ['1574572526710' '9195B3AD-A9D0-4500-85FF-9FB0F65A5201_0_0' '-87']\n",
      " ['1574572526947' '9195B3AD-A9D0-4500-85FF-9FB0F65A5201_0_0' '-85']\n",
      " ['1574572530614' '9195B3AD-A9D0-4500-85FF-9FB0F65A5201_0_0' '-85']\n",
      " ['1574572530872' 'FB349B5F-8000-0080-0010-00003CFE0000_27257_52321'\n",
      "  '-89']\n",
      " ['1574572530907' '9195B3AD-A9D0-4500-85FF-9FB0F65A5201_0_0' '-85']\n",
      " ['1574572530912' 'FB349B5F-8000-0080-0010-00003CFE0000_27257_52321'\n",
      "  '-93']\n",
      " ['1574572531546' '9195B3AD-A9D0-4500-85FF-9FB0F65A5201_0_0' '-85']\n",
      " ['1574572531665' '9195B3AD-A9D0-4500-85FF-9FB0F65A5201_0_0' '-90']\n",
      " ['1574572531927' '9195B3AD-A9D0-4500-85FF-9FB0F65A5201_0_0' '-86']\n",
      " ['1574572532511' '9195B3AD-A9D0-4500-85FF-9FB0F65A5201_0_0' '-84']\n",
      " ['1574572533066' '9195B3AD-A9D0-4500-85FF-9FB0F65A5201_0_0' '-81']\n",
      " ['1574572533385' '9195B3AD-A9D0-4500-85FF-9FB0F65A5201_0_0' '-84']\n",
      " ['1574572533985' 'FB349B5F-8000-0080-0010-00003CFE0000_27257_52321'\n",
      "  '-92']\n",
      " ['1574572534047' '9195B3AD-A9D0-4500-85FF-9FB0F65A5201_0_0' '-93']\n",
      " ['1574572534187' '9195B3AD-A9D0-4500-85FF-9FB0F65A5201_0_0' '-75']\n",
      " ['1574572534339' '9195B3AD-A9D0-4500-85FF-9FB0F65A5201_0_0' '-92']\n",
      " ['1574572534430' '9195B3AD-A9D0-4500-85FF-9FB0F65A5201_0_0' '-88']\n",
      " ['1574572534433' '9195B3AD-A9D0-4500-85FF-9FB0F65A5201_0_0' '-85']\n",
      " ['1574572534439' 'FB349B5F-8000-0080-0010-00003CFE0000_27257_52321'\n",
      "  '-100']\n",
      " ['1574572534582' 'FB349B5F-8000-0080-0010-00003CFE0000_27257_52321'\n",
      "  '-94']\n",
      " ['1574572534788' '9195B3AD-A9D0-4500-85FF-9FB0F65A5201_0_0' '-82']\n",
      " ['1574572534823' '9195B3AD-A9D0-4500-85FF-9FB0F65A5201_0_0' '-91']\n",
      " ['1574572535214' 'FB349B5F-8000-0080-0010-00003CFE0000_27257_52321'\n",
      "  '-92']\n",
      " ['1574572535532' '9195B3AD-A9D0-4500-85FF-9FB0F65A5201_0_0' '-87']\n",
      " ['1574572535537' '9195B3AD-A9D0-4500-85FF-9FB0F65A5201_0_0' '-82']\n",
      " ['1574572535563' '9195B3AD-A9D0-4500-85FF-9FB0F65A5201_0_0' '-93']\n",
      " ['1574572535696' '9195B3AD-A9D0-4500-85FF-9FB0F65A5201_0_0' '-87']\n",
      " ['1574572535797' 'FB349B5F-8000-0080-0010-00003CFE0000_27257_52321'\n",
      "  '-92']\n",
      " ['1574572535824' '9195B3AD-A9D0-4500-85FF-9FB0F65A5201_0_0' '-86']\n",
      " ['1574572535969' '9195B3AD-A9D0-4500-85FF-9FB0F65A5201_0_0' '-78']\n",
      " ['1574572536183' '9195B3AD-A9D0-4500-85FF-9FB0F65A5201_0_0' '-75']\n",
      " ['1574572536516' '9195B3AD-A9D0-4500-85FF-9FB0F65A5201_0_0' '-86']\n",
      " ['1574572536810' '9195B3AD-A9D0-4500-85FF-9FB0F65A5201_0_0' '-70']\n",
      " ['1574572536948' 'FB349B5F-8000-0080-0010-00003CFE0000_27257_52321'\n",
      "  '-88']\n",
      " ['1574572537267' '9195B3AD-A9D0-4500-85FF-9FB0F65A5201_0_0' '-88']\n",
      " ['1574572537319' '9195B3AD-A9D0-4500-85FF-9FB0F65A5201_0_0' '-83']\n",
      " ['1574572537352' '9195B3AD-A9D0-4500-85FF-9FB0F65A5201_0_0' '-79']\n",
      " ['1574572537414' 'FB349B5F-8000-0080-0010-00003CFE0000_27257_52321'\n",
      "  '-90']\n",
      " ['1574572537456' '9195B3AD-A9D0-4500-85FF-9FB0F65A5201_0_0' '-81']\n",
      " ['1574572537495' '9195B3AD-A9D0-4500-85FF-9FB0F65A5201_0_0' '-92']\n",
      " ['1574572537535' '9195B3AD-A9D0-4500-85FF-9FB0F65A5201_0_0' '-73']\n",
      " ['1574572537912' '9195B3AD-A9D0-4500-85FF-9FB0F65A5201_0_0' '-82']\n",
      " ['1574572537917' '9195B3AD-A9D0-4500-85FF-9FB0F65A5201_0_0' '-84']\n",
      " ['1574572537940' '9195B3AD-A9D0-4500-85FF-9FB0F65A5201_0_0' '-74']\n",
      " ['1574572538018' '9195B3AD-A9D0-4500-85FF-9FB0F65A5201_0_0' '-98']\n",
      " ['1574572538268' '9195B3AD-A9D0-4500-85FF-9FB0F65A5201_0_0' '-85']\n",
      " ['1574572538462' '9195B3AD-A9D0-4500-85FF-9FB0F65A5201_0_0' '-88']\n",
      " ['1574572538533' '9195B3AD-A9D0-4500-85FF-9FB0F65A5201_0_0' '-90']\n",
      " ['1574572538549' 'FB349B5F-8000-0080-0010-00003CFE0000_27257_52321'\n",
      "  '-85']\n",
      " ['1574572538566' 'FB349B5F-8000-0080-0010-00003CFE0000_27257_52321'\n",
      "  '-86']\n",
      " ['1574572538586' '9195B3AD-A9D0-4500-85FF-9FB0F65A5201_0_0' '-69']\n",
      " ['1574572538617' 'FB349B5F-8000-0080-0010-00003CFE0000_27257_52321'\n",
      "  '-87']\n",
      " ['1574572538669' '9195B3AD-A9D0-4500-85FF-9FB0F65A5201_0_0' '-72']\n",
      " ['1574572538694' '9195B3AD-A9D0-4500-85FF-9FB0F65A5201_0_0' '-69']\n",
      " ['1574572538768' '9195B3AD-A9D0-4500-85FF-9FB0F65A5201_0_0' '-72']\n",
      " ['1574572538797' '9195B3AD-A9D0-4500-85FF-9FB0F65A5201_0_0' '-78']\n",
      " ['1574572538961' '9195B3AD-A9D0-4500-85FF-9FB0F65A5201_0_0' '-96']\n",
      " ['1574572539215' '9195B3AD-A9D0-4500-85FF-9FB0F65A5201_0_0' '-69']]\n"
     ]
    }
   ],
   "source": [
    "path_data = read_data_file(os.path.join(data_dir, './site1/B1/path_data_files/5dda14979191710006b5720e.txt'))\n",
    "print(path_data.ibeacon)"
   ]
  },
  {
   "cell_type": "code",
   "execution_count": null,
   "metadata": {
    "id": "dC_F2nUXCbm1"
   },
   "outputs": [],
   "source": []
  },
  {
   "cell_type": "markdown",
   "metadata": {
    "id": "xiKiqletCcFm"
   },
   "source": [
    "### Visualize iBeacon RSSI with waypoints only"
   ]
  },
  {
   "cell_type": "code",
   "execution_count": null,
   "metadata": {
    "colab": {
     "base_uri": "https://localhost:8080/",
     "height": 1000
    },
    "executionInfo": {
     "elapsed": 473648,
     "status": "ok",
     "timestamp": 1664687047043,
     "user": {
      "displayName": "Han Yong Chang",
      "userId": "01427371050759770652"
     },
     "user_tz": -480
    },
    "id": "T6nrDwpTDNoo",
    "outputId": "2882255e-5c52-46d9-f5b7-28a34d584fac"
   },
   "outputs": [
    {
     "name": "stdout",
     "output_type": "stream",
     "text": [
      "site1  >  B1\n",
      "This floor has 55 iBeacons.\n",
      "Example 5 iBeacon UUID_MajorID_MinorIDs:\n",
      "\n",
      "FDA50693-A4E2-4FB1-AFCF-C6EB07647825_10065_26049\n",
      "6B76E28A-6FA2-48C9-8502-C1DAA388AB2C_62879_39358\n",
      "6B76E28A-6FA2-48C9-8502-C1DAA388AB2C_40184_4674\n",
      "74278BDA-B644-4520-8F0C-720EAF059935_304_61041\n",
      "6B76E28A-6FA2-48C9-8502-C1DAA388AB2C_30916_22872\n",
      "Please input target iBeacon UUID_MajorID_MinorID:\n",
      "FDA50693-A4E2-4FB1-AFCF-C6EB07647825_10065_26049\n"
     ]
    },
    {
     "data": {
      "application/javascript": [
       "\n",
       "    async function download(id, filename, size) {\n",
       "      if (!google.colab.kernel.accessAllowed) {\n",
       "        return;\n",
       "      }\n",
       "      const div = document.createElement('div');\n",
       "      const label = document.createElement('label');\n",
       "      label.textContent = `Downloading \"${filename}\": `;\n",
       "      div.appendChild(label);\n",
       "      const progress = document.createElement('progress');\n",
       "      progress.max = size;\n",
       "      div.appendChild(progress);\n",
       "      document.body.appendChild(div);\n",
       "\n",
       "      const buffers = [];\n",
       "      let downloaded = 0;\n",
       "\n",
       "      const channel = await google.colab.kernel.comms.open(id);\n",
       "      // Send a message to notify the kernel that we're ready.\n",
       "      channel.send({})\n",
       "\n",
       "      for await (const message of channel.messages) {\n",
       "        // Send a message to notify the kernel that we're ready.\n",
       "        channel.send({})\n",
       "        if (message.buffers) {\n",
       "          for (const buffer of message.buffers) {\n",
       "            buffers.push(buffer);\n",
       "            downloaded += buffer.byteLength;\n",
       "            progress.value = downloaded;\n",
       "          }\n",
       "        }\n",
       "      }\n",
       "      const blob = new Blob(buffers, {type: 'application/binary'});\n",
       "      const a = document.createElement('a');\n",
       "      a.href = window.URL.createObjectURL(blob);\n",
       "      a.download = filename;\n",
       "      div.appendChild(a);\n",
       "      a.click();\n",
       "      div.remove();\n",
       "    }\n",
       "  "
      ],
      "text/plain": [
       "<IPython.core.display.Javascript object>"
      ]
     },
     "metadata": {},
     "output_type": "display_data"
    },
    {
     "data": {
      "application/javascript": [
       "download(\"download_3dd118ac-5d91-4361-b714-6d7533af7d8f\", \"site1-B1.png\", 318265)"
      ],
      "text/plain": [
       "<IPython.core.display.Javascript object>"
      ]
     },
     "metadata": {},
     "output_type": "display_data"
    },
    {
     "name": "stdout",
     "output_type": "stream",
     "text": [
      "site1-B1.png saved\n",
      "\n",
      "site1  >  F2\n",
      "This floor has 16 iBeacons.\n",
      "Example 5 iBeacon UUID_MajorID_MinorIDs:\n",
      "\n",
      "07A50693-A4E2-4FB1-AFCF-201707181336_10004_6119\n",
      "6B76E28A-6FA2-48C9-8502-C1DAA388AB2C_64294_18080\n",
      "6B76E28A-6FA2-48C9-8502-C1DAA388AB2C_60469_53546\n",
      "9195B3AD-A9D0-4500-85FF-9FB0F65A5201_0_0\n",
      "FB349B5F-8000-0080-0010-00003CFE0000_2827_17568\n",
      "Please input target iBeacon UUID_MajorID_MinorID:\n",
      "07A50693-A4E2-4FB1-AFCF-201707181336_10004_6119\n"
     ]
    },
    {
     "data": {
      "application/javascript": [
       "\n",
       "    async function download(id, filename, size) {\n",
       "      if (!google.colab.kernel.accessAllowed) {\n",
       "        return;\n",
       "      }\n",
       "      const div = document.createElement('div');\n",
       "      const label = document.createElement('label');\n",
       "      label.textContent = `Downloading \"${filename}\": `;\n",
       "      div.appendChild(label);\n",
       "      const progress = document.createElement('progress');\n",
       "      progress.max = size;\n",
       "      div.appendChild(progress);\n",
       "      document.body.appendChild(div);\n",
       "\n",
       "      const buffers = [];\n",
       "      let downloaded = 0;\n",
       "\n",
       "      const channel = await google.colab.kernel.comms.open(id);\n",
       "      // Send a message to notify the kernel that we're ready.\n",
       "      channel.send({})\n",
       "\n",
       "      for await (const message of channel.messages) {\n",
       "        // Send a message to notify the kernel that we're ready.\n",
       "        channel.send({})\n",
       "        if (message.buffers) {\n",
       "          for (const buffer of message.buffers) {\n",
       "            buffers.push(buffer);\n",
       "            downloaded += buffer.byteLength;\n",
       "            progress.value = downloaded;\n",
       "          }\n",
       "        }\n",
       "      }\n",
       "      const blob = new Blob(buffers, {type: 'application/binary'});\n",
       "      const a = document.createElement('a');\n",
       "      a.href = window.URL.createObjectURL(blob);\n",
       "      a.download = filename;\n",
       "      div.appendChild(a);\n",
       "      a.click();\n",
       "      div.remove();\n",
       "    }\n",
       "  "
      ],
      "text/plain": [
       "<IPython.core.display.Javascript object>"
      ]
     },
     "metadata": {},
     "output_type": "display_data"
    },
    {
     "data": {
      "application/javascript": [
       "download(\"download_7cd3debe-b343-4538-b959-aa984f213de7\", \"site1-F2.png\", 200361)"
      ],
      "text/plain": [
       "<IPython.core.display.Javascript object>"
      ]
     },
     "metadata": {},
     "output_type": "display_data"
    },
    {
     "name": "stdout",
     "output_type": "stream",
     "text": [
      "site1-F2.png saved\n",
      "\n",
      "site1  >  F1\n",
      "This floor has 20 iBeacons.\n",
      "Example 5 iBeacon UUID_MajorID_MinorIDs:\n",
      "\n",
      "6B76E28A-6FA2-48C9-8502-C1DAA388AB2C_25440_53472\n",
      "FDA50693-A4E2-4FB1-AFCF-C6EB07647825_10073_61418\n",
      "3C3493F1-997A-D187-0AD6-FB5A8D4EFA63_30242_6415\n",
      "6B76E28A-6FA2-48C9-8502-C1DAA388AB2C_64294_18080\n",
      "800DB72B-5C3C-480B-B6F2-E7D5A7388E75_16160_2818\n",
      "Please input target iBeacon UUID_MajorID_MinorID:\n",
      "6B76E28A-6FA2-48C9-8502-C1DAA388AB2C_25440_53472\n"
     ]
    },
    {
     "data": {
      "application/javascript": [
       "\n",
       "    async function download(id, filename, size) {\n",
       "      if (!google.colab.kernel.accessAllowed) {\n",
       "        return;\n",
       "      }\n",
       "      const div = document.createElement('div');\n",
       "      const label = document.createElement('label');\n",
       "      label.textContent = `Downloading \"${filename}\": `;\n",
       "      div.appendChild(label);\n",
       "      const progress = document.createElement('progress');\n",
       "      progress.max = size;\n",
       "      div.appendChild(progress);\n",
       "      document.body.appendChild(div);\n",
       "\n",
       "      const buffers = [];\n",
       "      let downloaded = 0;\n",
       "\n",
       "      const channel = await google.colab.kernel.comms.open(id);\n",
       "      // Send a message to notify the kernel that we're ready.\n",
       "      channel.send({})\n",
       "\n",
       "      for await (const message of channel.messages) {\n",
       "        // Send a message to notify the kernel that we're ready.\n",
       "        channel.send({})\n",
       "        if (message.buffers) {\n",
       "          for (const buffer of message.buffers) {\n",
       "            buffers.push(buffer);\n",
       "            downloaded += buffer.byteLength;\n",
       "            progress.value = downloaded;\n",
       "          }\n",
       "        }\n",
       "      }\n",
       "      const blob = new Blob(buffers, {type: 'application/binary'});\n",
       "      const a = document.createElement('a');\n",
       "      a.href = window.URL.createObjectURL(blob);\n",
       "      a.download = filename;\n",
       "      div.appendChild(a);\n",
       "      a.click();\n",
       "      div.remove();\n",
       "    }\n",
       "  "
      ],
      "text/plain": [
       "<IPython.core.display.Javascript object>"
      ]
     },
     "metadata": {},
     "output_type": "display_data"
    },
    {
     "data": {
      "application/javascript": [
       "download(\"download_1abb6745-f0ef-47c0-9f4e-4dd6ba1d9f2a\", \"site1-F1.png\", 190493)"
      ],
      "text/plain": [
       "<IPython.core.display.Javascript object>"
      ]
     },
     "metadata": {},
     "output_type": "display_data"
    },
    {
     "name": "stdout",
     "output_type": "stream",
     "text": [
      "site1-F1.png saved\n",
      "\n",
      "site1  >  F4\n",
      "This floor has 12 iBeacons.\n",
      "Example 5 iBeacon UUID_MajorID_MinorIDs:\n",
      "\n",
      "6B76E28A-6FA2-48C9-8502-C1DAA388AB2C_64096_25388\n",
      "6B76E28A-6FA2-48C9-8502-C1DAA388AB2C_5337_45415\n",
      "6B76E28A-6FA2-48C9-8502-C1DAA388AB2C_19018_35270\n",
      "FB349B5F-8000-0080-0010-00003CFE0000_5029_16071\n",
      "9195B3AD-A9D0-4500-85FF-9FB0F65A5201_0_0\n",
      "Please input target iBeacon UUID_MajorID_MinorID:\n",
      "6B76E28A-6FA2-48C9-8502-C1DAA388AB2C_64096_25388\n"
     ]
    },
    {
     "data": {
      "application/javascript": [
       "\n",
       "    async function download(id, filename, size) {\n",
       "      if (!google.colab.kernel.accessAllowed) {\n",
       "        return;\n",
       "      }\n",
       "      const div = document.createElement('div');\n",
       "      const label = document.createElement('label');\n",
       "      label.textContent = `Downloading \"${filename}\": `;\n",
       "      div.appendChild(label);\n",
       "      const progress = document.createElement('progress');\n",
       "      progress.max = size;\n",
       "      div.appendChild(progress);\n",
       "      document.body.appendChild(div);\n",
       "\n",
       "      const buffers = [];\n",
       "      let downloaded = 0;\n",
       "\n",
       "      const channel = await google.colab.kernel.comms.open(id);\n",
       "      // Send a message to notify the kernel that we're ready.\n",
       "      channel.send({})\n",
       "\n",
       "      for await (const message of channel.messages) {\n",
       "        // Send a message to notify the kernel that we're ready.\n",
       "        channel.send({})\n",
       "        if (message.buffers) {\n",
       "          for (const buffer of message.buffers) {\n",
       "            buffers.push(buffer);\n",
       "            downloaded += buffer.byteLength;\n",
       "            progress.value = downloaded;\n",
       "          }\n",
       "        }\n",
       "      }\n",
       "      const blob = new Blob(buffers, {type: 'application/binary'});\n",
       "      const a = document.createElement('a');\n",
       "      a.href = window.URL.createObjectURL(blob);\n",
       "      a.download = filename;\n",
       "      div.appendChild(a);\n",
       "      a.click();\n",
       "      div.remove();\n",
       "    }\n",
       "  "
      ],
      "text/plain": [
       "<IPython.core.display.Javascript object>"
      ]
     },
     "metadata": {},
     "output_type": "display_data"
    },
    {
     "data": {
      "application/javascript": [
       "download(\"download_f5cd947c-3391-43cc-9e71-ba40ae6a36e6\", \"site1-F4.png\", 188191)"
      ],
      "text/plain": [
       "<IPython.core.display.Javascript object>"
      ]
     },
     "metadata": {},
     "output_type": "display_data"
    },
    {
     "name": "stdout",
     "output_type": "stream",
     "text": [
      "site1-F4.png saved\n",
      "\n",
      "site1  >  F3\n",
      "This floor has 14 iBeacons.\n",
      "Example 5 iBeacon UUID_MajorID_MinorIDs:\n",
      "\n",
      "48F8C9EF-AEF9-482D-987F-3752F1C51DA1_22_40969\n",
      "A49CD9E0-E367-59D2-4FD4-1DE0557702D8_44413_58550\n",
      "6B76E28A-6FA2-48C9-8502-C1DAA388AB2C_47237_15305\n",
      "6B76E28A-6FA2-48C9-8502-C1DAA388AB2C_58251_52693\n",
      "07A50693-A4E2-4FB1-AFCF-201707181336_10004_6119\n",
      "Please input target iBeacon UUID_MajorID_MinorID:\n",
      "48F8C9EF-AEF9-482D-987F-3752F1C51DA1_22_40969\n"
     ]
    },
    {
     "data": {
      "application/javascript": [
       "\n",
       "    async function download(id, filename, size) {\n",
       "      if (!google.colab.kernel.accessAllowed) {\n",
       "        return;\n",
       "      }\n",
       "      const div = document.createElement('div');\n",
       "      const label = document.createElement('label');\n",
       "      label.textContent = `Downloading \"${filename}\": `;\n",
       "      div.appendChild(label);\n",
       "      const progress = document.createElement('progress');\n",
       "      progress.max = size;\n",
       "      div.appendChild(progress);\n",
       "      document.body.appendChild(div);\n",
       "\n",
       "      const buffers = [];\n",
       "      let downloaded = 0;\n",
       "\n",
       "      const channel = await google.colab.kernel.comms.open(id);\n",
       "      // Send a message to notify the kernel that we're ready.\n",
       "      channel.send({})\n",
       "\n",
       "      for await (const message of channel.messages) {\n",
       "        // Send a message to notify the kernel that we're ready.\n",
       "        channel.send({})\n",
       "        if (message.buffers) {\n",
       "          for (const buffer of message.buffers) {\n",
       "            buffers.push(buffer);\n",
       "            downloaded += buffer.byteLength;\n",
       "            progress.value = downloaded;\n",
       "          }\n",
       "        }\n",
       "      }\n",
       "      const blob = new Blob(buffers, {type: 'application/binary'});\n",
       "      const a = document.createElement('a');\n",
       "      a.href = window.URL.createObjectURL(blob);\n",
       "      a.download = filename;\n",
       "      div.appendChild(a);\n",
       "      a.click();\n",
       "      div.remove();\n",
       "    }\n",
       "  "
      ],
      "text/plain": [
       "<IPython.core.display.Javascript object>"
      ]
     },
     "metadata": {},
     "output_type": "display_data"
    },
    {
     "data": {
      "application/javascript": [
       "download(\"download_ba020642-8856-48a4-b293-161d1d3753ba\", \"site1-F3.png\", 194445)"
      ],
      "text/plain": [
       "<IPython.core.display.Javascript object>"
      ]
     },
     "metadata": {},
     "output_type": "display_data"
    },
    {
     "name": "stdout",
     "output_type": "stream",
     "text": [
      "site1-F3.png saved\n",
      "\n",
      "site2  >  B1\n",
      "This floor has 27 iBeacons.\n",
      "Example 5 iBeacon UUID_MajorID_MinorIDs:\n",
      "\n",
      "616C6970-6179-626F-7869-626561636F6A_49023_45597\n",
      "616C6970-6179-626F-7869-626561636F6A_50880_9290\n",
      "FB349B5F-8000-0080-0010-00003CFE0000_9280_41019\n",
      "FDA50693-A4E2-4FB1-AFCF-C6EB07647825_10187_64102\n",
      "E7FC9D3C-EF01-4B70-B280-2CF6D50FA5CA_25548_35325\n",
      "Please input target iBeacon UUID_MajorID_MinorID:\n",
      "616C6970-6179-626F-7869-626561636F6A_50880_9290\n"
     ]
    },
    {
     "data": {
      "application/javascript": [
       "\n",
       "    async function download(id, filename, size) {\n",
       "      if (!google.colab.kernel.accessAllowed) {\n",
       "        return;\n",
       "      }\n",
       "      const div = document.createElement('div');\n",
       "      const label = document.createElement('label');\n",
       "      label.textContent = `Downloading \"${filename}\": `;\n",
       "      div.appendChild(label);\n",
       "      const progress = document.createElement('progress');\n",
       "      progress.max = size;\n",
       "      div.appendChild(progress);\n",
       "      document.body.appendChild(div);\n",
       "\n",
       "      const buffers = [];\n",
       "      let downloaded = 0;\n",
       "\n",
       "      const channel = await google.colab.kernel.comms.open(id);\n",
       "      // Send a message to notify the kernel that we're ready.\n",
       "      channel.send({})\n",
       "\n",
       "      for await (const message of channel.messages) {\n",
       "        // Send a message to notify the kernel that we're ready.\n",
       "        channel.send({})\n",
       "        if (message.buffers) {\n",
       "          for (const buffer of message.buffers) {\n",
       "            buffers.push(buffer);\n",
       "            downloaded += buffer.byteLength;\n",
       "            progress.value = downloaded;\n",
       "          }\n",
       "        }\n",
       "      }\n",
       "      const blob = new Blob(buffers, {type: 'application/binary'});\n",
       "      const a = document.createElement('a');\n",
       "      a.href = window.URL.createObjectURL(blob);\n",
       "      a.download = filename;\n",
       "      div.appendChild(a);\n",
       "      a.click();\n",
       "      div.remove();\n",
       "    }\n",
       "  "
      ],
      "text/plain": [
       "<IPython.core.display.Javascript object>"
      ]
     },
     "metadata": {},
     "output_type": "display_data"
    },
    {
     "data": {
      "application/javascript": [
       "download(\"download_333c716e-1673-45c9-969b-ec45747c0eca\", \"site2-B1.png\", 192230)"
      ],
      "text/plain": [
       "<IPython.core.display.Javascript object>"
      ]
     },
     "metadata": {},
     "output_type": "display_data"
    },
    {
     "name": "stdout",
     "output_type": "stream",
     "text": [
      "site2-B1.png saved\n",
      "\n",
      "site2  >  F4\n",
      "This floor has 11 iBeacons.\n",
      "Example 5 iBeacon UUID_MajorID_MinorIDs:\n",
      "\n",
      "FB349B5F-8000-0080-0010-00003CFE0000_19623_24590\n",
      "FDA50693-A4E2-4FB1-AFCF-C6EB07647825_10065_26049\n",
      "6B76E28A-6FA2-48C9-8502-C1DAA388AB2C_7147_14931\n",
      "9195B3AD-A9D0-4500-85FF-9FB0F65A5201_0_0\n",
      "FB349B5F-8000-0080-0010-00003CFE0000_17834_10672\n",
      "Please input target iBeacon UUID_MajorID_MinorID:\n",
      "9195B3AD-A9D0-4500-85FF-9FB0F65A5201_0_0\n"
     ]
    },
    {
     "data": {
      "application/javascript": [
       "\n",
       "    async function download(id, filename, size) {\n",
       "      if (!google.colab.kernel.accessAllowed) {\n",
       "        return;\n",
       "      }\n",
       "      const div = document.createElement('div');\n",
       "      const label = document.createElement('label');\n",
       "      label.textContent = `Downloading \"${filename}\": `;\n",
       "      div.appendChild(label);\n",
       "      const progress = document.createElement('progress');\n",
       "      progress.max = size;\n",
       "      div.appendChild(progress);\n",
       "      document.body.appendChild(div);\n",
       "\n",
       "      const buffers = [];\n",
       "      let downloaded = 0;\n",
       "\n",
       "      const channel = await google.colab.kernel.comms.open(id);\n",
       "      // Send a message to notify the kernel that we're ready.\n",
       "      channel.send({})\n",
       "\n",
       "      for await (const message of channel.messages) {\n",
       "        // Send a message to notify the kernel that we're ready.\n",
       "        channel.send({})\n",
       "        if (message.buffers) {\n",
       "          for (const buffer of message.buffers) {\n",
       "            buffers.push(buffer);\n",
       "            downloaded += buffer.byteLength;\n",
       "            progress.value = downloaded;\n",
       "          }\n",
       "        }\n",
       "      }\n",
       "      const blob = new Blob(buffers, {type: 'application/binary'});\n",
       "      const a = document.createElement('a');\n",
       "      a.href = window.URL.createObjectURL(blob);\n",
       "      a.download = filename;\n",
       "      div.appendChild(a);\n",
       "      a.click();\n",
       "      div.remove();\n",
       "    }\n",
       "  "
      ],
      "text/plain": [
       "<IPython.core.display.Javascript object>"
      ]
     },
     "metadata": {},
     "output_type": "display_data"
    },
    {
     "data": {
      "application/javascript": [
       "download(\"download_89744532-ec0a-4f72-b7f0-836ed4213b1b\", \"site2-F4.png\", 203477)"
      ],
      "text/plain": [
       "<IPython.core.display.Javascript object>"
      ]
     },
     "metadata": {},
     "output_type": "display_data"
    },
    {
     "name": "stdout",
     "output_type": "stream",
     "text": [
      "site2-F4.png saved\n",
      "\n",
      "site2  >  F2\n",
      "This floor has 8 iBeacons.\n",
      "Example 5 iBeacon UUID_MajorID_MinorIDs:\n",
      "\n",
      "6B76E28A-6FA2-48C9-8502-C1DAA388AB2C_43832_27674\n",
      "FB349B5F-8000-0080-0010-00003CFE0000_29680_25758\n",
      "616C6970-6179-626F-7869-626561636F6A_33059_39876\n",
      "6B76E28A-6FA2-48C9-8502-C1DAA388AB2C_12652_10372\n",
      "FDA50693-A4E2-4FB1-AFCF-C6EB07647825_10073_61418\n",
      "Please input target iBeacon UUID_MajorID_MinorID:\n",
      "6B76E28A-6FA2-48C9-8502-C1DAA388AB2C_43832_27674\n"
     ]
    },
    {
     "data": {
      "application/javascript": [
       "\n",
       "    async function download(id, filename, size) {\n",
       "      if (!google.colab.kernel.accessAllowed) {\n",
       "        return;\n",
       "      }\n",
       "      const div = document.createElement('div');\n",
       "      const label = document.createElement('label');\n",
       "      label.textContent = `Downloading \"${filename}\": `;\n",
       "      div.appendChild(label);\n",
       "      const progress = document.createElement('progress');\n",
       "      progress.max = size;\n",
       "      div.appendChild(progress);\n",
       "      document.body.appendChild(div);\n",
       "\n",
       "      const buffers = [];\n",
       "      let downloaded = 0;\n",
       "\n",
       "      const channel = await google.colab.kernel.comms.open(id);\n",
       "      // Send a message to notify the kernel that we're ready.\n",
       "      channel.send({})\n",
       "\n",
       "      for await (const message of channel.messages) {\n",
       "        // Send a message to notify the kernel that we're ready.\n",
       "        channel.send({})\n",
       "        if (message.buffers) {\n",
       "          for (const buffer of message.buffers) {\n",
       "            buffers.push(buffer);\n",
       "            downloaded += buffer.byteLength;\n",
       "            progress.value = downloaded;\n",
       "          }\n",
       "        }\n",
       "      }\n",
       "      const blob = new Blob(buffers, {type: 'application/binary'});\n",
       "      const a = document.createElement('a');\n",
       "      a.href = window.URL.createObjectURL(blob);\n",
       "      a.download = filename;\n",
       "      div.appendChild(a);\n",
       "      a.click();\n",
       "      div.remove();\n",
       "    }\n",
       "  "
      ],
      "text/plain": [
       "<IPython.core.display.Javascript object>"
      ]
     },
     "metadata": {},
     "output_type": "display_data"
    },
    {
     "data": {
      "application/javascript": [
       "download(\"download_90125540-2c6b-416e-a5b2-c0e8e7f710c3\", \"site2-F2.png\", 198689)"
      ],
      "text/plain": [
       "<IPython.core.display.Javascript object>"
      ]
     },
     "metadata": {},
     "output_type": "display_data"
    },
    {
     "name": "stdout",
     "output_type": "stream",
     "text": [
      "site2-F2.png saved\n",
      "\n",
      "site2  >  F5\n",
      "This floor has 30 iBeacons.\n",
      "Example 5 iBeacon UUID_MajorID_MinorIDs:\n",
      "\n",
      "975FB7E9-2181-FE7B-0000-0A50CE022927_6965_31876\n",
      "975FB7E9-1241-CE7C-0000-0A50CE022927_21776_264\n",
      "975FB7E9-2181-FE7B-9CED-84DD212A2927_718_20490\n",
      "975FB7E9-2181-FE7B-0000-0A50CE022927_6965_32130\n",
      "FDA50693-A4E2-4FB1-AFCF-C6EB07647825_10073_61418\n",
      "Please input target iBeacon UUID_MajorID_MinorID:\n",
      "975FB7E9-1241-CE7C-0000-0A50CE022927_21776_264\n"
     ]
    },
    {
     "data": {
      "application/javascript": [
       "\n",
       "    async function download(id, filename, size) {\n",
       "      if (!google.colab.kernel.accessAllowed) {\n",
       "        return;\n",
       "      }\n",
       "      const div = document.createElement('div');\n",
       "      const label = document.createElement('label');\n",
       "      label.textContent = `Downloading \"${filename}\": `;\n",
       "      div.appendChild(label);\n",
       "      const progress = document.createElement('progress');\n",
       "      progress.max = size;\n",
       "      div.appendChild(progress);\n",
       "      document.body.appendChild(div);\n",
       "\n",
       "      const buffers = [];\n",
       "      let downloaded = 0;\n",
       "\n",
       "      const channel = await google.colab.kernel.comms.open(id);\n",
       "      // Send a message to notify the kernel that we're ready.\n",
       "      channel.send({})\n",
       "\n",
       "      for await (const message of channel.messages) {\n",
       "        // Send a message to notify the kernel that we're ready.\n",
       "        channel.send({})\n",
       "        if (message.buffers) {\n",
       "          for (const buffer of message.buffers) {\n",
       "            buffers.push(buffer);\n",
       "            downloaded += buffer.byteLength;\n",
       "            progress.value = downloaded;\n",
       "          }\n",
       "        }\n",
       "      }\n",
       "      const blob = new Blob(buffers, {type: 'application/binary'});\n",
       "      const a = document.createElement('a');\n",
       "      a.href = window.URL.createObjectURL(blob);\n",
       "      a.download = filename;\n",
       "      div.appendChild(a);\n",
       "      a.click();\n",
       "      div.remove();\n",
       "    }\n",
       "  "
      ],
      "text/plain": [
       "<IPython.core.display.Javascript object>"
      ]
     },
     "metadata": {},
     "output_type": "display_data"
    },
    {
     "data": {
      "application/javascript": [
       "download(\"download_16a77133-5639-470b-8a0f-cc1aa600be6e\", \"site2-F5.png\", 183776)"
      ],
      "text/plain": [
       "<IPython.core.display.Javascript object>"
      ]
     },
     "metadata": {},
     "output_type": "display_data"
    },
    {
     "name": "stdout",
     "output_type": "stream",
     "text": [
      "site2-F5.png saved\n",
      "\n",
      "site2  >  F6\n",
      "This floor has 18 iBeacons.\n",
      "Example 5 iBeacon UUID_MajorID_MinorIDs:\n",
      "\n",
      "6B76E28A-6FA2-48C9-8502-C1DAA388AB2C_60326_39387\n",
      "AAAAAAAA-A4E2-4FB1-AFCF-FF4008866815_12360_40760\n",
      "6B76E28A-6FA2-48C9-8502-C1DAA388AB2C_5103_55553\n",
      "6B76E28A-6FA2-48C9-8502-C1DAA388AB2C_27292_47348\n",
      "6B76E28A-6FA2-48C9-8502-C1DAA388AB2C_17400_23398\n",
      "Please input target iBeacon UUID_MajorID_MinorID:\n",
      "6B76E28A-6FA2-48C9-8502-C1DAA388AB2C_60326_39387\n"
     ]
    },
    {
     "data": {
      "application/javascript": [
       "\n",
       "    async function download(id, filename, size) {\n",
       "      if (!google.colab.kernel.accessAllowed) {\n",
       "        return;\n",
       "      }\n",
       "      const div = document.createElement('div');\n",
       "      const label = document.createElement('label');\n",
       "      label.textContent = `Downloading \"${filename}\": `;\n",
       "      div.appendChild(label);\n",
       "      const progress = document.createElement('progress');\n",
       "      progress.max = size;\n",
       "      div.appendChild(progress);\n",
       "      document.body.appendChild(div);\n",
       "\n",
       "      const buffers = [];\n",
       "      let downloaded = 0;\n",
       "\n",
       "      const channel = await google.colab.kernel.comms.open(id);\n",
       "      // Send a message to notify the kernel that we're ready.\n",
       "      channel.send({})\n",
       "\n",
       "      for await (const message of channel.messages) {\n",
       "        // Send a message to notify the kernel that we're ready.\n",
       "        channel.send({})\n",
       "        if (message.buffers) {\n",
       "          for (const buffer of message.buffers) {\n",
       "            buffers.push(buffer);\n",
       "            downloaded += buffer.byteLength;\n",
       "            progress.value = downloaded;\n",
       "          }\n",
       "        }\n",
       "      }\n",
       "      const blob = new Blob(buffers, {type: 'application/binary'});\n",
       "      const a = document.createElement('a');\n",
       "      a.href = window.URL.createObjectURL(blob);\n",
       "      a.download = filename;\n",
       "      div.appendChild(a);\n",
       "      a.click();\n",
       "      div.remove();\n",
       "    }\n",
       "  "
      ],
      "text/plain": [
       "<IPython.core.display.Javascript object>"
      ]
     },
     "metadata": {},
     "output_type": "display_data"
    },
    {
     "data": {
      "application/javascript": [
       "download(\"download_eac27467-bfc4-4473-880c-fff5d83935fb\", \"site2-F6.png\", 190149)"
      ],
      "text/plain": [
       "<IPython.core.display.Javascript object>"
      ]
     },
     "metadata": {},
     "output_type": "display_data"
    },
    {
     "name": "stdout",
     "output_type": "stream",
     "text": [
      "site2-F6.png saved\n",
      "\n",
      "site2  >  F1\n",
      "This floor has 23 iBeacons.\n",
      "Example 5 iBeacon UUID_MajorID_MinorIDs:\n",
      "\n",
      "44A41250-97A4-E6CC-510E-F97F7ED6966B_50522_30374\n",
      "6B76E28A-6FA2-48C9-8502-C1DAA388AB2C_43832_27674\n",
      "548424DD-6040-EBF3-CC14-6AED5F37D1CA_29571_41742\n",
      "FDA50693-A4E2-4FB1-AFCF-C6EB07647825_10073_61418\n",
      "E7FC9D3C-EF01-4B70-B280-2CF6D50FA5CA_842_44348\n",
      "Please input target iBeacon UUID_MajorID_MinorID:\n",
      "E7FC9D3C-EF01-4B70-B280-2CF6D50FA5CA_842_44348\n"
     ]
    },
    {
     "data": {
      "application/javascript": [
       "\n",
       "    async function download(id, filename, size) {\n",
       "      if (!google.colab.kernel.accessAllowed) {\n",
       "        return;\n",
       "      }\n",
       "      const div = document.createElement('div');\n",
       "      const label = document.createElement('label');\n",
       "      label.textContent = `Downloading \"${filename}\": `;\n",
       "      div.appendChild(label);\n",
       "      const progress = document.createElement('progress');\n",
       "      progress.max = size;\n",
       "      div.appendChild(progress);\n",
       "      document.body.appendChild(div);\n",
       "\n",
       "      const buffers = [];\n",
       "      let downloaded = 0;\n",
       "\n",
       "      const channel = await google.colab.kernel.comms.open(id);\n",
       "      // Send a message to notify the kernel that we're ready.\n",
       "      channel.send({})\n",
       "\n",
       "      for await (const message of channel.messages) {\n",
       "        // Send a message to notify the kernel that we're ready.\n",
       "        channel.send({})\n",
       "        if (message.buffers) {\n",
       "          for (const buffer of message.buffers) {\n",
       "            buffers.push(buffer);\n",
       "            downloaded += buffer.byteLength;\n",
       "            progress.value = downloaded;\n",
       "          }\n",
       "        }\n",
       "      }\n",
       "      const blob = new Blob(buffers, {type: 'application/binary'});\n",
       "      const a = document.createElement('a');\n",
       "      a.href = window.URL.createObjectURL(blob);\n",
       "      a.download = filename;\n",
       "      div.appendChild(a);\n",
       "      a.click();\n",
       "      div.remove();\n",
       "    }\n",
       "  "
      ],
      "text/plain": [
       "<IPython.core.display.Javascript object>"
      ]
     },
     "metadata": {},
     "output_type": "display_data"
    },
    {
     "data": {
      "application/javascript": [
       "download(\"download_3965bf32-3072-468b-92ef-e6ce42dec422\", \"site2-F1.png\", 172532)"
      ],
      "text/plain": [
       "<IPython.core.display.Javascript object>"
      ]
     },
     "metadata": {},
     "output_type": "display_data"
    },
    {
     "name": "stdout",
     "output_type": "stream",
     "text": [
      "site2-F1.png saved\n",
      "\n",
      "site2  >  F3\n",
      "This floor has 11 iBeacons.\n",
      "Example 5 iBeacon UUID_MajorID_MinorIDs:\n",
      "\n",
      "F59EDB6A-F399-4C80-A759-D059BF84C96D_65520_4608\n",
      "FDA50693-A4E2-4FB1-AFCF-C6EB07647825_10073_61418\n",
      "FB349B5F-8000-0080-0010-00003CFE0000_17834_10672\n",
      "FB349B5F-8000-0080-0010-00003CFE0000_3280_41520\n",
      "9195B3AD-A9D0-4500-85FF-9FB0F65A5201_0_0\n",
      "Please input target iBeacon UUID_MajorID_MinorID:\n",
      "FDA50693-A4E2-4FB1-AFCF-C6EB07647825_10073_61418\n"
     ]
    },
    {
     "data": {
      "application/javascript": [
       "\n",
       "    async function download(id, filename, size) {\n",
       "      if (!google.colab.kernel.accessAllowed) {\n",
       "        return;\n",
       "      }\n",
       "      const div = document.createElement('div');\n",
       "      const label = document.createElement('label');\n",
       "      label.textContent = `Downloading \"${filename}\": `;\n",
       "      div.appendChild(label);\n",
       "      const progress = document.createElement('progress');\n",
       "      progress.max = size;\n",
       "      div.appendChild(progress);\n",
       "      document.body.appendChild(div);\n",
       "\n",
       "      const buffers = [];\n",
       "      let downloaded = 0;\n",
       "\n",
       "      const channel = await google.colab.kernel.comms.open(id);\n",
       "      // Send a message to notify the kernel that we're ready.\n",
       "      channel.send({})\n",
       "\n",
       "      for await (const message of channel.messages) {\n",
       "        // Send a message to notify the kernel that we're ready.\n",
       "        channel.send({})\n",
       "        if (message.buffers) {\n",
       "          for (const buffer of message.buffers) {\n",
       "            buffers.push(buffer);\n",
       "            downloaded += buffer.byteLength;\n",
       "            progress.value = downloaded;\n",
       "          }\n",
       "        }\n",
       "      }\n",
       "      const blob = new Blob(buffers, {type: 'application/binary'});\n",
       "      const a = document.createElement('a');\n",
       "      a.href = window.URL.createObjectURL(blob);\n",
       "      a.download = filename;\n",
       "      div.appendChild(a);\n",
       "      a.click();\n",
       "      div.remove();\n",
       "    }\n",
       "  "
      ],
      "text/plain": [
       "<IPython.core.display.Javascript object>"
      ]
     },
     "metadata": {},
     "output_type": "display_data"
    },
    {
     "data": {
      "application/javascript": [
       "download(\"download_54985fc1-e4ac-403e-bf8b-ee736bcd6e0a\", \"site2-F3.png\", 192541)"
      ],
      "text/plain": [
       "<IPython.core.display.Javascript object>"
      ]
     },
     "metadata": {},
     "output_type": "display_data"
    },
    {
     "name": "stdout",
     "output_type": "stream",
     "text": [
      "site2-F3.png saved\n",
      "\n",
      "site2  >  F7\n",
      "This floor has 15 iBeacons.\n",
      "Example 5 iBeacon UUID_MajorID_MinorIDs:\n",
      "\n",
      "6B76E28A-6FA2-48C9-8502-C1DAA388AB2C_20746_7371\n",
      "6B76E28A-6FA2-48C9-8502-C1DAA388AB2C_27292_47348\n",
      "6B76E28A-6FA2-48C9-8502-C1DAA388AB2C_35621_12090\n",
      "6B76E28A-6FA2-48C9-8502-C1DAA388AB2C_16628_21253\n",
      "6B76E28A-6FA2-48C9-8502-C1DAA388AB2C_23091_32467\n",
      "Please input target iBeacon UUID_MajorID_MinorID:\n",
      "6B76E28A-6FA2-48C9-8502-C1DAA388AB2C_20746_7371\n"
     ]
    },
    {
     "data": {
      "application/javascript": [
       "\n",
       "    async function download(id, filename, size) {\n",
       "      if (!google.colab.kernel.accessAllowed) {\n",
       "        return;\n",
       "      }\n",
       "      const div = document.createElement('div');\n",
       "      const label = document.createElement('label');\n",
       "      label.textContent = `Downloading \"${filename}\": `;\n",
       "      div.appendChild(label);\n",
       "      const progress = document.createElement('progress');\n",
       "      progress.max = size;\n",
       "      div.appendChild(progress);\n",
       "      document.body.appendChild(div);\n",
       "\n",
       "      const buffers = [];\n",
       "      let downloaded = 0;\n",
       "\n",
       "      const channel = await google.colab.kernel.comms.open(id);\n",
       "      // Send a message to notify the kernel that we're ready.\n",
       "      channel.send({})\n",
       "\n",
       "      for await (const message of channel.messages) {\n",
       "        // Send a message to notify the kernel that we're ready.\n",
       "        channel.send({})\n",
       "        if (message.buffers) {\n",
       "          for (const buffer of message.buffers) {\n",
       "            buffers.push(buffer);\n",
       "            downloaded += buffer.byteLength;\n",
       "            progress.value = downloaded;\n",
       "          }\n",
       "        }\n",
       "      }\n",
       "      const blob = new Blob(buffers, {type: 'application/binary'});\n",
       "      const a = document.createElement('a');\n",
       "      a.href = window.URL.createObjectURL(blob);\n",
       "      a.download = filename;\n",
       "      div.appendChild(a);\n",
       "      a.click();\n",
       "      div.remove();\n",
       "    }\n",
       "  "
      ],
      "text/plain": [
       "<IPython.core.display.Javascript object>"
      ]
     },
     "metadata": {},
     "output_type": "display_data"
    },
    {
     "data": {
      "application/javascript": [
       "download(\"download_731fa245-e53e-4c96-941c-13d8bd19dfdc\", \"site2-F7.png\", 174843)"
      ],
      "text/plain": [
       "<IPython.core.display.Javascript object>"
      ]
     },
     "metadata": {},
     "output_type": "display_data"
    },
    {
     "name": "stdout",
     "output_type": "stream",
     "text": [
      "site2-F7.png saved\n",
      "\n",
      "site2  >  F8\n",
      "This floor has 7 iBeacons.\n",
      "Example 5 iBeacon UUID_MajorID_MinorIDs:\n",
      "\n",
      "FDA50693-A4E2-4FB1-AFCF-C6EB07647825_10073_61418\n",
      "48F8C9EF-AEF9-482D-987F-3752F1C51DA1_17_11425\n",
      "FB349B5F-8000-0080-0010-00003CFE0000_1858_41996\n",
      "48F8C9EF-AEF9-482D-987F-3752F1C51DA1_22_16153\n",
      "6B76E28A-6FA2-48C9-8502-C1DAA388AB2C_5103_55553\n",
      "Please input target iBeacon UUID_MajorID_MinorID:\n",
      "FDA50693-A4E2-4FB1-AFCF-C6EB07647825_10073_61418\n"
     ]
    },
    {
     "data": {
      "application/javascript": [
       "\n",
       "    async function download(id, filename, size) {\n",
       "      if (!google.colab.kernel.accessAllowed) {\n",
       "        return;\n",
       "      }\n",
       "      const div = document.createElement('div');\n",
       "      const label = document.createElement('label');\n",
       "      label.textContent = `Downloading \"${filename}\": `;\n",
       "      div.appendChild(label);\n",
       "      const progress = document.createElement('progress');\n",
       "      progress.max = size;\n",
       "      div.appendChild(progress);\n",
       "      document.body.appendChild(div);\n",
       "\n",
       "      const buffers = [];\n",
       "      let downloaded = 0;\n",
       "\n",
       "      const channel = await google.colab.kernel.comms.open(id);\n",
       "      // Send a message to notify the kernel that we're ready.\n",
       "      channel.send({})\n",
       "\n",
       "      for await (const message of channel.messages) {\n",
       "        // Send a message to notify the kernel that we're ready.\n",
       "        channel.send({})\n",
       "        if (message.buffers) {\n",
       "          for (const buffer of message.buffers) {\n",
       "            buffers.push(buffer);\n",
       "            downloaded += buffer.byteLength;\n",
       "            progress.value = downloaded;\n",
       "          }\n",
       "        }\n",
       "      }\n",
       "      const blob = new Blob(buffers, {type: 'application/binary'});\n",
       "      const a = document.createElement('a');\n",
       "      a.href = window.URL.createObjectURL(blob);\n",
       "      a.download = filename;\n",
       "      div.appendChild(a);\n",
       "      a.click();\n",
       "      div.remove();\n",
       "    }\n",
       "  "
      ],
      "text/plain": [
       "<IPython.core.display.Javascript object>"
      ]
     },
     "metadata": {},
     "output_type": "display_data"
    },
    {
     "data": {
      "application/javascript": [
       "download(\"download_f9a407ac-a1af-497d-896d-1d6f217042e5\", \"site2-F8.png\", 155521)"
      ],
      "text/plain": [
       "<IPython.core.display.Javascript object>"
      ]
     },
     "metadata": {},
     "output_type": "display_data"
    },
    {
     "name": "stdout",
     "output_type": "stream",
     "text": [
      "site2-F8.png saved\n",
      "\n",
      "FINISHED\n"
     ]
    },
    {
     "data": {
      "image/png": "[encoded data removed]",
      "text/plain": [
       "<Figure size 432x288 with 2 Axes>"
      ]
     },
     "metadata": {
      "needs_background": "light"
     },
     "output_type": "display_data"
    }
   ],
   "source": [
    "save_dir = os.path.join('/content/drive/My Drive/Colab_Notebooks/indoor-location-competition-20-master/output', 'rss_ibeacon_wp')\n",
    "!mkdir save_dir\n",
    "data_dir = \"/content/drive/My Drive/Colab_Notebooks/indoor-location-competition-20-master/data/\"\n",
    "\n",
    "for site, floor in site_floors(data_dir):\n",
    "  print(site, ' > ', floor)\n",
    "\n",
    "  data_dir = os.path.join('/content/drive/My Drive/Colab_Notebooks/indoor-location-competition-20-master/data/', site, floor)\n",
    "  data_list = os.listdir(os.path.join(data_dir, \"path_data_files\"))\n",
    "  \n",
    "  json_dir = os.path.join(data_dir, 'floor_info.json')\n",
    "  with open(json_dir) as file:\n",
    "    mapinfo = json.load(file)['map_info']\n",
    "  map_height = mapinfo['height']\n",
    "  map_width = mapinfo['width']\n",
    "  # print(map_height)\n",
    "\n",
    "  beacon_data = defaultdict(list)\n",
    "  for filename in data_list:\n",
    "    # print(f'Processing file: {filename}...')\n",
    "    path_data      = read_data_file(os.path.join(data_dir, \"path_data_files\", filename))\n",
    "    accel_data     = path_data.acce\n",
    "    manet_data     = path_data.magn\n",
    "    rot_vec_data   = path_data.ahrs\n",
    "    ibeacon_datas  = path_data.ibeacon\n",
    "    pos_datas      = path_data.waypoint\n",
    "\n",
    "    # augmented_data = compute_step_positions(accel_data, rot_vec_data, pos_datas)\n",
    "\n",
    "    index_data = [{'ibeacon': defaultdict(list)} for _ in range(len(pos_datas))]\n",
    "    index_time = pos_datas[:, 0]\n",
    "    # print(index_time)\n",
    "\n",
    "    for ibeacon_data in ibeacon_datas:\n",
    "      tdiff = abs(index_time - int(ibeacon_data[0]))\n",
    "      arg_min = np.argmin(tdiff)  # INDEX of argmin\n",
    "      index_data[arg_min]['ibeacon'][ibeacon_data[1]].append(int(ibeacon_data[2]))\n",
    "      # print(index_data)\n",
    "\n",
    "    txt_data = [None] * len(pos_datas)\n",
    "    for index in range(len(index_time)):\n",
    "      t, x_pos, y_pos = pos_datas[index]\n",
    "\n",
    "      txt_data[index] = [t, x_pos, y_pos]\n",
    "      # print(waypoint[index])\n",
    "      ibeacons = index_data[index]['ibeacon']\n",
    "\n",
    "      txt_data[index].append(defaultdict(lambda: -100))\n",
    "      for bssid, rssis in ibeacons.items():\n",
    "        txt_data[index][-1][bssid] = sum(rssis) / len(rssis)\n",
    "\n",
    "    # print(txt_data)\n",
    "    save_path = os.path.join(save_dir, site + '-' + floor)\n",
    "\n",
    "    for tdata in txt_data:\n",
    "      x_pos, y_pos = tdata[1], tdata[2]\n",
    "      beacon_timestamp = tdata[3]\n",
    "      \n",
    "      for ummid, rssi in beacon_timestamp.items():\n",
    "        beacon_data[ummid].append((x_pos, y_pos, rssi))\n",
    "        # print(beacon_data[ummid])\n",
    "\n",
    "  print(f'This floor has {len(beacon_data)} iBeacons.')\n",
    "  print('Example 5 iBeacon UUID_MajorID_MinorIDs:\\n')\n",
    "  five_ibeacon_ummids = random.sample(beacon_data.keys(), 5)\n",
    "  for ummid in five_ibeacon_ummids:\n",
    "      print(ummid)\n",
    "  target_ibeacon = input(f\"Please input target iBeacon UUID_MajorID_MinorID:\\n\")\n",
    "  target_ibeacon_data = np.array(beacon_data[target_ibeacon])\n",
    "\n",
    "  img = mpimg.imread(os.path.join(data_dir, 'floor_image.png'))\n",
    "  plt.clf()\n",
    "  plt.imshow(img)\n",
    "  plt.title('iBeacon: \\n' + target_ibeacon)\n",
    "  mapscaler = (img.shape[0] / map_height + img.shape[1] / map_width) / 2\n",
    "  x = target_ibeacon_data[:, 0] * mapscaler\n",
    "  y = img.shape[0] - target_ibeacon_data[:, 1] * mapscaler\n",
    "  rssi_intensity = target_ibeacon_data[:, 2]\n",
    "\n",
    "  plt.scatter(x, y, c=rssi_intensity, s=5)\n",
    "  plt.colorbar()\n",
    "  plt.xticks((np.arange(25, map_width, 25) * mapscaler).astype('uint'), np.arange(25, map_width, 25).astype('uint'))\n",
    "  plt.yticks((img.shape[0] - np.arange(25, map_height, 25) * mapscaler).astype('uint'),\n",
    "              np.arange(25, map_height, 25).astype('uint'))\n",
    "  if save_path:\n",
    "    plt.savefig(f\"{site}-{floor}.png\", dpi=160)\n",
    "    files.download(f\"{site}-{floor}.png\") \n",
    "    print(f\"{site}-{floor}.png saved\\n\")\n",
    "\n",
    "  else:\n",
    "      plt.show()\n",
    "\n",
    "\n",
    "print(\"FINISHED\")"
   ]
  },
  {
   "cell_type": "markdown",
   "metadata": {
    "id": "YM4yGcNfINWm"
   },
   "source": [
    "## Compute_f.py"
   ]
  },
  {
   "cell_type": "code",
   "execution_count": 10,
   "metadata": {
    "executionInfo": {
     "elapsed": 832,
     "status": "ok",
     "timestamp": 1664688752834,
     "user": {
      "displayName": "Han Yong Chang",
      "userId": "01427371050759770652"
     },
     "user_tz": -480
    },
    "id": "HyG88TrAIHF3"
   },
   "outputs": [],
   "source": [
    "import numpy as np\n",
    "import scipy.signal as signal\n",
    "\n",
    "\n",
    "def split_ts_seq(ts_seq, sep_ts):\n",
    "    \"\"\"\n",
    "\n",
    "    :param ts_seq:\n",
    "    :param sep_ts:\n",
    "    :return:\n",
    "    \"\"\"\n",
    "    tss = ts_seq[:, 0].astype(float)\n",
    "    unique_sep_ts = np.unique(sep_ts)\n",
    "    ts_seqs = []\n",
    "    start_index = 0\n",
    "    for i in range(0, unique_sep_ts.shape[0]):\n",
    "        end_index = np.searchsorted(tss, unique_sep_ts[i], side='right')\n",
    "        if start_index == end_index:\n",
    "            continue\n",
    "        ts_seqs.append(ts_seq[start_index:end_index, :].copy())\n",
    "        start_index = end_index\n",
    "\n",
    "    # tail data\n",
    "    if start_index < ts_seq.shape[0]:\n",
    "        ts_seqs.append(ts_seq[start_index:, :].copy())\n",
    "\n",
    "    return ts_seqs\n",
    "\n",
    "\n",
    "def correct_trajectory(original_xys, end_xy):\n",
    "    \"\"\"\n",
    "\n",
    "    :param original_xys: numpy ndarray, shape(N, 2)\n",
    "    :param end_xy: numpy ndarray, shape(1, 2)\n",
    "    :return:\n",
    "    \"\"\"\n",
    "    corrected_xys = np.zeros((0, 2))\n",
    "\n",
    "    A = original_xys[0, :]\n",
    "    B = end_xy\n",
    "    Bp = original_xys[-1, :]\n",
    "\n",
    "    angle_BAX = np.arctan2(B[1] - A[1], B[0] - A[0])\n",
    "    angle_BpAX = np.arctan2(Bp[1] - A[1], Bp[0] - A[0])\n",
    "    angle_BpAB = angle_BpAX - angle_BAX\n",
    "    AB = np.sqrt(np.sum((B - A) ** 2))\n",
    "    ABp = np.sqrt(np.sum((Bp - A) ** 2))\n",
    "\n",
    "    corrected_xys = np.append(corrected_xys, [A], 0)\n",
    "    for i in np.arange(1, np.size(original_xys, 0)):\n",
    "        angle_CpAX = np.arctan2(original_xys[i, 1] - A[1], original_xys[i, 0] - A[0])\n",
    "\n",
    "        angle_CAX = angle_CpAX - angle_BpAB\n",
    "\n",
    "        ACp = np.sqrt(np.sum((original_xys[i, :] - A) ** 2))\n",
    "\n",
    "        AC = ACp * AB / ABp\n",
    "\n",
    "        delta_C = np.array([AC * np.cos(angle_CAX), AC * np.sin(angle_CAX)])\n",
    "\n",
    "        C = delta_C + A\n",
    "\n",
    "        corrected_xys = np.append(corrected_xys, [C], 0)\n",
    "\n",
    "    return corrected_xys\n",
    "\n",
    "\n",
    "def correct_positions(rel_positions, reference_positions):\n",
    "    \"\"\"\n",
    "\n",
    "    :param rel_positions:\n",
    "    :param reference_positions:\n",
    "    :return:\n",
    "    \"\"\"\n",
    "    rel_positions_list = split_ts_seq(rel_positions, reference_positions[:, 0])\n",
    "    if len(rel_positions_list) != reference_positions.shape[0] - 1:\n",
    "        # print(f'Rel positions list size: {len(rel_positions_list)}, ref positions size: {reference_positions.shape[0]}')\n",
    "        del rel_positions_list[-1]\n",
    "    assert len(rel_positions_list) == reference_positions.shape[0] - 1\n",
    "\n",
    "    corrected_positions = np.zeros((0, 3))\n",
    "    for i, rel_ps in enumerate(rel_positions_list):\n",
    "        start_position = reference_positions[i]\n",
    "        end_position = reference_positions[i + 1]\n",
    "        abs_ps = np.zeros(rel_ps.shape)\n",
    "        abs_ps[:, 0] = rel_ps[:, 0]\n",
    "        # abs_ps[:, 1:3] = rel_ps[:, 1:3] + start_position[1:3]\n",
    "        abs_ps[0, 1:3] = rel_ps[0, 1:3] + start_position[1:3]\n",
    "        for j in range(1, rel_ps.shape[0]):\n",
    "            abs_ps[j, 1:3] = abs_ps[j-1, 1:3] + rel_ps[j, 1:3]\n",
    "        abs_ps = np.insert(abs_ps, 0, start_position, axis=0)\n",
    "        corrected_xys = correct_trajectory(abs_ps[:, 1:3], end_position[1:3])\n",
    "        corrected_ps = np.column_stack((abs_ps[:, 0], corrected_xys))\n",
    "        if i == 0:\n",
    "            corrected_positions = np.append(corrected_positions, corrected_ps, axis=0)\n",
    "        else:\n",
    "            corrected_positions = np.append(corrected_positions, corrected_ps[1:], axis=0)\n",
    "\n",
    "    corrected_positions = np.array(corrected_positions)\n",
    "\n",
    "    return corrected_positions\n",
    "\n",
    "\n",
    "def init_parameters_filter(sample_freq, warmup_data, cut_off_freq=2):\n",
    "    order = 4\n",
    "    filter_b, filter_a = signal.butter(order, cut_off_freq / (sample_freq / 2), 'low', False)\n",
    "    zf = signal.lfilter_zi(filter_b, filter_a)\n",
    "    _, zf = signal.lfilter(filter_b, filter_a, warmup_data, zi=zf)\n",
    "    _, filter_zf = signal.lfilter(filter_b, filter_a, warmup_data, zi=zf)\n",
    "\n",
    "    return filter_b, filter_a, filter_zf\n",
    "\n",
    "\n",
    "def get_rotation_matrix_from_vector(rotation_vector):\n",
    "    q1 = rotation_vector[0]\n",
    "    q2 = rotation_vector[1]\n",
    "    q3 = rotation_vector[2]\n",
    "\n",
    "    if rotation_vector.size >= 4:\n",
    "        q0 = rotation_vector[3]\n",
    "    else:\n",
    "        q0 = 1 - q1*q1 - q2*q2 - q3*q3\n",
    "        if q0 > 0:\n",
    "            q0 = np.sqrt(q0)\n",
    "        else:\n",
    "            q0 = 0\n",
    "\n",
    "    sq_q1 = 2 * q1 * q1\n",
    "    sq_q2 = 2 * q2 * q2\n",
    "    sq_q3 = 2 * q3 * q3\n",
    "    q1_q2 = 2 * q1 * q2\n",
    "    q3_q0 = 2 * q3 * q0\n",
    "    q1_q3 = 2 * q1 * q3\n",
    "    q2_q0 = 2 * q2 * q0\n",
    "    q2_q3 = 2 * q2 * q3\n",
    "    q1_q0 = 2 * q1 * q0\n",
    "\n",
    "    R = np.zeros((9,))\n",
    "    if R.size == 9:\n",
    "        R[0] = 1 - sq_q2 - sq_q3\n",
    "        R[1] = q1_q2 - q3_q0\n",
    "        R[2] = q1_q3 + q2_q0\n",
    "\n",
    "        R[3] = q1_q2 + q3_q0\n",
    "        R[4] = 1 - sq_q1 - sq_q3\n",
    "        R[5] = q2_q3 - q1_q0\n",
    "\n",
    "        R[6] = q1_q3 - q2_q0\n",
    "        R[7] = q2_q3 + q1_q0\n",
    "        R[8] = 1 - sq_q1 - sq_q2\n",
    "\n",
    "        R = np.reshape(R, (3, 3))\n",
    "    elif R.size == 16:\n",
    "        R[0] = 1 - sq_q2 - sq_q3\n",
    "        R[1] = q1_q2 - q3_q0\n",
    "        R[2] = q1_q3 + q2_q0\n",
    "        R[3] = 0.0\n",
    "\n",
    "        R[4] = q1_q2 + q3_q0\n",
    "        R[5] = 1 - sq_q1 - sq_q3\n",
    "        R[6] = q2_q3 - q1_q0\n",
    "        R[7] = 0.0\n",
    "\n",
    "        R[8] = q1_q3 - q2_q0\n",
    "        R[9] = q2_q3 + q1_q0\n",
    "        R[10] = 1 - sq_q1 - sq_q2\n",
    "        R[11] = 0.0\n",
    "\n",
    "        R[12] = R[13] = R[14] = 0.0\n",
    "        R[15] = 1.0\n",
    "\n",
    "        R = np.reshape(R, (4, 4))\n",
    "\n",
    "    return R\n",
    "\n",
    "\n",
    "def get_orientation(R):\n",
    "    flat_R = R.flatten()\n",
    "    values = np.zeros((3,))\n",
    "    if np.size(flat_R) == 9:\n",
    "        values[0] = np.arctan2(flat_R[1], flat_R[4])\n",
    "        values[1] = np.arcsin(-flat_R[7])\n",
    "        values[2] = np.arctan2(-flat_R[6], flat_R[8])\n",
    "    else:\n",
    "        values[0] = np.arctan2(flat_R[1], flat_R[5])\n",
    "        values[1] = np.arcsin(-flat_R[9])\n",
    "        values[2] = np.arctan2(-flat_R[8], flat_R[10])\n",
    "\n",
    "    return values\n",
    "\n",
    "\n",
    "def compute_steps(acce_datas):\n",
    "    step_timestamps = np.array([])\n",
    "    step_indexs = np.array([], dtype=int)\n",
    "    step_acce_max_mins = np.zeros((0, 4))\n",
    "    sample_freq = 50\n",
    "    window_size = 22\n",
    "    low_acce_mag = 0.6\n",
    "    step_criterion = 1\n",
    "    interval_threshold = 250\n",
    "\n",
    "    acce_max = np.zeros((2,))\n",
    "    acce_min = np.zeros((2,))\n",
    "    acce_binarys = np.zeros((window_size,), dtype=int)\n",
    "    acce_mag_pre = 0\n",
    "    state_flag = 0\n",
    "\n",
    "    warmup_data = np.ones((window_size,)) * 9.81\n",
    "    filter_b, filter_a, filter_zf = init_parameters_filter(sample_freq, warmup_data)\n",
    "    acce_mag_window = np.zeros((window_size, 1))\n",
    "\n",
    "    # detect steps according to acceleration magnitudes\n",
    "    for i in np.arange(0, np.size(acce_datas, 0)):\n",
    "        acce_data = acce_datas[i, :]\n",
    "        acce_mag = np.sqrt(np.sum(acce_data[1:] ** 2))\n",
    "\n",
    "        acce_mag_filt, filter_zf = signal.lfilter(filter_b, filter_a, [acce_mag], zi=filter_zf)\n",
    "        acce_mag_filt = acce_mag_filt[0]\n",
    "\n",
    "        acce_mag_window = np.append(acce_mag_window, [acce_mag_filt])\n",
    "        acce_mag_window = np.delete(acce_mag_window, 0)\n",
    "        mean_gravity = np.mean(acce_mag_window)\n",
    "        acce_std = np.std(acce_mag_window)\n",
    "        mag_threshold = np.max([low_acce_mag, 0.4 * acce_std])\n",
    "\n",
    "        # detect valid peak or valley of acceleration magnitudes\n",
    "        acce_mag_filt_detrend = acce_mag_filt - mean_gravity\n",
    "        if acce_mag_filt_detrend > np.max([acce_mag_pre, mag_threshold]):\n",
    "            # peak\n",
    "            acce_binarys = np.append(acce_binarys, [1])\n",
    "            acce_binarys = np.delete(acce_binarys, 0)\n",
    "        elif acce_mag_filt_detrend < np.min([acce_mag_pre, -mag_threshold]):\n",
    "            # valley\n",
    "            acce_binarys = np.append(acce_binarys, [-1])\n",
    "            acce_binarys = np.delete(acce_binarys, 0)\n",
    "        else:\n",
    "            # between peak and valley\n",
    "            acce_binarys = np.append(acce_binarys, [0])\n",
    "            acce_binarys = np.delete(acce_binarys, 0)\n",
    "\n",
    "        if (acce_binarys[-1] == 0) and (acce_binarys[-2] == 1):\n",
    "            if state_flag == 0:\n",
    "                acce_max[:] = acce_data[0], acce_mag_filt\n",
    "                state_flag = 1\n",
    "            elif (state_flag == 1) and ((acce_data[0] - acce_max[0]) <= interval_threshold) and (\n",
    "                    acce_mag_filt > acce_max[1]):\n",
    "                acce_max[:] = acce_data[0], acce_mag_filt\n",
    "            elif (state_flag == 2) and ((acce_data[0] - acce_max[0]) > interval_threshold):\n",
    "                acce_max[:] = acce_data[0], acce_mag_filt\n",
    "                state_flag = 1\n",
    "\n",
    "        # choose reasonable step criterion and check if there is a valid step\n",
    "        # save step acceleration data: step_acce_max_mins = [timestamp, max, min, variance]\n",
    "        step_flag = False\n",
    "        if step_criterion == 2:\n",
    "            if (acce_binarys[-1] == -1) and ((acce_binarys[-2] == 1) or (acce_binarys[-2] == 0)):\n",
    "                step_flag = True\n",
    "        elif step_criterion == 3:\n",
    "            if (acce_binarys[-1] == -1) and (acce_binarys[-2] == 0) and (np.sum(acce_binarys[:-2]) > 1):\n",
    "                step_flag = True\n",
    "        else:\n",
    "            if (acce_binarys[-1] == 0) and acce_binarys[-2] == -1:\n",
    "                if (state_flag == 1) and ((acce_data[0] - acce_min[0]) > interval_threshold):\n",
    "                    acce_min[:] = acce_data[0], acce_mag_filt\n",
    "                    state_flag = 2\n",
    "                    step_flag = True\n",
    "                elif (state_flag == 2) and ((acce_data[0] - acce_min[0]) <= interval_threshold) and (\n",
    "                        acce_mag_filt < acce_min[1]):\n",
    "                    acce_min[:] = acce_data[0], acce_mag_filt\n",
    "        if step_flag:\n",
    "            step_timestamps = np.append(step_timestamps, acce_data[0])\n",
    "            step_indexs = np.append(step_indexs, [i])\n",
    "            step_acce_max_mins = np.append(step_acce_max_mins,\n",
    "                                           [[acce_data[0], acce_max[1], acce_min[1], acce_std ** 2]], axis=0)\n",
    "        acce_mag_pre = acce_mag_filt_detrend\n",
    "\n",
    "    return step_timestamps, step_indexs, step_acce_max_mins\n",
    "\n",
    "\n",
    "def compute_stride_length(step_acce_max_mins):\n",
    "    K = 0.4\n",
    "    K_max = 0.8\n",
    "    K_min = 0.4\n",
    "    para_a0 = 0.21468084\n",
    "    para_a1 = 0.09154517\n",
    "    para_a2 = 0.02301998\n",
    "\n",
    "    stride_lengths = np.zeros((step_acce_max_mins.shape[0], 2))\n",
    "    k_real = np.zeros((step_acce_max_mins.shape[0], 2))\n",
    "    step_timeperiod = np.zeros((step_acce_max_mins.shape[0] - 1, ))\n",
    "    stride_lengths[:, 0] = step_acce_max_mins[:, 0]\n",
    "    window_size = 2\n",
    "    step_timeperiod_temp = np.zeros((0, ))\n",
    "\n",
    "    # calculate every step period - step_timeperiod unit: second\n",
    "    for i in range(0, step_timeperiod.shape[0]):\n",
    "        step_timeperiod_data = (step_acce_max_mins[i + 1, 0] - step_acce_max_mins[i, 0]) / 1000\n",
    "        step_timeperiod_temp = np.append(step_timeperiod_temp, [step_timeperiod_data])\n",
    "        if step_timeperiod_temp.shape[0] > window_size:\n",
    "            step_timeperiod_temp = np.delete(step_timeperiod_temp, [0])\n",
    "        step_timeperiod[i] = np.sum(step_timeperiod_temp) / step_timeperiod_temp.shape[0]\n",
    "\n",
    "    # calculate parameters by step period and acceleration magnitude variance\n",
    "    k_real[:, 0] = step_acce_max_mins[:, 0]\n",
    "    k_real[0, 1] = K\n",
    "    for i in range(0, step_timeperiod.shape[0]):\n",
    "        k_real[i + 1, 1] = np.max([(para_a0 + para_a1 / step_timeperiod[i] + para_a2 * step_acce_max_mins[i, 3]), K_min])\n",
    "        k_real[i + 1, 1] = np.min([k_real[i + 1, 1], K_max]) * (K / K_min)\n",
    "\n",
    "    # calculate every stride length by parameters and max and min data of acceleration magnitude\n",
    "    stride_lengths[:, 1] = np.max([(step_acce_max_mins[:, 1] - step_acce_max_mins[:, 2]),\n",
    "                                   np.ones((step_acce_max_mins.shape[0], ))], axis=0)**(1 / 4) * k_real[:, 1]\n",
    "\n",
    "    return stride_lengths\n",
    "\n",
    "\n",
    "def compute_headings(ahrs_datas):\n",
    "    headings = np.zeros((np.size(ahrs_datas, 0), 2))\n",
    "    for i in np.arange(0, np.size(ahrs_datas, 0)):\n",
    "        ahrs_data = ahrs_datas[i, :]\n",
    "        rot_mat = get_rotation_matrix_from_vector(ahrs_data[1:])\n",
    "        azimuth, pitch, roll = get_orientation(rot_mat)\n",
    "        around_z = (-azimuth) % (2 * np.pi)\n",
    "        headings[i, :] = ahrs_data[0], around_z\n",
    "    return headings\n",
    "\n",
    "\n",
    "def compute_step_heading(step_timestamps, headings):\n",
    "    step_headings = np.zeros((len(step_timestamps), 2))\n",
    "    step_timestamps_index = 0\n",
    "    for i in range(0, len(headings)):\n",
    "        if step_timestamps_index < len(step_timestamps):\n",
    "            if headings[i, 0] == step_timestamps[step_timestamps_index]:\n",
    "                step_headings[step_timestamps_index, :] = headings[i, :]\n",
    "                step_timestamps_index += 1\n",
    "        else:\n",
    "            break\n",
    "    assert step_timestamps_index == len(step_timestamps)\n",
    "\n",
    "    return step_headings\n",
    "\n",
    "\n",
    "def compute_rel_positions(stride_lengths, step_headings):\n",
    "    rel_positions = np.zeros((stride_lengths.shape[0], 3))\n",
    "    for i in range(0, stride_lengths.shape[0]):\n",
    "        rel_positions[i, 0] = stride_lengths[i, 0]\n",
    "        rel_positions[i, 1] = -stride_lengths[i, 1] * np.sin(step_headings[i, 1])\n",
    "        rel_positions[i, 2] = stride_lengths[i, 1] * np.cos(step_headings[i, 1])\n",
    "\n",
    "    return rel_positions\n",
    "\n",
    "\n",
    "def compute_step_positions(acce_datas, ahrs_datas, posi_datas):\n",
    "    step_timestamps, step_indexs, step_acce_max_mins = compute_steps(acce_datas)\n",
    "    headings = compute_headings(ahrs_datas)\n",
    "    stride_lengths = compute_stride_length(step_acce_max_mins)\n",
    "    step_headings = compute_step_heading(step_timestamps, headings)\n",
    "    rel_positions = compute_rel_positions(stride_lengths, step_headings)\n",
    "    step_positions = correct_positions(rel_positions, posi_datas)\n",
    "\n",
    "    return step_positions"
   ]
  },
  {
   "cell_type": "markdown",
   "metadata": {
    "id": "-enZa2nICwvF"
   },
   "source": [
    "## Visualize iBeacon RSSI with accelerometer, rotation vectors and waypoints "
   ]
  },
  {
   "cell_type": "code",
   "execution_count": 12,
   "metadata": {
    "colab": {
     "base_uri": "https://localhost:8080/",
     "height": 1000
    },
    "executionInfo": {
     "elapsed": 675217,
     "status": "ok",
     "timestamp": 1664689962879,
     "user": {
      "displayName": "Han Yong Chang",
      "userId": "01427371050759770652"
     },
     "user_tz": -480
    },
    "id": "R4_CTTNt2HUj",
    "outputId": "9f74a8ad-f6b9-494a-dd4e-be5207d8f403"
   },
   "outputs": [
    {
     "name": "stdout",
     "output_type": "stream",
     "text": [
      "mkdir: cannot create directory ‘save_dir’: File exists\n",
      "site1  >  B1\n",
      "This floor has 55 iBeacons.\n",
      "Example 5 iBeacon UUID_MajorID_MinorIDs:\n",
      "\n",
      "6B76E28A-6FA2-48C9-8502-C1DAA388AB2C_24852_14250\n",
      "9195B3AD-A9D0-4500-85FF-9FB0F65A5201_0_0\n",
      "616C6970-6179-626F-7869-626561636F6A_17156_56179\n",
      "616C6970-6179-626F-7869-626561636F6A_49662_37272\n",
      "6B76E28A-6FA2-48C9-8502-C1DAA388AB2C_55834_41274\n",
      "Please input target iBeacon UUID_MajorID_MinorID:\n",
      "FDA50693-A4E2-4FB1-AFCF-C6EB07647825_10065_26049\n"
     ]
    },
    {
     "data": {
      "application/javascript": [
       "\n",
       "    async function download(id, filename, size) {\n",
       "      if (!google.colab.kernel.accessAllowed) {\n",
       "        return;\n",
       "      }\n",
       "      const div = document.createElement('div');\n",
       "      const label = document.createElement('label');\n",
       "      label.textContent = `Downloading \"${filename}\": `;\n",
       "      div.appendChild(label);\n",
       "      const progress = document.createElement('progress');\n",
       "      progress.max = size;\n",
       "      div.appendChild(progress);\n",
       "      document.body.appendChild(div);\n",
       "\n",
       "      const buffers = [];\n",
       "      let downloaded = 0;\n",
       "\n",
       "      const channel = await google.colab.kernel.comms.open(id);\n",
       "      // Send a message to notify the kernel that we're ready.\n",
       "      channel.send({})\n",
       "\n",
       "      for await (const message of channel.messages) {\n",
       "        // Send a message to notify the kernel that we're ready.\n",
       "        channel.send({})\n",
       "        if (message.buffers) {\n",
       "          for (const buffer of message.buffers) {\n",
       "            buffers.push(buffer);\n",
       "            downloaded += buffer.byteLength;\n",
       "            progress.value = downloaded;\n",
       "          }\n",
       "        }\n",
       "      }\n",
       "      const blob = new Blob(buffers, {type: 'application/binary'});\n",
       "      const a = document.createElement('a');\n",
       "      a.href = window.URL.createObjectURL(blob);\n",
       "      a.download = filename;\n",
       "      div.appendChild(a);\n",
       "      a.click();\n",
       "      div.remove();\n",
       "    }\n",
       "  "
      ],
      "text/plain": [
       "<IPython.core.display.Javascript object>"
      ]
     },
     "metadata": {},
     "output_type": "display_data"
    },
    {
     "data": {
      "application/javascript": [
       "download(\"download_9f3356a9-f4e4-4937-a32d-80e5aaedcbff\", \"site1-B1.png\", 320689)"
      ],
      "text/plain": [
       "<IPython.core.display.Javascript object>"
      ]
     },
     "metadata": {},
     "output_type": "display_data"
    },
    {
     "name": "stdout",
     "output_type": "stream",
     "text": [
      "site1-B1.png saved\n",
      "\n",
      "site1  >  F2\n",
      "This floor has 16 iBeacons.\n",
      "Example 5 iBeacon UUID_MajorID_MinorIDs:\n",
      "\n",
      "6B76E28A-6FA2-48C9-8502-C1DAA388AB2C_47237_15305\n",
      "9195B3AD-A9D0-4500-85FF-9FB0F65A5201_0_0\n",
      "07A50693-A4E2-4FB1-AFCF-201707181336_10004_6119\n",
      "616C6970-6179-626F-7869-626561636F6A_49662_37272\n",
      "48F8C9EF-AEF9-482D-987F-3752F1C51DA1_22_40969\n",
      "Please input target iBeacon UUID_MajorID_MinorID:\n",
      "07A50693-A4E2-4FB1-AFCF-201707181336_10004_6119\n"
     ]
    },
    {
     "data": {
      "application/javascript": [
       "\n",
       "    async function download(id, filename, size) {\n",
       "      if (!google.colab.kernel.accessAllowed) {\n",
       "        return;\n",
       "      }\n",
       "      const div = document.createElement('div');\n",
       "      const label = document.createElement('label');\n",
       "      label.textContent = `Downloading \"${filename}\": `;\n",
       "      div.appendChild(label);\n",
       "      const progress = document.createElement('progress');\n",
       "      progress.max = size;\n",
       "      div.appendChild(progress);\n",
       "      document.body.appendChild(div);\n",
       "\n",
       "      const buffers = [];\n",
       "      let downloaded = 0;\n",
       "\n",
       "      const channel = await google.colab.kernel.comms.open(id);\n",
       "      // Send a message to notify the kernel that we're ready.\n",
       "      channel.send({})\n",
       "\n",
       "      for await (const message of channel.messages) {\n",
       "        // Send a message to notify the kernel that we're ready.\n",
       "        channel.send({})\n",
       "        if (message.buffers) {\n",
       "          for (const buffer of message.buffers) {\n",
       "            buffers.push(buffer);\n",
       "            downloaded += buffer.byteLength;\n",
       "            progress.value = downloaded;\n",
       "          }\n",
       "        }\n",
       "      }\n",
       "      const blob = new Blob(buffers, {type: 'application/binary'});\n",
       "      const a = document.createElement('a');\n",
       "      a.href = window.URL.createObjectURL(blob);\n",
       "      a.download = filename;\n",
       "      div.appendChild(a);\n",
       "      a.click();\n",
       "      div.remove();\n",
       "    }\n",
       "  "
      ],
      "text/plain": [
       "<IPython.core.display.Javascript object>"
      ]
     },
     "metadata": {},
     "output_type": "display_data"
    },
    {
     "data": {
      "application/javascript": [
       "download(\"download_c299842d-329a-49bc-ba1f-66c89e85bc19\", \"site1-F2.png\", 202922)"
      ],
      "text/plain": [
       "<IPython.core.display.Javascript object>"
      ]
     },
     "metadata": {},
     "output_type": "display_data"
    },
    {
     "name": "stdout",
     "output_type": "stream",
     "text": [
      "site1-F2.png saved\n",
      "\n",
      "site1  >  F1\n",
      "This floor has 20 iBeacons.\n",
      "Example 5 iBeacon UUID_MajorID_MinorIDs:\n",
      "\n",
      "3C3493F1-997A-D187-0AD6-FB5A8D4EFA63_30242_6415\n",
      "07A50693-A4E2-4FB1-AFCF-201707181336_10004_6119\n",
      "6B76E28A-6FA2-48C9-8502-C1DAA388AB2C_45850_14031\n",
      "6B76E28A-6FA2-48C9-8502-C1DAA388AB2C_6269_6410\n",
      "6B76E28A-6FA2-48C9-8502-C1DAA388AB2C_51635_15211\n",
      "Please input target iBeacon UUID_MajorID_MinorID:\n",
      "6B76E28A-6FA2-48C9-8502-C1DAA388AB2C_25440_53472\n"
     ]
    },
    {
     "data": {
      "application/javascript": [
       "\n",
       "    async function download(id, filename, size) {\n",
       "      if (!google.colab.kernel.accessAllowed) {\n",
       "        return;\n",
       "      }\n",
       "      const div = document.createElement('div');\n",
       "      const label = document.createElement('label');\n",
       "      label.textContent = `Downloading \"${filename}\": `;\n",
       "      div.appendChild(label);\n",
       "      const progress = document.createElement('progress');\n",
       "      progress.max = size;\n",
       "      div.appendChild(progress);\n",
       "      document.body.appendChild(div);\n",
       "\n",
       "      const buffers = [];\n",
       "      let downloaded = 0;\n",
       "\n",
       "      const channel = await google.colab.kernel.comms.open(id);\n",
       "      // Send a message to notify the kernel that we're ready.\n",
       "      channel.send({})\n",
       "\n",
       "      for await (const message of channel.messages) {\n",
       "        // Send a message to notify the kernel that we're ready.\n",
       "        channel.send({})\n",
       "        if (message.buffers) {\n",
       "          for (const buffer of message.buffers) {\n",
       "            buffers.push(buffer);\n",
       "            downloaded += buffer.byteLength;\n",
       "            progress.value = downloaded;\n",
       "          }\n",
       "        }\n",
       "      }\n",
       "      const blob = new Blob(buffers, {type: 'application/binary'});\n",
       "      const a = document.createElement('a');\n",
       "      a.href = window.URL.createObjectURL(blob);\n",
       "      a.download = filename;\n",
       "      div.appendChild(a);\n",
       "      a.click();\n",
       "      div.remove();\n",
       "    }\n",
       "  "
      ],
      "text/plain": [
       "<IPython.core.display.Javascript object>"
      ]
     },
     "metadata": {},
     "output_type": "display_data"
    },
    {
     "data": {
      "application/javascript": [
       "download(\"download_364cb7d4-dfd3-4ee0-941a-0a9a31cc892a\", \"site1-F1.png\", 190485)"
      ],
      "text/plain": [
       "<IPython.core.display.Javascript object>"
      ]
     },
     "metadata": {},
     "output_type": "display_data"
    },
    {
     "name": "stdout",
     "output_type": "stream",
     "text": [
      "site1-F1.png saved\n",
      "\n",
      "site1  >  F4\n",
      "This floor has 12 iBeacons.\n",
      "Example 5 iBeacon UUID_MajorID_MinorIDs:\n",
      "\n",
      "6B76E28A-6FA2-48C9-8502-C1DAA388AB2C_5337_45415\n",
      "6B76E28A-6FA2-48C9-8502-C1DAA388AB2C_19018_35270\n",
      "48F8C9EF-AEF9-482D-987F-3752F1C51DA1_20_31450\n",
      "FDA50693-A4E2-4FB1-AFCF-C6EB07647825_10073_61418\n",
      "6B76E28A-6FA2-48C9-8502-C1DAA388AB2C_63696_1776\n",
      "Please input target iBeacon UUID_MajorID_MinorID:\n",
      "6B76E28A-6FA2-48C9-8502-C1DAA388AB2C_64096_25388\n"
     ]
    },
    {
     "data": {
      "application/javascript": [
       "\n",
       "    async function download(id, filename, size) {\n",
       "      if (!google.colab.kernel.accessAllowed) {\n",
       "        return;\n",
       "      }\n",
       "      const div = document.createElement('div');\n",
       "      const label = document.createElement('label');\n",
       "      label.textContent = `Downloading \"${filename}\": `;\n",
       "      div.appendChild(label);\n",
       "      const progress = document.createElement('progress');\n",
       "      progress.max = size;\n",
       "      div.appendChild(progress);\n",
       "      document.body.appendChild(div);\n",
       "\n",
       "      const buffers = [];\n",
       "      let downloaded = 0;\n",
       "\n",
       "      const channel = await google.colab.kernel.comms.open(id);\n",
       "      // Send a message to notify the kernel that we're ready.\n",
       "      channel.send({})\n",
       "\n",
       "      for await (const message of channel.messages) {\n",
       "        // Send a message to notify the kernel that we're ready.\n",
       "        channel.send({})\n",
       "        if (message.buffers) {\n",
       "          for (const buffer of message.buffers) {\n",
       "            buffers.push(buffer);\n",
       "            downloaded += buffer.byteLength;\n",
       "            progress.value = downloaded;\n",
       "          }\n",
       "        }\n",
       "      }\n",
       "      const blob = new Blob(buffers, {type: 'application/binary'});\n",
       "      const a = document.createElement('a');\n",
       "      a.href = window.URL.createObjectURL(blob);\n",
       "      a.download = filename;\n",
       "      div.appendChild(a);\n",
       "      a.click();\n",
       "      div.remove();\n",
       "    }\n",
       "  "
      ],
      "text/plain": [
       "<IPython.core.display.Javascript object>"
      ]
     },
     "metadata": {},
     "output_type": "display_data"
    },
    {
     "data": {
      "application/javascript": [
       "download(\"download_0479e981-09c8-43e4-a0cc-55052f1e8e92\", \"site1-F4.png\", 182178)"
      ],
      "text/plain": [
       "<IPython.core.display.Javascript object>"
      ]
     },
     "metadata": {},
     "output_type": "display_data"
    },
    {
     "name": "stdout",
     "output_type": "stream",
     "text": [
      "site1-F4.png saved\n",
      "\n",
      "site1  >  F3\n",
      "This floor has 14 iBeacons.\n",
      "Example 5 iBeacon UUID_MajorID_MinorIDs:\n",
      "\n",
      "A49CD9E0-E367-59D2-4FD4-1DE0557702D8_44413_58550\n",
      "FDA50693-A4E2-4FB1-AFCF-C6EB07647825_10073_61418\n",
      "6B76E28A-6FA2-48C9-8502-C1DAA388AB2C_28017_63988\n",
      "E7FC9D3C-EF01-4B70-B280-2CF6D50FA5CA_43336_37672\n",
      "616C6970-6179-626F-7869-626561636F6A_28214_49911\n",
      "Please input target iBeacon UUID_MajorID_MinorID:\n",
      "48F8C9EF-AEF9-482D-987F-3752F1C51DA1_22_40969\n"
     ]
    },
    {
     "data": {
      "application/javascript": [
       "\n",
       "    async function download(id, filename, size) {\n",
       "      if (!google.colab.kernel.accessAllowed) {\n",
       "        return;\n",
       "      }\n",
       "      const div = document.createElement('div');\n",
       "      const label = document.createElement('label');\n",
       "      label.textContent = `Downloading \"${filename}\": `;\n",
       "      div.appendChild(label);\n",
       "      const progress = document.createElement('progress');\n",
       "      progress.max = size;\n",
       "      div.appendChild(progress);\n",
       "      document.body.appendChild(div);\n",
       "\n",
       "      const buffers = [];\n",
       "      let downloaded = 0;\n",
       "\n",
       "      const channel = await google.colab.kernel.comms.open(id);\n",
       "      // Send a message to notify the kernel that we're ready.\n",
       "      channel.send({})\n",
       "\n",
       "      for await (const message of channel.messages) {\n",
       "        // Send a message to notify the kernel that we're ready.\n",
       "        channel.send({})\n",
       "        if (message.buffers) {\n",
       "          for (const buffer of message.buffers) {\n",
       "            buffers.push(buffer);\n",
       "            downloaded += buffer.byteLength;\n",
       "            progress.value = downloaded;\n",
       "          }\n",
       "        }\n",
       "      }\n",
       "      const blob = new Blob(buffers, {type: 'application/binary'});\n",
       "      const a = document.createElement('a');\n",
       "      a.href = window.URL.createObjectURL(blob);\n",
       "      a.download = filename;\n",
       "      div.appendChild(a);\n",
       "      a.click();\n",
       "      div.remove();\n",
       "    }\n",
       "  "
      ],
      "text/plain": [
       "<IPython.core.display.Javascript object>"
      ]
     },
     "metadata": {},
     "output_type": "display_data"
    },
    {
     "data": {
      "application/javascript": [
       "download(\"download_b1eac7ac-7d20-4425-a0b4-06ec61adbf22\", \"site1-F3.png\", 194559)"
      ],
      "text/plain": [
       "<IPython.core.display.Javascript object>"
      ]
     },
     "metadata": {},
     "output_type": "display_data"
    },
    {
     "name": "stdout",
     "output_type": "stream",
     "text": [
      "site1-F3.png saved\n",
      "\n",
      "site2  >  B1\n",
      "This floor has 27 iBeacons.\n",
      "Example 5 iBeacon UUID_MajorID_MinorIDs:\n",
      "\n",
      "FDA50693-A4E2-4FB1-AFCF-C6EB07647825_10065_26049\n",
      "E7FC9D3C-EF01-4B70-B280-2CF6D50FA5CA_25548_35325\n",
      "FB349B5F-8000-0080-0010-00003CFE0000_6245_47538\n",
      "FDA50693-A4E2-4FB1-AFCF-C6EB07647825_10073_61418\n",
      "FDA50693-A4E2-4FB1-AFCF-C6EB07647825_10187_64102\n",
      "Please input target iBeacon UUID_MajorID_MinorID:\n",
      "616C6970-6179-626F-7869-626561636F6A_50880_9290\n"
     ]
    },
    {
     "data": {
      "application/javascript": [
       "\n",
       "    async function download(id, filename, size) {\n",
       "      if (!google.colab.kernel.accessAllowed) {\n",
       "        return;\n",
       "      }\n",
       "      const div = document.createElement('div');\n",
       "      const label = document.createElement('label');\n",
       "      label.textContent = `Downloading \"${filename}\": `;\n",
       "      div.appendChild(label);\n",
       "      const progress = document.createElement('progress');\n",
       "      progress.max = size;\n",
       "      div.appendChild(progress);\n",
       "      document.body.appendChild(div);\n",
       "\n",
       "      const buffers = [];\n",
       "      let downloaded = 0;\n",
       "\n",
       "      const channel = await google.colab.kernel.comms.open(id);\n",
       "      // Send a message to notify the kernel that we're ready.\n",
       "      channel.send({})\n",
       "\n",
       "      for await (const message of channel.messages) {\n",
       "        // Send a message to notify the kernel that we're ready.\n",
       "        channel.send({})\n",
       "        if (message.buffers) {\n",
       "          for (const buffer of message.buffers) {\n",
       "            buffers.push(buffer);\n",
       "            downloaded += buffer.byteLength;\n",
       "            progress.value = downloaded;\n",
       "          }\n",
       "        }\n",
       "      }\n",
       "      const blob = new Blob(buffers, {type: 'application/binary'});\n",
       "      const a = document.createElement('a');\n",
       "      a.href = window.URL.createObjectURL(blob);\n",
       "      a.download = filename;\n",
       "      div.appendChild(a);\n",
       "      a.click();\n",
       "      div.remove();\n",
       "    }\n",
       "  "
      ],
      "text/plain": [
       "<IPython.core.display.Javascript object>"
      ]
     },
     "metadata": {},
     "output_type": "display_data"
    },
    {
     "data": {
      "application/javascript": [
       "download(\"download_99c921c1-cccc-4c52-ba54-b1f50b76e848\", \"site2-B1.png\", 192310)"
      ],
      "text/plain": [
       "<IPython.core.display.Javascript object>"
      ]
     },
     "metadata": {},
     "output_type": "display_data"
    },
    {
     "name": "stdout",
     "output_type": "stream",
     "text": [
      "site2-B1.png saved\n",
      "\n",
      "site2  >  F4\n",
      "This floor has 11 iBeacons.\n",
      "Example 5 iBeacon UUID_MajorID_MinorIDs:\n",
      "\n",
      "6B76E28A-6FA2-48C9-8502-C1DAA388AB2C_7147_14931\n",
      "FB349B5F-8000-0080-0010-00003CFE0000_17834_10672\n",
      "FDA50693-A4E2-4FB1-AFCF-C6EB07647825_10073_61418\n",
      "6B76E28A-6FA2-48C9-8502-C1DAA388AB2C_7874_14243\n",
      "9195B3AD-A9D0-4500-85FF-9FB0F65A5201_0_0\n",
      "Please input target iBeacon UUID_MajorID_MinorID:\n",
      "9195B3AD-A9D0-4500-85FF-9FB0F65A5201_0_0\n"
     ]
    },
    {
     "data": {
      "application/javascript": [
       "\n",
       "    async function download(id, filename, size) {\n",
       "      if (!google.colab.kernel.accessAllowed) {\n",
       "        return;\n",
       "      }\n",
       "      const div = document.createElement('div');\n",
       "      const label = document.createElement('label');\n",
       "      label.textContent = `Downloading \"${filename}\": `;\n",
       "      div.appendChild(label);\n",
       "      const progress = document.createElement('progress');\n",
       "      progress.max = size;\n",
       "      div.appendChild(progress);\n",
       "      document.body.appendChild(div);\n",
       "\n",
       "      const buffers = [];\n",
       "      let downloaded = 0;\n",
       "\n",
       "      const channel = await google.colab.kernel.comms.open(id);\n",
       "      // Send a message to notify the kernel that we're ready.\n",
       "      channel.send({})\n",
       "\n",
       "      for await (const message of channel.messages) {\n",
       "        // Send a message to notify the kernel that we're ready.\n",
       "        channel.send({})\n",
       "        if (message.buffers) {\n",
       "          for (const buffer of message.buffers) {\n",
       "            buffers.push(buffer);\n",
       "            downloaded += buffer.byteLength;\n",
       "            progress.value = downloaded;\n",
       "          }\n",
       "        }\n",
       "      }\n",
       "      const blob = new Blob(buffers, {type: 'application/binary'});\n",
       "      const a = document.createElement('a');\n",
       "      a.href = window.URL.createObjectURL(blob);\n",
       "      a.download = filename;\n",
       "      div.appendChild(a);\n",
       "      a.click();\n",
       "      div.remove();\n",
       "    }\n",
       "  "
      ],
      "text/plain": [
       "<IPython.core.display.Javascript object>"
      ]
     },
     "metadata": {},
     "output_type": "display_data"
    },
    {
     "data": {
      "application/javascript": [
       "download(\"download_d8c99d84-2240-424c-b67d-adf1922a66b9\", \"site2-F4.png\", 206660)"
      ],
      "text/plain": [
       "<IPython.core.display.Javascript object>"
      ]
     },
     "metadata": {},
     "output_type": "display_data"
    },
    {
     "name": "stdout",
     "output_type": "stream",
     "text": [
      "site2-F4.png saved\n",
      "\n",
      "site2  >  F2\n",
      "This floor has 8 iBeacons.\n",
      "Example 5 iBeacon UUID_MajorID_MinorIDs:\n",
      "\n",
      "6B76E28A-6FA2-48C9-8502-C1DAA388AB2C_43832_27674\n",
      "9195B3AD-A9D0-4500-85FF-9FB0F65A5201_0_0\n",
      "FDA50693-A4E2-4FB1-AFCF-C6EB07647825_0_0\n",
      "FDA50693-A4E2-4FB1-AFCF-C6EB07647825_10073_61418\n",
      "616C6970-6179-626F-7869-626561636F6A_33059_39876\n",
      "Please input target iBeacon UUID_MajorID_MinorID:\n",
      "6B76E28A-6FA2-48C9-8502-C1DAA388AB2C_43832_27674\n"
     ]
    },
    {
     "data": {
      "application/javascript": [
       "\n",
       "    async function download(id, filename, size) {\n",
       "      if (!google.colab.kernel.accessAllowed) {\n",
       "        return;\n",
       "      }\n",
       "      const div = document.createElement('div');\n",
       "      const label = document.createElement('label');\n",
       "      label.textContent = `Downloading \"${filename}\": `;\n",
       "      div.appendChild(label);\n",
       "      const progress = document.createElement('progress');\n",
       "      progress.max = size;\n",
       "      div.appendChild(progress);\n",
       "      document.body.appendChild(div);\n",
       "\n",
       "      const buffers = [];\n",
       "      let downloaded = 0;\n",
       "\n",
       "      const channel = await google.colab.kernel.comms.open(id);\n",
       "      // Send a message to notify the kernel that we're ready.\n",
       "      channel.send({})\n",
       "\n",
       "      for await (const message of channel.messages) {\n",
       "        // Send a message to notify the kernel that we're ready.\n",
       "        channel.send({})\n",
       "        if (message.buffers) {\n",
       "          for (const buffer of message.buffers) {\n",
       "            buffers.push(buffer);\n",
       "            downloaded += buffer.byteLength;\n",
       "            progress.value = downloaded;\n",
       "          }\n",
       "        }\n",
       "      }\n",
       "      const blob = new Blob(buffers, {type: 'application/binary'});\n",
       "      const a = document.createElement('a');\n",
       "      a.href = window.URL.createObjectURL(blob);\n",
       "      a.download = filename;\n",
       "      div.appendChild(a);\n",
       "      a.click();\n",
       "      div.remove();\n",
       "    }\n",
       "  "
      ],
      "text/plain": [
       "<IPython.core.display.Javascript object>"
      ]
     },
     "metadata": {},
     "output_type": "display_data"
    },
    {
     "data": {
      "application/javascript": [
       "download(\"download_bd31992b-d35e-4c2d-81aa-8df1356e89a1\", \"site2-F2.png\", 198726)"
      ],
      "text/plain": [
       "<IPython.core.display.Javascript object>"
      ]
     },
     "metadata": {},
     "output_type": "display_data"
    },
    {
     "name": "stdout",
     "output_type": "stream",
     "text": [
      "site2-F2.png saved\n",
      "\n",
      "site2  >  F5\n",
      "This floor has 30 iBeacons.\n",
      "Example 5 iBeacon UUID_MajorID_MinorIDs:\n",
      "\n",
      "975FB7E9-2181-FE7B-9CED-84DD2010DC32_33063_10538\n",
      "975FB7E9-1241-CE7C-0000-0A50CE022927_21778_8\n",
      "975FB7E9-2181-FE7B-0000-0A50CE021623_2357_30069\n",
      "975FAA55-0000-0000-0000-0A50CE022927_0_0\n",
      "975FB7E9-1241-CE7C-0000-0A50CE022927_21776_520\n",
      "Please input target iBeacon UUID_MajorID_MinorID:\n",
      "975FB7E9-1241-CE7C-0000-0A50CE022927_21776_264\n"
     ]
    },
    {
     "data": {
      "application/javascript": [
       "\n",
       "    async function download(id, filename, size) {\n",
       "      if (!google.colab.kernel.accessAllowed) {\n",
       "        return;\n",
       "      }\n",
       "      const div = document.createElement('div');\n",
       "      const label = document.createElement('label');\n",
       "      label.textContent = `Downloading \"${filename}\": `;\n",
       "      div.appendChild(label);\n",
       "      const progress = document.createElement('progress');\n",
       "      progress.max = size;\n",
       "      div.appendChild(progress);\n",
       "      document.body.appendChild(div);\n",
       "\n",
       "      const buffers = [];\n",
       "      let downloaded = 0;\n",
       "\n",
       "      const channel = await google.colab.kernel.comms.open(id);\n",
       "      // Send a message to notify the kernel that we're ready.\n",
       "      channel.send({})\n",
       "\n",
       "      for await (const message of channel.messages) {\n",
       "        // Send a message to notify the kernel that we're ready.\n",
       "        channel.send({})\n",
       "        if (message.buffers) {\n",
       "          for (const buffer of message.buffers) {\n",
       "            buffers.push(buffer);\n",
       "            downloaded += buffer.byteLength;\n",
       "            progress.value = downloaded;\n",
       "          }\n",
       "        }\n",
       "      }\n",
       "      const blob = new Blob(buffers, {type: 'application/binary'});\n",
       "      const a = document.createElement('a');\n",
       "      a.href = window.URL.createObjectURL(blob);\n",
       "      a.download = filename;\n",
       "      div.appendChild(a);\n",
       "      a.click();\n",
       "      div.remove();\n",
       "    }\n",
       "  "
      ],
      "text/plain": [
       "<IPython.core.display.Javascript object>"
      ]
     },
     "metadata": {},
     "output_type": "display_data"
    },
    {
     "data": {
      "application/javascript": [
       "download(\"download_501420c8-f125-4e77-9f3b-226dee86d5e4\", \"site2-F5.png\", 185523)"
      ],
      "text/plain": [
       "<IPython.core.display.Javascript object>"
      ]
     },
     "metadata": {},
     "output_type": "display_data"
    },
    {
     "name": "stdout",
     "output_type": "stream",
     "text": [
      "site2-F5.png saved\n",
      "\n",
      "site2  >  F6\n",
      "This floor has 18 iBeacons.\n",
      "Example 5 iBeacon UUID_MajorID_MinorIDs:\n",
      "\n",
      "6B76E28A-6FA2-48C9-8502-C1DAA388AB2C_60326_39387\n",
      "FDA50693-A4E2-4FB1-AFCF-C6EB07647825_10065_26049\n",
      "E7FC9D3C-EF01-4B70-B280-2CF6D50FA5CA_29421_63019\n",
      "FDA50693-A4E2-4FB1-AFCF-C6EB07647825_10073_61418\n",
      "6B76E28A-6FA2-48C9-8502-C1DAA388AB2C_23091_32467\n",
      "Please input target iBeacon UUID_MajorID_MinorID:\n",
      "6B76E28A-6FA2-48C9-8502-C1DAA388AB2C_60326_39387\n"
     ]
    },
    {
     "data": {
      "application/javascript": [
       "\n",
       "    async function download(id, filename, size) {\n",
       "      if (!google.colab.kernel.accessAllowed) {\n",
       "        return;\n",
       "      }\n",
       "      const div = document.createElement('div');\n",
       "      const label = document.createElement('label');\n",
       "      label.textContent = `Downloading \"${filename}\": `;\n",
       "      div.appendChild(label);\n",
       "      const progress = document.createElement('progress');\n",
       "      progress.max = size;\n",
       "      div.appendChild(progress);\n",
       "      document.body.appendChild(div);\n",
       "\n",
       "      const buffers = [];\n",
       "      let downloaded = 0;\n",
       "\n",
       "      const channel = await google.colab.kernel.comms.open(id);\n",
       "      // Send a message to notify the kernel that we're ready.\n",
       "      channel.send({})\n",
       "\n",
       "      for await (const message of channel.messages) {\n",
       "        // Send a message to notify the kernel that we're ready.\n",
       "        channel.send({})\n",
       "        if (message.buffers) {\n",
       "          for (const buffer of message.buffers) {\n",
       "            buffers.push(buffer);\n",
       "            downloaded += buffer.byteLength;\n",
       "            progress.value = downloaded;\n",
       "          }\n",
       "        }\n",
       "      }\n",
       "      const blob = new Blob(buffers, {type: 'application/binary'});\n",
       "      const a = document.createElement('a');\n",
       "      a.href = window.URL.createObjectURL(blob);\n",
       "      a.download = filename;\n",
       "      div.appendChild(a);\n",
       "      a.click();\n",
       "      div.remove();\n",
       "    }\n",
       "  "
      ],
      "text/plain": [
       "<IPython.core.display.Javascript object>"
      ]
     },
     "metadata": {},
     "output_type": "display_data"
    },
    {
     "data": {
      "application/javascript": [
       "download(\"download_db376151-c77f-440e-a1fa-807b6e916985\", \"site2-F6.png\", 194518)"
      ],
      "text/plain": [
       "<IPython.core.display.Javascript object>"
      ]
     },
     "metadata": {},
     "output_type": "display_data"
    },
    {
     "name": "stdout",
     "output_type": "stream",
     "text": [
      "site2-F6.png saved\n",
      "\n",
      "site2  >  F1\n",
      "This floor has 23 iBeacons.\n",
      "Example 5 iBeacon UUID_MajorID_MinorIDs:\n",
      "\n",
      "FDA50693-A4E2-4FB1-AFCF-C6EB07647825_0_0\n",
      "FDA50693-A4E2-4FB1-AFCF-C6EB07647825_10073_61418\n",
      "6B76E28A-6FA2-48C9-8502-C1DAA388AB2C_5103_55553\n",
      "E7FC9D3C-EF01-4B70-B280-2CF6D50FA5CA_842_44348\n",
      "FB349B5F-8000-0080-0010-00003CFE0000_17834_10672\n",
      "Please input target iBeacon UUID_MajorID_MinorID:\n",
      "E7FC9D3C-EF01-4B70-B280-2CF6D50FA5CA_842_44348\n"
     ]
    },
    {
     "data": {
      "application/javascript": [
       "\n",
       "    async function download(id, filename, size) {\n",
       "      if (!google.colab.kernel.accessAllowed) {\n",
       "        return;\n",
       "      }\n",
       "      const div = document.createElement('div');\n",
       "      const label = document.createElement('label');\n",
       "      label.textContent = `Downloading \"${filename}\": `;\n",
       "      div.appendChild(label);\n",
       "      const progress = document.createElement('progress');\n",
       "      progress.max = size;\n",
       "      div.appendChild(progress);\n",
       "      document.body.appendChild(div);\n",
       "\n",
       "      const buffers = [];\n",
       "      let downloaded = 0;\n",
       "\n",
       "      const channel = await google.colab.kernel.comms.open(id);\n",
       "      // Send a message to notify the kernel that we're ready.\n",
       "      channel.send({})\n",
       "\n",
       "      for await (const message of channel.messages) {\n",
       "        // Send a message to notify the kernel that we're ready.\n",
       "        channel.send({})\n",
       "        if (message.buffers) {\n",
       "          for (const buffer of message.buffers) {\n",
       "            buffers.push(buffer);\n",
       "            downloaded += buffer.byteLength;\n",
       "            progress.value = downloaded;\n",
       "          }\n",
       "        }\n",
       "      }\n",
       "      const blob = new Blob(buffers, {type: 'application/binary'});\n",
       "      const a = document.createElement('a');\n",
       "      a.href = window.URL.createObjectURL(blob);\n",
       "      a.download = filename;\n",
       "      div.appendChild(a);\n",
       "      a.click();\n",
       "      div.remove();\n",
       "    }\n",
       "  "
      ],
      "text/plain": [
       "<IPython.core.display.Javascript object>"
      ]
     },
     "metadata": {},
     "output_type": "display_data"
    },
    {
     "data": {
      "application/javascript": [
       "download(\"download_559e804f-b066-457c-b58d-37e168ef6d7e\", \"site2-F1.png\", 172530)"
      ],
      "text/plain": [
       "<IPython.core.display.Javascript object>"
      ]
     },
     "metadata": {},
     "output_type": "display_data"
    },
    {
     "name": "stdout",
     "output_type": "stream",
     "text": [
      "site2-F1.png saved\n",
      "\n",
      "site2  >  F3\n",
      "This floor has 11 iBeacons.\n",
      "Example 5 iBeacon UUID_MajorID_MinorIDs:\n",
      "\n",
      "FB349B5F-8000-0080-0010-00003CFE0000_27998_53053\n",
      "FDA50693-A4E2-4FB1-AFCF-C6EB07647825_0_0\n",
      "E6E7160C-F095-4F5E-A1E7-15C936AD8914_0_0\n",
      "65D37BB4-8A7B-0BC4-5602-AAE9E8EA68B2_3902_44406\n",
      "F59EDB6A-F399-4C80-A759-D059BF84C96D_65520_4608\n",
      "Please input target iBeacon UUID_MajorID_MinorID:\n",
      "FDA50693-A4E2-4FB1-AFCF-C6EB07647825_10073_61418\n"
     ]
    },
    {
     "data": {
      "application/javascript": [
       "\n",
       "    async function download(id, filename, size) {\n",
       "      if (!google.colab.kernel.accessAllowed) {\n",
       "        return;\n",
       "      }\n",
       "      const div = document.createElement('div');\n",
       "      const label = document.createElement('label');\n",
       "      label.textContent = `Downloading \"${filename}\": `;\n",
       "      div.appendChild(label);\n",
       "      const progress = document.createElement('progress');\n",
       "      progress.max = size;\n",
       "      div.appendChild(progress);\n",
       "      document.body.appendChild(div);\n",
       "\n",
       "      const buffers = [];\n",
       "      let downloaded = 0;\n",
       "\n",
       "      const channel = await google.colab.kernel.comms.open(id);\n",
       "      // Send a message to notify the kernel that we're ready.\n",
       "      channel.send({})\n",
       "\n",
       "      for await (const message of channel.messages) {\n",
       "        // Send a message to notify the kernel that we're ready.\n",
       "        channel.send({})\n",
       "        if (message.buffers) {\n",
       "          for (const buffer of message.buffers) {\n",
       "            buffers.push(buffer);\n",
       "            downloaded += buffer.byteLength;\n",
       "            progress.value = downloaded;\n",
       "          }\n",
       "        }\n",
       "      }\n",
       "      const blob = new Blob(buffers, {type: 'application/binary'});\n",
       "      const a = document.createElement('a');\n",
       "      a.href = window.URL.createObjectURL(blob);\n",
       "      a.download = filename;\n",
       "      div.appendChild(a);\n",
       "      a.click();\n",
       "      div.remove();\n",
       "    }\n",
       "  "
      ],
      "text/plain": [
       "<IPython.core.display.Javascript object>"
      ]
     },
     "metadata": {},
     "output_type": "display_data"
    },
    {
     "data": {
      "application/javascript": [
       "download(\"download_182e4fee-189f-4aa3-bafc-05f0a0fc918e\", \"site2-F3.png\", 188570)"
      ],
      "text/plain": [
       "<IPython.core.display.Javascript object>"
      ]
     },
     "metadata": {},
     "output_type": "display_data"
    },
    {
     "name": "stdout",
     "output_type": "stream",
     "text": [
      "site2-F3.png saved\n",
      "\n",
      "site2  >  F7\n",
      "This floor has 15 iBeacons.\n",
      "Example 5 iBeacon UUID_MajorID_MinorIDs:\n",
      "\n",
      "FDA50693-A4E2-4FB1-AFCF-C6EB07647825_10065_26049\n",
      "6B76E28A-6FA2-48C9-8502-C1DAA388AB2C_23091_32467\n",
      "6B76E28A-6FA2-48C9-8502-C1DAA388AB2C_62574_14808\n",
      "FB349B5F-8000-0080-0010-00003CFE0000_1858_41996\n",
      "48F8C9EF-AEF9-482D-987F-3752F1C51DA1_22_16153\n",
      "Please input target iBeacon UUID_MajorID_MinorID:\n",
      "6B76E28A-6FA2-48C9-8502-C1DAA388AB2C_20746_7371\n"
     ]
    },
    {
     "data": {
      "application/javascript": [
       "\n",
       "    async function download(id, filename, size) {\n",
       "      if (!google.colab.kernel.accessAllowed) {\n",
       "        return;\n",
       "      }\n",
       "      const div = document.createElement('div');\n",
       "      const label = document.createElement('label');\n",
       "      label.textContent = `Downloading \"${filename}\": `;\n",
       "      div.appendChild(label);\n",
       "      const progress = document.createElement('progress');\n",
       "      progress.max = size;\n",
       "      div.appendChild(progress);\n",
       "      document.body.appendChild(div);\n",
       "\n",
       "      const buffers = [];\n",
       "      let downloaded = 0;\n",
       "\n",
       "      const channel = await google.colab.kernel.comms.open(id);\n",
       "      // Send a message to notify the kernel that we're ready.\n",
       "      channel.send({})\n",
       "\n",
       "      for await (const message of channel.messages) {\n",
       "        // Send a message to notify the kernel that we're ready.\n",
       "        channel.send({})\n",
       "        if (message.buffers) {\n",
       "          for (const buffer of message.buffers) {\n",
       "            buffers.push(buffer);\n",
       "            downloaded += buffer.byteLength;\n",
       "            progress.value = downloaded;\n",
       "          }\n",
       "        }\n",
       "      }\n",
       "      const blob = new Blob(buffers, {type: 'application/binary'});\n",
       "      const a = document.createElement('a');\n",
       "      a.href = window.URL.createObjectURL(blob);\n",
       "      a.download = filename;\n",
       "      div.appendChild(a);\n",
       "      a.click();\n",
       "      div.remove();\n",
       "    }\n",
       "  "
      ],
      "text/plain": [
       "<IPython.core.display.Javascript object>"
      ]
     },
     "metadata": {},
     "output_type": "display_data"
    },
    {
     "data": {
      "application/javascript": [
       "download(\"download_6fef3e97-45d8-4b38-9de1-25632ede2413\", \"site2-F7.png\", 176924)"
      ],
      "text/plain": [
       "<IPython.core.display.Javascript object>"
      ]
     },
     "metadata": {},
     "output_type": "display_data"
    },
    {
     "name": "stdout",
     "output_type": "stream",
     "text": [
      "site2-F7.png saved\n",
      "\n",
      "site2  >  F8\n",
      "This floor has 7 iBeacons.\n",
      "Example 5 iBeacon UUID_MajorID_MinorIDs:\n",
      "\n",
      "48F8C9EF-AEF9-482D-987F-3752F1C51DA1_22_16153\n",
      "6B76E28A-6FA2-48C9-8502-C1DAA388AB2C_27292_47348\n",
      "FB349B5F-8000-0080-0010-00003CFE0000_1858_41996\n",
      "6B76E28A-6FA2-48C9-8502-C1DAA388AB2C_5103_55553\n",
      "48F8C9EF-AEF9-482D-987F-3752F1C51DA1_17_11425\n",
      "Please input target iBeacon UUID_MajorID_MinorID:\n",
      "FDA50693-A4E2-4FB1-AFCF-C6EB07647825_10073_61418\n"
     ]
    },
    {
     "data": {
      "application/javascript": [
       "\n",
       "    async function download(id, filename, size) {\n",
       "      if (!google.colab.kernel.accessAllowed) {\n",
       "        return;\n",
       "      }\n",
       "      const div = document.createElement('div');\n",
       "      const label = document.createElement('label');\n",
       "      label.textContent = `Downloading \"${filename}\": `;\n",
       "      div.appendChild(label);\n",
       "      const progress = document.createElement('progress');\n",
       "      progress.max = size;\n",
       "      div.appendChild(progress);\n",
       "      document.body.appendChild(div);\n",
       "\n",
       "      const buffers = [];\n",
       "      let downloaded = 0;\n",
       "\n",
       "      const channel = await google.colab.kernel.comms.open(id);\n",
       "      // Send a message to notify the kernel that we're ready.\n",
       "      channel.send({})\n",
       "\n",
       "      for await (const message of channel.messages) {\n",
       "        // Send a message to notify the kernel that we're ready.\n",
       "        channel.send({})\n",
       "        if (message.buffers) {\n",
       "          for (const buffer of message.buffers) {\n",
       "            buffers.push(buffer);\n",
       "            downloaded += buffer.byteLength;\n",
       "            progress.value = downloaded;\n",
       "          }\n",
       "        }\n",
       "      }\n",
       "      const blob = new Blob(buffers, {type: 'application/binary'});\n",
       "      const a = document.createElement('a');\n",
       "      a.href = window.URL.createObjectURL(blob);\n",
       "      a.download = filename;\n",
       "      div.appendChild(a);\n",
       "      a.click();\n",
       "      div.remove();\n",
       "    }\n",
       "  "
      ],
      "text/plain": [
       "<IPython.core.display.Javascript object>"
      ]
     },
     "metadata": {},
     "output_type": "display_data"
    },
    {
     "data": {
      "application/javascript": [
       "download(\"download_7d8b6795-2caa-4b15-b934-dae6024d3bb4\", \"site2-F8.png\", 154848)"
      ],
      "text/plain": [
       "<IPython.core.display.Javascript object>"
      ]
     },
     "metadata": {},
     "output_type": "display_data"
    },
    {
     "name": "stdout",
     "output_type": "stream",
     "text": [
      "site2-F8.png saved\n",
      "\n",
      "FINISHED\n"
     ]
    },
    {
     "data": {
      "image/png": "[encoded data removed]",
      "text/plain": [
       "<Figure size 432x288 with 2 Axes>"
      ]
     },
     "metadata": {
      "needs_background": "light"
     },
     "output_type": "display_data"
    }
   ],
   "source": [
    "save_dir = os.path.join('/content/drive/My Drive/Colab_Notebooks/indoor-location-competition-20-master/output', 'rss_ibeacon_wp_augmented')\n",
    "!mkdir save_dir\n",
    "data_dir = \"/content/drive/My Drive/Colab_Notebooks/indoor-location-competition-20-master/data/\"\n",
    "\n",
    "for site, floor in site_floors(data_dir):\n",
    "  print(site, ' > ', floor)\n",
    "\n",
    "  data_dir = os.path.join('/content/drive/My Drive/Colab_Notebooks/indoor-location-competition-20-master/data/', site, floor)\n",
    "  data_list = os.listdir(os.path.join(data_dir, \"path_data_files\"))\n",
    "  \n",
    "  json_dir = os.path.join(data_dir, 'floor_info.json')\n",
    "  with open(json_dir) as file:\n",
    "    mapinfo = json.load(file)['map_info']\n",
    "  map_height = mapinfo['height']\n",
    "  map_width = mapinfo['width']\n",
    "  # print(map_height)\n",
    "\n",
    "  beacon_data = defaultdict(list)\n",
    "  for filename in data_list:\n",
    "    # print(f'Processing file: {filename}...')\n",
    "    path_data      = read_data_file(os.path.join(data_dir, \"path_data_files\", filename))\n",
    "    accel_data     = path_data.acce\n",
    "    manet_data     = path_data.magn\n",
    "    rot_vec_data   = path_data.ahrs\n",
    "    ibeacon_datas  = path_data.ibeacon\n",
    "    pos_datas      = path_data.waypoint\n",
    "\n",
    "    augmented_data = compute_step_positions(accel_data, rot_vec_data, pos_datas)\n",
    "\n",
    "    index_data = [{'ibeacon': defaultdict(list)} for _ in range(len(augmented_data))]\n",
    "    index_time = augmented_data[:, 0]\n",
    "    # print(index_time)\n",
    "\n",
    "    for ibeacon_data in ibeacon_datas:\n",
    "      tdiff = abs(index_time - int(ibeacon_data[0]))\n",
    "      arg_min = np.argmin(tdiff)  # INDEX of argmin\n",
    "      index_data[arg_min]['ibeacon'][ibeacon_data[1]].append(int(ibeacon_data[2]))\n",
    "      # print(index_data)\n",
    "\n",
    "    txt_data = [None] * len(augmented_data)\n",
    "    for index in range(len(index_time)):\n",
    "      t, x_pos, y_pos = augmented_data[index]\n",
    "\n",
    "      txt_data[index] = [t, x_pos, y_pos]\n",
    "      # print(waypoint[index])\n",
    "      ibeacons = index_data[index]['ibeacon']\n",
    "\n",
    "      txt_data[index].append(defaultdict(lambda: -100))\n",
    "      for bssid, rssis in ibeacons.items():\n",
    "        txt_data[index][-1][bssid] = sum(rssis) / len(rssis)\n",
    "\n",
    "    # print(txt_data)\n",
    "    save_path = os.path.join(save_dir, site + '-' + floor)\n",
    "\n",
    "    for tdata in txt_data:\n",
    "      x_pos, y_pos = tdata[1], tdata[2]\n",
    "      beacon_timestamp = tdata[3]\n",
    "      \n",
    "      for ummid, rssi in beacon_timestamp.items():\n",
    "        beacon_data[ummid].append((x_pos, y_pos, rssi))\n",
    "        # print(beacon_data[ummid])\n",
    "\n",
    "  print(f'This floor has {len(beacon_data)} iBeacons.')\n",
    "  print('Example 5 iBeacon UUID_MajorID_MinorIDs:\\n')\n",
    "  five_ibeacon_ummids = random.sample(beacon_data.keys(), 5)\n",
    "  for ummid in five_ibeacon_ummids:\n",
    "      print(ummid)\n",
    "  target_ibeacon = input(f\"Please input target iBeacon UUID_MajorID_MinorID:\\n\")\n",
    "  target_ibeacon_data = np.array(beacon_data[target_ibeacon])\n",
    "\n",
    "  img = mpimg.imread(os.path.join(data_dir, 'floor_image.png'))\n",
    "  plt.clf()\n",
    "  plt.imshow(img)\n",
    "  plt.title('iBeacon: \\n' + target_ibeacon)\n",
    "  mapscaler = (img.shape[0] / map_height + img.shape[1] / map_width) / 2\n",
    "  x = target_ibeacon_data[:, 0] * mapscaler\n",
    "  y = img.shape[0] - target_ibeacon_data[:, 1] * mapscaler\n",
    "  rssi_intensity = target_ibeacon_data[:, 2]\n",
    "\n",
    "  plt.scatter(x, y, c=rssi_intensity, s=5)\n",
    "  plt.colorbar()\n",
    "  plt.xticks((np.arange(25, map_width, 25) * mapscaler).astype('uint'), np.arange(25, map_width, 25).astype('uint'))\n",
    "  plt.yticks((img.shape[0] - np.arange(25, map_height, 25) * mapscaler).astype('uint'),\n",
    "              np.arange(25, map_height, 25).astype('uint'))\n",
    "  if save_path:\n",
    "    plt.savefig(f\"{site}-{floor}.png\", dpi=160)\n",
    "    files.download(f\"{site}-{floor}.png\") \n",
    "    print(f\"{site}-{floor}.png saved\\n\")\n",
    "\n",
    "  else:\n",
    "      plt.show()\n",
    "\n",
    "\n",
    "print(\"FINISHED\")"
   ]
  },
  {
   "cell_type": "markdown",
   "metadata": {
    "id": "NR1cM83QIX7X"
   },
   "source": [
    "## Calibrate data to Position"
   ]
  },
  {
   "cell_type": "code",
   "execution_count": null,
   "metadata": {
    "id": "BrWmKiiVdAt4"
   },
   "outputs": [],
   "source": [
    "def calibrate_magnetic_wifi_ibeacon_to_position(path_file_list):\n",
    "  mwi_datas = {}\n",
    "  for path_filename in path_file_list:\n",
    "      print(f'Processing {path_filename}...')\n",
    "\n",
    "      path_datas = read_data_file(path_filename)\n",
    "      acce_datas = path_datas.acce\n",
    "      magn_datas = path_datas.magn\n",
    "      ahrs_datas = path_datas.ahrs\n",
    "      wifi_datas = path_datas.wifi\n",
    "      ibeacon_datas = path_datas.ibeacon\n",
    "      posi_datas = path_datas.waypoint\n",
    "\n",
    "      step_positions = compute_step_positions(acce_datas, ahrs_datas, posi_datas)\n",
    "      # visualize_trajectory(posi_datas[:, 1:3], floor_plan_filename, width_meter, height_meter, title='Ground Truth', show=True)\n",
    "      # visualize_trajectory(step_positions[:, 1:3], floor_plan_filename, width_meter, height_meter, title='Step Position', show=True)\n",
    "\n",
    "      if wifi_datas.size != 0:\n",
    "          sep_tss = np.unique(wifi_datas[:, 0].astype(float))\n",
    "          wifi_datas_list = split_ts_seq(wifi_datas, sep_tss)\n",
    "          for wifi_ds in wifi_datas_list:\n",
    "              diff = np.abs(step_positions[:, 0] - float(wifi_ds[0, 0]))\n",
    "              index = np.argmin(diff)\n",
    "              target_xy_key = tuple(step_positions[index, 1:3])\n",
    "              if target_xy_key in mwi_datas:\n",
    "                  mwi_datas[target_xy_key]['wifi'] = np.append(mwi_datas[target_xy_key]['wifi'], wifi_ds, axis=0)\n",
    "              else:\n",
    "                  mwi_datas[target_xy_key] = {\n",
    "                      'magnetic': np.zeros((0, 4)),\n",
    "                      'wifi': wifi_ds,\n",
    "                      'ibeacon': np.zeros((0, 3))\n",
    "                  }\n",
    "\n",
    "      if ibeacon_datas.size != 0:\n",
    "          sep_tss = np.unique(ibeacon_datas[:, 0].astype(float))\n",
    "          ibeacon_datas_list = split_ts_seq(ibeacon_datas, sep_tss)\n",
    "          for ibeacon_ds in ibeacon_datas_list:\n",
    "              diff = np.abs(step_positions[:, 0] - float(ibeacon_ds[0, 0]))\n",
    "              index = np.argmin(diff)\n",
    "              target_xy_key = tuple(step_positions[index, 1:3])\n",
    "              if target_xy_key in mwi_datas:\n",
    "                  mwi_datas[target_xy_key]['ibeacon'] = np.append(mwi_datas[target_xy_key]['ibeacon'], ibeacon_ds, axis=0)\n",
    "              else:\n",
    "                  mwi_datas[target_xy_key] = {\n",
    "                      'magnetic': np.zeros((0, 4)),\n",
    "                      'wifi': np.zeros((0, 5)),\n",
    "                      'ibeacon': ibeacon_ds\n",
    "                  }\n",
    "\n",
    "      sep_tss = np.unique(magn_datas[:, 0].astype(float))\n",
    "      magn_datas_list = split_ts_seq(magn_datas, sep_tss)\n",
    "      for magn_ds in magn_datas_list:\n",
    "          diff = np.abs(step_positions[:, 0] - float(magn_ds[0, 0]))\n",
    "          index = np.argmin(diff)\n",
    "          target_xy_key = tuple(step_positions[index, 1:3])\n",
    "          if target_xy_key in mwi_datas:\n",
    "              mwi_datas[target_xy_key]['magnetic'] = np.append(mwi_datas[target_xy_key]['magnetic'], magn_ds, axis=0)\n",
    "          else:\n",
    "              mwi_datas[target_xy_key] = {\n",
    "                  'magnetic': magn_ds,\n",
    "                  'wifi': np.zeros((0, 5)),\n",
    "                  'ibeacon': np.zeros((0, 3))\n",
    "              }\n",
    "\n",
    "  return mwi_datas"
   ]
  }
 ],
 "metadata": {
  "colab": {
   "authorship_tag": "ABX9TyOuQishJ6KB46nHBlC7mhA5",
   "collapsed_sections": [
    "NR1cM83QIX7X"
   ],
   "provenance": []
  },
  "kernelspec": {
   "display_name": "Python 3 (ipykernel)",
   "language": "python",
   "name": "python3"
  },
  "language_info": {
   "codemirror_mode": {
    "name": "ipython",
    "version": 3
   },
   "file_extension": ".py",
   "mimetype": "text/x-python",
   "name": "python",
   "nbconvert_exporter": "python",
   "pygments_lexer": "ipython3",
   "version": "3.9.12"
  }
 },
 "nbformat": 4,
 "nbformat_minor": 1
}
