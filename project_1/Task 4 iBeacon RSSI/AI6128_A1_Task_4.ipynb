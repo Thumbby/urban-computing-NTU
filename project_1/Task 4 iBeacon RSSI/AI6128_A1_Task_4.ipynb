{
  "nbformat": 4,
  "nbformat_minor": 0,
  "metadata": {
    "colab": {
      "provenance": [],
      "collapsed_sections": [
        "YM4yGcNfINWm",
        "NR1cM83QIX7X"
      ]
    },
    "kernelspec": {
      "name": "python3",
      "display_name": "Python 3"
    },
    "language_info": {
      "name": "python"
    }
  },
  "cells": [
    {
      "cell_type": "code",
      "execution_count": null,
      "metadata": {
        "colab": {
          "base_uri": "https://localhost:8080/"
        },
        "id": "BL5M8YZ66_V0",
        "outputId": "b1c0bf04-5ef0-48ce-b335-4216bb1b65bf"
      },
      "outputs": [
        {
          "output_type": "stream",
          "name": "stdout",
          "text": [
            "Cloning into 'indoor-location-competition-20'...\n",
            "remote: Enumerating objects: 1181, done.\u001b[K\n",
            "remote: Total 1181 (delta 0), reused 0 (delta 0), pack-reused 1181\u001b[K\n",
            "Receiving objects: 100% (1181/1181), 411.37 MiB | 16.82 MiB/s, done.\n",
            "Resolving deltas: 100% (45/45), done.\n",
            "Checking out files: 100% (1145/1145), done.\n"
          ]
        }
      ],
      "source": [
        "# a) clone from github repo directly\n",
        "!git clone https://github.com/location-competition/indoor-location-competition-20\n",
        "!mv ./indoor-location-competition-20/* ./"
      ]
    },
    {
      "cell_type": "code",
      "source": [
        "from google.colab import drive\n",
        "\n",
        "\n",
        "drive.mount('/content/drive/') # mount your drive\n",
        "# !cp \"/content/drive/My Drive/Colab Notebooks/indoor-location-competition-20-master.zip\" ./  # copy to the Colab machine\n",
        "# !unzip \"/content/drive/My Drive/Colab_Notebooks/indoor-location-competition-20-master.zip\" -d \"/content/drive/My Drive/Colab_Notebooks/indoor-location-competition-20-master/\" # unzip the file"
      ],
      "metadata": {
        "colab": {
          "base_uri": "https://localhost:8080/"
        },
        "id": "qC1m4zRb7nvY",
        "outputId": "c795f29b-5f35-4e45-d73e-052fc2f9a178"
      },
      "execution_count": 1,
      "outputs": [
        {
          "output_type": "stream",
          "name": "stdout",
          "text": [
            "Mounted at /content/drive/\n"
          ]
        }
      ]
    },
    {
      "cell_type": "code",
      "source": [
        "from dataclasses import dataclass\n",
        "\n",
        "import os\n",
        "import json\n",
        "import numpy as np\n",
        "from collections import defaultdict\n",
        "import random\n",
        "import matplotlib.pyplot as plt\n",
        "import matplotlib.image as mpimg\n",
        "import sys\n",
        "#!pip install numpy scipy dataclasses plotly pillow\n",
        "\n",
        "from google.colab import files\n",
        "from google.colab import drive\n",
        "drive.mount('/content/drive/')\n",
        "\n",
        "data_dir = \"/content/drive/My Drive/Colab_Notebooks/indoor-location-competition-20-master/data/\""
      ],
      "metadata": {
        "colab": {
          "base_uri": "https://localhost:8080/"
        },
        "id": "0wb6uqsN7D93",
        "outputId": "8568d57e-3dd4-40ad-af05-1531ab9ae1aa"
      },
      "execution_count": 2,
      "outputs": [
        {
          "output_type": "stream",
          "name": "stdout",
          "text": [
            "Drive already mounted at /content/drive/; to attempt to forcibly remount, call drive.mount(\"/content/drive/\", force_remount=True).\n"
          ]
        }
      ]
    },
    {
      "cell_type": "code",
      "source": [
        "def site_floors(data_dir: str) -> []:\n",
        "    sites = []\n",
        "    site_floors = []\n",
        "    for f in os.scandir(data_dir):\n",
        "      if f.is_dir():\n",
        "          sites.append((f.name, f.path))\n",
        "    for site_name, site_dir in sites:\n",
        "      for f in os.scandir(site_dir):\n",
        "            if f.is_dir():\n",
        "                site_floors.append((site_name, f.name))\n",
        "    return site_floors\n",
        "\n",
        "print(site_floors(data_dir))"
      ],
      "metadata": {
        "colab": {
          "base_uri": "https://localhost:8080/"
        },
        "id": "PO5DbzOdA2dH",
        "outputId": "3279ee09-7a27-44d0-a217-2288c44f4c83"
      },
      "execution_count": 3,
      "outputs": [
        {
          "output_type": "stream",
          "name": "stdout",
          "text": [
            "[('site1', 'B1'), ('site1', 'F2'), ('site1', 'F1'), ('site1', 'F4'), ('site1', 'F3'), ('site2', 'B1'), ('site2', 'F4'), ('site2', 'F2'), ('site2', 'F5'), ('site2', 'F6'), ('site2', 'F1'), ('site2', 'F3'), ('site2', 'F7'), ('site2', 'F8')]\n"
          ]
        }
      ]
    },
    {
      "cell_type": "markdown",
      "source": [
        "## Adapted from io_f.py"
      ],
      "metadata": {
        "id": "ifHikxyKpSlt"
      }
    },
    {
      "cell_type": "code",
      "source": [
        "# this cell contain the content from io_f.py\n",
        "from dataclasses import dataclass\n",
        "\n",
        "import numpy as np\n",
        "\n",
        "\n",
        "@dataclass\n",
        "class PathData:\n",
        "  acce: np.ndarray\n",
        "  magn: np.ndarray\n",
        "  ahrs: np.ndarray\n",
        "  ibeacon: np.ndarray\n",
        "  waypoint: np.ndarray\n",
        "\n",
        "\n",
        "def read_data_file(data_filename, augment = True):\n",
        "  accel = []\n",
        "  magnet = []\n",
        "  rotate = []\n",
        "  ibeacon = []\n",
        "  waypoint = []\n",
        "\n",
        "  with open(data_filename, 'r', encoding='utf-8') as file:\n",
        "    lines = file.readlines()\n",
        "\n",
        "  for line_data in lines:\n",
        "    line_data = line_data.strip()\n",
        "    if not line_data or line_data[0] == '#':\n",
        "        continue\n",
        "\n",
        "    line_data = line_data.split('\\t')\n",
        "\n",
        "    if augment and line_data[1] == 'TYPE_ACCELEROMETER':\n",
        "        accel.append([int(line_data[0]), float(line_data[2]), float(line_data[3]), float(line_data[4])])\n",
        "        # print(accel)\n",
        "    elif augment and line_data[1] == 'TYPE_MAGNETIC_FIELD':\n",
        "        magnet.append([int(line_data[0]), float(line_data[2]), float(line_data[3]), float(line_data[4])])\n",
        "    elif augment and line_data[1] == 'TYPE_ROTATION_VECTOR':\n",
        "        rotate.append([int(line_data[0]), float(line_data[2]), float(line_data[3]), float(line_data[4])])\n",
        "\n",
        "    elif line_data[1] == 'TYPE_BEACON':\n",
        "        ts = line_data[0]\n",
        "        uuid = line_data[2]\n",
        "        major = line_data[3]\n",
        "        minor = line_data[4]\n",
        "        rssi = line_data[6]\n",
        "        ibeacon_data = [ts, '_'.join([uuid, major, minor]), rssi]\n",
        "        ibeacon.append(ibeacon_data)\n",
        "        continue\n",
        "\n",
        "    elif line_data[1] == 'TYPE_WAYPOINT':\n",
        "        waypoint.append([int(line_data[0]), float(line_data[2]), float(line_data[3])])\n",
        "\n",
        "  accel = np.array(accel)\n",
        "  magn = np.array(magnet)\n",
        "  ahrs = np.array(rotate)\n",
        "  ibeacon = np.array(ibeacon)\n",
        "  waypoint = np.array(waypoint)\n",
        "\n",
        "\n",
        "  return PathData(accel, magn, ahrs, ibeacon, waypoint)\n"
      ],
      "metadata": {
        "id": "tI4jOHq4B-FI"
      },
      "execution_count": 4,
      "outputs": []
    },
    {
      "cell_type": "code",
      "source": [
        "path_data = read_data_file(os.path.join(data_dir, './site1/B1/path_data_files/5dda14979191710006b5720e.txt'))\n",
        "print(path_data.ibeacon)"
      ],
      "metadata": {
        "colab": {
          "base_uri": "https://localhost:8080/"
        },
        "id": "7JOVPBYmi4tK",
        "outputId": "1ba19fe4-e985-4b27-ca68-60cf8196c246"
      },
      "execution_count": null,
      "outputs": [
        {
          "output_type": "stream",
          "name": "stdout",
          "text": [
            "[['1574572522535' '9195B3AD-A9D0-4500-85FF-9FB0F65A5201_0_0' '-84']\n",
            " ['1574572522549' '9195B3AD-A9D0-4500-85FF-9FB0F65A5201_0_0' '-95']\n",
            " ['1574572525875' '9195B3AD-A9D0-4500-85FF-9FB0F65A5201_0_0' '-82']\n",
            " ['1574572526506' '9195B3AD-A9D0-4500-85FF-9FB0F65A5201_0_0' '-98']\n",
            " ['1574572526609' '9195B3AD-A9D0-4500-85FF-9FB0F65A5201_0_0' '-89']\n",
            " ['1574572526710' '9195B3AD-A9D0-4500-85FF-9FB0F65A5201_0_0' '-87']\n",
            " ['1574572526947' '9195B3AD-A9D0-4500-85FF-9FB0F65A5201_0_0' '-85']\n",
            " ['1574572530614' '9195B3AD-A9D0-4500-85FF-9FB0F65A5201_0_0' '-85']\n",
            " ['1574572530872' 'FB349B5F-8000-0080-0010-00003CFE0000_27257_52321'\n",
            "  '-89']\n",
            " ['1574572530907' '9195B3AD-A9D0-4500-85FF-9FB0F65A5201_0_0' '-85']\n",
            " ['1574572530912' 'FB349B5F-8000-0080-0010-00003CFE0000_27257_52321'\n",
            "  '-93']\n",
            " ['1574572531546' '9195B3AD-A9D0-4500-85FF-9FB0F65A5201_0_0' '-85']\n",
            " ['1574572531665' '9195B3AD-A9D0-4500-85FF-9FB0F65A5201_0_0' '-90']\n",
            " ['1574572531927' '9195B3AD-A9D0-4500-85FF-9FB0F65A5201_0_0' '-86']\n",
            " ['1574572532511' '9195B3AD-A9D0-4500-85FF-9FB0F65A5201_0_0' '-84']\n",
            " ['1574572533066' '9195B3AD-A9D0-4500-85FF-9FB0F65A5201_0_0' '-81']\n",
            " ['1574572533385' '9195B3AD-A9D0-4500-85FF-9FB0F65A5201_0_0' '-84']\n",
            " ['1574572533985' 'FB349B5F-8000-0080-0010-00003CFE0000_27257_52321'\n",
            "  '-92']\n",
            " ['1574572534047' '9195B3AD-A9D0-4500-85FF-9FB0F65A5201_0_0' '-93']\n",
            " ['1574572534187' '9195B3AD-A9D0-4500-85FF-9FB0F65A5201_0_0' '-75']\n",
            " ['1574572534339' '9195B3AD-A9D0-4500-85FF-9FB0F65A5201_0_0' '-92']\n",
            " ['1574572534430' '9195B3AD-A9D0-4500-85FF-9FB0F65A5201_0_0' '-88']\n",
            " ['1574572534433' '9195B3AD-A9D0-4500-85FF-9FB0F65A5201_0_0' '-85']\n",
            " ['1574572534439' 'FB349B5F-8000-0080-0010-00003CFE0000_27257_52321'\n",
            "  '-100']\n",
            " ['1574572534582' 'FB349B5F-8000-0080-0010-00003CFE0000_27257_52321'\n",
            "  '-94']\n",
            " ['1574572534788' '9195B3AD-A9D0-4500-85FF-9FB0F65A5201_0_0' '-82']\n",
            " ['1574572534823' '9195B3AD-A9D0-4500-85FF-9FB0F65A5201_0_0' '-91']\n",
            " ['1574572535214' 'FB349B5F-8000-0080-0010-00003CFE0000_27257_52321'\n",
            "  '-92']\n",
            " ['1574572535532' '9195B3AD-A9D0-4500-85FF-9FB0F65A5201_0_0' '-87']\n",
            " ['1574572535537' '9195B3AD-A9D0-4500-85FF-9FB0F65A5201_0_0' '-82']\n",
            " ['1574572535563' '9195B3AD-A9D0-4500-85FF-9FB0F65A5201_0_0' '-93']\n",
            " ['1574572535696' '9195B3AD-A9D0-4500-85FF-9FB0F65A5201_0_0' '-87']\n",
            " ['1574572535797' 'FB349B5F-8000-0080-0010-00003CFE0000_27257_52321'\n",
            "  '-92']\n",
            " ['1574572535824' '9195B3AD-A9D0-4500-85FF-9FB0F65A5201_0_0' '-86']\n",
            " ['1574572535969' '9195B3AD-A9D0-4500-85FF-9FB0F65A5201_0_0' '-78']\n",
            " ['1574572536183' '9195B3AD-A9D0-4500-85FF-9FB0F65A5201_0_0' '-75']\n",
            " ['1574572536516' '9195B3AD-A9D0-4500-85FF-9FB0F65A5201_0_0' '-86']\n",
            " ['1574572536810' '9195B3AD-A9D0-4500-85FF-9FB0F65A5201_0_0' '-70']\n",
            " ['1574572536948' 'FB349B5F-8000-0080-0010-00003CFE0000_27257_52321'\n",
            "  '-88']\n",
            " ['1574572537267' '9195B3AD-A9D0-4500-85FF-9FB0F65A5201_0_0' '-88']\n",
            " ['1574572537319' '9195B3AD-A9D0-4500-85FF-9FB0F65A5201_0_0' '-83']\n",
            " ['1574572537352' '9195B3AD-A9D0-4500-85FF-9FB0F65A5201_0_0' '-79']\n",
            " ['1574572537414' 'FB349B5F-8000-0080-0010-00003CFE0000_27257_52321'\n",
            "  '-90']\n",
            " ['1574572537456' '9195B3AD-A9D0-4500-85FF-9FB0F65A5201_0_0' '-81']\n",
            " ['1574572537495' '9195B3AD-A9D0-4500-85FF-9FB0F65A5201_0_0' '-92']\n",
            " ['1574572537535' '9195B3AD-A9D0-4500-85FF-9FB0F65A5201_0_0' '-73']\n",
            " ['1574572537912' '9195B3AD-A9D0-4500-85FF-9FB0F65A5201_0_0' '-82']\n",
            " ['1574572537917' '9195B3AD-A9D0-4500-85FF-9FB0F65A5201_0_0' '-84']\n",
            " ['1574572537940' '9195B3AD-A9D0-4500-85FF-9FB0F65A5201_0_0' '-74']\n",
            " ['1574572538018' '9195B3AD-A9D0-4500-85FF-9FB0F65A5201_0_0' '-98']\n",
            " ['1574572538268' '9195B3AD-A9D0-4500-85FF-9FB0F65A5201_0_0' '-85']\n",
            " ['1574572538462' '9195B3AD-A9D0-4500-85FF-9FB0F65A5201_0_0' '-88']\n",
            " ['1574572538533' '9195B3AD-A9D0-4500-85FF-9FB0F65A5201_0_0' '-90']\n",
            " ['1574572538549' 'FB349B5F-8000-0080-0010-00003CFE0000_27257_52321'\n",
            "  '-85']\n",
            " ['1574572538566' 'FB349B5F-8000-0080-0010-00003CFE0000_27257_52321'\n",
            "  '-86']\n",
            " ['1574572538586' '9195B3AD-A9D0-4500-85FF-9FB0F65A5201_0_0' '-69']\n",
            " ['1574572538617' 'FB349B5F-8000-0080-0010-00003CFE0000_27257_52321'\n",
            "  '-87']\n",
            " ['1574572538669' '9195B3AD-A9D0-4500-85FF-9FB0F65A5201_0_0' '-72']\n",
            " ['1574572538694' '9195B3AD-A9D0-4500-85FF-9FB0F65A5201_0_0' '-69']\n",
            " ['1574572538768' '9195B3AD-A9D0-4500-85FF-9FB0F65A5201_0_0' '-72']\n",
            " ['1574572538797' '9195B3AD-A9D0-4500-85FF-9FB0F65A5201_0_0' '-78']\n",
            " ['1574572538961' '9195B3AD-A9D0-4500-85FF-9FB0F65A5201_0_0' '-96']\n",
            " ['1574572539215' '9195B3AD-A9D0-4500-85FF-9FB0F65A5201_0_0' '-69']]\n"
          ]
        }
      ]
    },
    {
      "cell_type": "markdown",
      "source": [
        "### Visualize iBeacon RSSI with waypoints only"
      ],
      "metadata": {
        "id": "xiKiqletCcFm"
      }
    },
    {
      "cell_type": "code",
      "source": [
        "save_dir = os.path.join('/content/drive/My Drive/Colab_Notebooks/indoor-location-competition-20-master/output', 'rss_ibeacon_wp')\n",
        "!mkdir save_dir\n",
        "data_dir = \"/content/drive/My Drive/Colab_Notebooks/indoor-location-competition-20-master/data/\"\n",
        "\n",
        "for site, floor in site_floors(data_dir):\n",
        "  print(site, ' > ', floor)\n",
        "\n",
        "  data_dir = os.path.join('/content/drive/My Drive/Colab_Notebooks/indoor-location-competition-20-master/data/', site, floor)\n",
        "  data_list = os.listdir(os.path.join(data_dir, \"path_data_files\"))\n",
        "  \n",
        "  json_dir = os.path.join(data_dir, 'floor_info.json')\n",
        "  with open(json_dir) as file:\n",
        "    mapinfo = json.load(file)['map_info']\n",
        "  map_height = mapinfo['height']\n",
        "  map_width = mapinfo['width']\n",
        "  # print(map_height)\n",
        "\n",
        "  beacon_data = defaultdict(list)\n",
        "  for filename in data_list:\n",
        "    # print(f'Processing file: {filename}...')\n",
        "    path_data      = read_data_file(os.path.join(data_dir, \"path_data_files\", filename))\n",
        "    accel_data     = path_data.acce\n",
        "    manet_data     = path_data.magn\n",
        "    rot_vec_data   = path_data.ahrs\n",
        "    ibeacon_datas  = path_data.ibeacon\n",
        "    pos_datas      = path_data.waypoint\n",
        "\n",
        "    # augmented_data = compute_step_positions(accel_data, rot_vec_data, pos_datas)\n",
        "\n",
        "    index_data = [{'ibeacon': defaultdict(list)} for _ in range(len(pos_datas))]\n",
        "    index_time = pos_datas[:, 0]\n",
        "    # print(index_time)\n",
        "\n",
        "    for ibeacon_data in ibeacon_datas:\n",
        "      tdiff = abs(index_time - int(ibeacon_data[0]))\n",
        "      arg_min = np.argmin(tdiff)  # INDEX of argmin\n",
        "      index_data[arg_min]['ibeacon'][ibeacon_data[1]].append(int(ibeacon_data[2]))\n",
        "      # print(index_data)\n",
        "\n",
        "    txt_data = [None] * len(pos_datas)\n",
        "    for index in range(len(index_time)):\n",
        "      t, x_pos, y_pos = pos_datas[index]\n",
        "\n",
        "      txt_data[index] = [t, x_pos, y_pos]\n",
        "      # print(waypoint[index])\n",
        "      ibeacons = index_data[index]['ibeacon']\n",
        "\n",
        "      txt_data[index].append(defaultdict(lambda: -100))\n",
        "      for bssid, rssis in ibeacons.items():\n",
        "        txt_data[index][-1][bssid] = sum(rssis) / len(rssis)\n",
        "\n",
        "    # print(txt_data)\n",
        "    save_path = os.path.join(save_dir, site + '-' + floor)\n",
        "\n",
        "    for tdata in txt_data:\n",
        "      x_pos, y_pos = tdata[1], tdata[2]\n",
        "      beacon_timestamp = tdata[3]\n",
        "      \n",
        "      for ummid, rssi in beacon_timestamp.items():\n",
        "        beacon_data[ummid].append((x_pos, y_pos, rssi))\n",
        "        # print(beacon_data[ummid])\n",
        "\n",
        "  print(f'This floor has {len(beacon_data)} iBeacons.')\n",
        "  print('Example 5 iBeacon UUID_MajorID_MinorIDs:\\n')\n",
        "  five_ibeacon_ummids = random.sample(beacon_data.keys(), 5)\n",
        "  for ummid in five_ibeacon_ummids:\n",
        "      print(ummid)\n",
        "  target_ibeacon = input(f\"Please input target iBeacon UUID_MajorID_MinorID:\\n\")\n",
        "  target_ibeacon_data = np.array(beacon_data[target_ibeacon])\n",
        "\n",
        "  img = mpimg.imread(os.path.join(data_dir, 'floor_image.png'))\n",
        "  plt.clf()\n",
        "  plt.imshow(img)\n",
        "  plt.title('iBeacon: \\n' + target_ibeacon)\n",
        "  mapscaler = (img.shape[0] / map_height + img.shape[1] / map_width) / 2\n",
        "  x = target_ibeacon_data[:, 0] * mapscaler\n",
        "  y = img.shape[0] - target_ibeacon_data[:, 1] * mapscaler\n",
        "  rssi_intensity = target_ibeacon_data[:, 2]\n",
        "\n",
        "  plt.scatter(x, y, c=rssi_intensity, s=5, cmap = plt.cm.get_cmap('cividis'))\n",
        "  plt.colorbar()\n",
        "  plt.xticks((np.arange(25, map_width, 25) * mapscaler).astype('uint'), np.arange(25, map_width, 25).astype('uint'))\n",
        "  plt.yticks((img.shape[0] - np.arange(25, map_height, 25) * mapscaler).astype('uint'),\n",
        "              np.arange(25, map_height, 25).astype('uint'))\n",
        "  if save_path:\n",
        "    plt.savefig(f\"{site}-{floor}.png\", dpi=160)\n",
        "    files.download(f\"{site}-{floor}.png\") \n",
        "    print(f\"{site}-{floor}.png saved\\n\")\n",
        "\n",
        "  else:\n",
        "      plt.show()\n",
        "\n",
        "\n",
        "print(\"FINISHED\")"
      ],
      "metadata": {
        "colab": {
          "base_uri": "https://localhost:8080/",
          "height": 1000
        },
        "id": "T6nrDwpTDNoo",
        "outputId": "6b74b5a4-d66b-47c1-88c6-e08d2456af67"
      },
      "execution_count": 10,
      "outputs": [
        {
          "name": "stdout",
          "output_type": "stream",
          "text": [
            "mkdir: cannot create directory ‘save_dir’: File exists\n",
            "site1  >  B1\n",
            "This floor has 55 iBeacons.\n",
            "Example 5 iBeacon UUID_MajorID_MinorIDs:\n",
            "\n",
            "6B76E28A-6FA2-48C9-8502-C1DAA388AB2C_20057_38865\n",
            "6B76E28A-6FA2-48C9-8502-C1DAA388AB2C_18166_45147\n",
            "FDA50693-A4E2-4FB1-AFCF-C6EB07647825_10065_26049\n",
            "6B76E28A-6FA2-48C9-8502-C1DAA388AB2C_62737_22253\n",
            "6B76E28A-6FA2-48C9-8502-C1DAA388AB2C_54355_21823\n",
            "Please input target iBeacon UUID_MajorID_MinorID:\n",
            "6B76E28A-6FA2-48C9-8502-C1DAA388AB2C_20057_38865\n"
          ]
        },
        {
          "output_type": "display_data",
          "data": {
            "text/plain": [
              "<IPython.core.display.Javascript object>"
            ],
            "application/javascript": [
              "\n",
              "    async function download(id, filename, size) {\n",
              "      if (!google.colab.kernel.accessAllowed) {\n",
              "        return;\n",
              "      }\n",
              "      const div = document.createElement('div');\n",
              "      const label = document.createElement('label');\n",
              "      label.textContent = `Downloading \"${filename}\": `;\n",
              "      div.appendChild(label);\n",
              "      const progress = document.createElement('progress');\n",
              "      progress.max = size;\n",
              "      div.appendChild(progress);\n",
              "      document.body.appendChild(div);\n",
              "\n",
              "      const buffers = [];\n",
              "      let downloaded = 0;\n",
              "\n",
              "      const channel = await google.colab.kernel.comms.open(id);\n",
              "      // Send a message to notify the kernel that we're ready.\n",
              "      channel.send({})\n",
              "\n",
              "      for await (const message of channel.messages) {\n",
              "        // Send a message to notify the kernel that we're ready.\n",
              "        channel.send({})\n",
              "        if (message.buffers) {\n",
              "          for (const buffer of message.buffers) {\n",
              "            buffers.push(buffer);\n",
              "            downloaded += buffer.byteLength;\n",
              "            progress.value = downloaded;\n",
              "          }\n",
              "        }\n",
              "      }\n",
              "      const blob = new Blob(buffers, {type: 'application/binary'});\n",
              "      const a = document.createElement('a');\n",
              "      a.href = window.URL.createObjectURL(blob);\n",
              "      a.download = filename;\n",
              "      div.appendChild(a);\n",
              "      a.click();\n",
              "      div.remove();\n",
              "    }\n",
              "  "
            ]
          },
          "metadata": {}
        },
        {
          "output_type": "display_data",
          "data": {
            "text/plain": [
              "<IPython.core.display.Javascript object>"
            ],
            "application/javascript": [
              "download(\"download_a012f035-8e73-491c-81c3-413c68cb661a\", \"site1-B1.png\", 314430)"
            ]
          },
          "metadata": {}
        },
        {
          "name": "stdout",
          "output_type": "stream",
          "text": [
            "site1-B1.png saved\n",
            "\n",
            "site1  >  F2\n",
            "This floor has 16 iBeacons.\n",
            "Example 5 iBeacon UUID_MajorID_MinorIDs:\n",
            "\n",
            "6B76E28A-6FA2-48C9-8502-C1DAA388AB2C_45850_14031\n",
            "6B76E28A-6FA2-48C9-8502-C1DAA388AB2C_8389_16060\n",
            "616C6970-6179-626F-7869-626561636F6A_49662_37272\n",
            "6B76E28A-6FA2-48C9-8502-C1DAA388AB2C_60469_53546\n",
            "07A50693-A4E2-4FB1-AFCF-201707181336_10004_6119\n",
            "Please input target iBeacon UUID_MajorID_MinorID:\n",
            "616C6970-6179-626F-7869-626561636F6A_49662_37272\n"
          ]
        },
        {
          "output_type": "display_data",
          "data": {
            "text/plain": [
              "<IPython.core.display.Javascript object>"
            ],
            "application/javascript": [
              "\n",
              "    async function download(id, filename, size) {\n",
              "      if (!google.colab.kernel.accessAllowed) {\n",
              "        return;\n",
              "      }\n",
              "      const div = document.createElement('div');\n",
              "      const label = document.createElement('label');\n",
              "      label.textContent = `Downloading \"${filename}\": `;\n",
              "      div.appendChild(label);\n",
              "      const progress = document.createElement('progress');\n",
              "      progress.max = size;\n",
              "      div.appendChild(progress);\n",
              "      document.body.appendChild(div);\n",
              "\n",
              "      const buffers = [];\n",
              "      let downloaded = 0;\n",
              "\n",
              "      const channel = await google.colab.kernel.comms.open(id);\n",
              "      // Send a message to notify the kernel that we're ready.\n",
              "      channel.send({})\n",
              "\n",
              "      for await (const message of channel.messages) {\n",
              "        // Send a message to notify the kernel that we're ready.\n",
              "        channel.send({})\n",
              "        if (message.buffers) {\n",
              "          for (const buffer of message.buffers) {\n",
              "            buffers.push(buffer);\n",
              "            downloaded += buffer.byteLength;\n",
              "            progress.value = downloaded;\n",
              "          }\n",
              "        }\n",
              "      }\n",
              "      const blob = new Blob(buffers, {type: 'application/binary'});\n",
              "      const a = document.createElement('a');\n",
              "      a.href = window.URL.createObjectURL(blob);\n",
              "      a.download = filename;\n",
              "      div.appendChild(a);\n",
              "      a.click();\n",
              "      div.remove();\n",
              "    }\n",
              "  "
            ]
          },
          "metadata": {}
        },
        {
          "output_type": "display_data",
          "data": {
            "text/plain": [
              "<IPython.core.display.Javascript object>"
            ],
            "application/javascript": [
              "download(\"download_7d3de07a-fddd-44f5-a584-014a633f763f\", \"site1-F2.png\", 205244)"
            ]
          },
          "metadata": {}
        },
        {
          "name": "stdout",
          "output_type": "stream",
          "text": [
            "site1-F2.png saved\n",
            "\n",
            "site1  >  F1\n",
            "This floor has 20 iBeacons.\n",
            "Example 5 iBeacon UUID_MajorID_MinorIDs:\n",
            "\n",
            "9195B3AD-A9D0-4500-85FF-9FB0F65A5201_22017_0\n",
            "800DB72B-5C3C-480B-B6F2-E7D5A7388E75_16160_2818\n",
            "616C6970-6179-626F-7869-626561636F6A_49662_37272\n",
            "6B76E28A-6FA2-48C9-8502-C1DAA388AB2C_19018_35270\n",
            "6B76E28A-6FA2-48C9-8502-C1DAA388AB2C_51635_15211\n",
            "Please input target iBeacon UUID_MajorID_MinorID:\n",
            "6B76E28A-6FA2-48C9-8502-C1DAA388AB2C_19018_35270\n"
          ]
        },
        {
          "output_type": "display_data",
          "data": {
            "text/plain": [
              "<IPython.core.display.Javascript object>"
            ],
            "application/javascript": [
              "\n",
              "    async function download(id, filename, size) {\n",
              "      if (!google.colab.kernel.accessAllowed) {\n",
              "        return;\n",
              "      }\n",
              "      const div = document.createElement('div');\n",
              "      const label = document.createElement('label');\n",
              "      label.textContent = `Downloading \"${filename}\": `;\n",
              "      div.appendChild(label);\n",
              "      const progress = document.createElement('progress');\n",
              "      progress.max = size;\n",
              "      div.appendChild(progress);\n",
              "      document.body.appendChild(div);\n",
              "\n",
              "      const buffers = [];\n",
              "      let downloaded = 0;\n",
              "\n",
              "      const channel = await google.colab.kernel.comms.open(id);\n",
              "      // Send a message to notify the kernel that we're ready.\n",
              "      channel.send({})\n",
              "\n",
              "      for await (const message of channel.messages) {\n",
              "        // Send a message to notify the kernel that we're ready.\n",
              "        channel.send({})\n",
              "        if (message.buffers) {\n",
              "          for (const buffer of message.buffers) {\n",
              "            buffers.push(buffer);\n",
              "            downloaded += buffer.byteLength;\n",
              "            progress.value = downloaded;\n",
              "          }\n",
              "        }\n",
              "      }\n",
              "      const blob = new Blob(buffers, {type: 'application/binary'});\n",
              "      const a = document.createElement('a');\n",
              "      a.href = window.URL.createObjectURL(blob);\n",
              "      a.download = filename;\n",
              "      div.appendChild(a);\n",
              "      a.click();\n",
              "      div.remove();\n",
              "    }\n",
              "  "
            ]
          },
          "metadata": {}
        },
        {
          "output_type": "display_data",
          "data": {
            "text/plain": [
              "<IPython.core.display.Javascript object>"
            ],
            "application/javascript": [
              "download(\"download_24a37170-6881-4c21-a980-48bc0a6de57e\", \"site1-F1.png\", 183892)"
            ]
          },
          "metadata": {}
        },
        {
          "name": "stdout",
          "output_type": "stream",
          "text": [
            "site1-F1.png saved\n",
            "\n",
            "site1  >  F4\n",
            "This floor has 12 iBeacons.\n",
            "Example 5 iBeacon UUID_MajorID_MinorIDs:\n",
            "\n",
            "6B76E28A-6FA2-48C9-8502-C1DAA388AB2C_64096_25388\n",
            "9195B3AD-A9D0-4500-85FF-9FB0F65A5201_0_0\n",
            "6B76E28A-6FA2-48C9-8502-C1DAA388AB2C_45101_52752\n",
            "FB349B5F-8000-0080-0010-00003CFE0000_5029_16071\n",
            "48F8C9EF-AEF9-482D-987F-3752F1C51DA1_20_31450\n",
            "Please input target iBeacon UUID_MajorID_MinorID:\n",
            "9195B3AD-A9D0-4500-85FF-9FB0F65A5201_0_0\n"
          ]
        },
        {
          "output_type": "display_data",
          "data": {
            "text/plain": [
              "<IPython.core.display.Javascript object>"
            ],
            "application/javascript": [
              "\n",
              "    async function download(id, filename, size) {\n",
              "      if (!google.colab.kernel.accessAllowed) {\n",
              "        return;\n",
              "      }\n",
              "      const div = document.createElement('div');\n",
              "      const label = document.createElement('label');\n",
              "      label.textContent = `Downloading \"${filename}\": `;\n",
              "      div.appendChild(label);\n",
              "      const progress = document.createElement('progress');\n",
              "      progress.max = size;\n",
              "      div.appendChild(progress);\n",
              "      document.body.appendChild(div);\n",
              "\n",
              "      const buffers = [];\n",
              "      let downloaded = 0;\n",
              "\n",
              "      const channel = await google.colab.kernel.comms.open(id);\n",
              "      // Send a message to notify the kernel that we're ready.\n",
              "      channel.send({})\n",
              "\n",
              "      for await (const message of channel.messages) {\n",
              "        // Send a message to notify the kernel that we're ready.\n",
              "        channel.send({})\n",
              "        if (message.buffers) {\n",
              "          for (const buffer of message.buffers) {\n",
              "            buffers.push(buffer);\n",
              "            downloaded += buffer.byteLength;\n",
              "            progress.value = downloaded;\n",
              "          }\n",
              "        }\n",
              "      }\n",
              "      const blob = new Blob(buffers, {type: 'application/binary'});\n",
              "      const a = document.createElement('a');\n",
              "      a.href = window.URL.createObjectURL(blob);\n",
              "      a.download = filename;\n",
              "      div.appendChild(a);\n",
              "      a.click();\n",
              "      div.remove();\n",
              "    }\n",
              "  "
            ]
          },
          "metadata": {}
        },
        {
          "output_type": "display_data",
          "data": {
            "text/plain": [
              "<IPython.core.display.Javascript object>"
            ],
            "application/javascript": [
              "download(\"download_8223d892-9fc0-4ae7-a2b2-42140bb6bc64\", \"site1-F4.png\", 196557)"
            ]
          },
          "metadata": {}
        },
        {
          "name": "stdout",
          "output_type": "stream",
          "text": [
            "site1-F4.png saved\n",
            "\n",
            "site1  >  F3\n",
            "This floor has 14 iBeacons.\n",
            "Example 5 iBeacon UUID_MajorID_MinorIDs:\n",
            "\n",
            "48F8C9EF-AEF9-482D-987F-3752F1C51DA1_22_40969\n",
            "48F8C9EF-AEF9-482D-987F-3752F1C51DA1_20_31450\n",
            "616C6970-6179-626F-7869-626561636F6A_28214_49911\n",
            "E7FC9D3C-EF01-4B70-B280-2CF6D50FA5CA_43336_37672\n",
            "6B76E28A-6FA2-48C9-8502-C1DAA388AB2C_38612_64251\n",
            "Please input target iBeacon UUID_MajorID_MinorID:\n",
            "A49CD9E0-E367-59D2-4FD4-1DE0557702D8_44413_58550\n"
          ]
        },
        {
          "output_type": "display_data",
          "data": {
            "text/plain": [
              "<IPython.core.display.Javascript object>"
            ],
            "application/javascript": [
              "\n",
              "    async function download(id, filename, size) {\n",
              "      if (!google.colab.kernel.accessAllowed) {\n",
              "        return;\n",
              "      }\n",
              "      const div = document.createElement('div');\n",
              "      const label = document.createElement('label');\n",
              "      label.textContent = `Downloading \"${filename}\": `;\n",
              "      div.appendChild(label);\n",
              "      const progress = document.createElement('progress');\n",
              "      progress.max = size;\n",
              "      div.appendChild(progress);\n",
              "      document.body.appendChild(div);\n",
              "\n",
              "      const buffers = [];\n",
              "      let downloaded = 0;\n",
              "\n",
              "      const channel = await google.colab.kernel.comms.open(id);\n",
              "      // Send a message to notify the kernel that we're ready.\n",
              "      channel.send({})\n",
              "\n",
              "      for await (const message of channel.messages) {\n",
              "        // Send a message to notify the kernel that we're ready.\n",
              "        channel.send({})\n",
              "        if (message.buffers) {\n",
              "          for (const buffer of message.buffers) {\n",
              "            buffers.push(buffer);\n",
              "            downloaded += buffer.byteLength;\n",
              "            progress.value = downloaded;\n",
              "          }\n",
              "        }\n",
              "      }\n",
              "      const blob = new Blob(buffers, {type: 'application/binary'});\n",
              "      const a = document.createElement('a');\n",
              "      a.href = window.URL.createObjectURL(blob);\n",
              "      a.download = filename;\n",
              "      div.appendChild(a);\n",
              "      a.click();\n",
              "      div.remove();\n",
              "    }\n",
              "  "
            ]
          },
          "metadata": {}
        },
        {
          "output_type": "display_data",
          "data": {
            "text/plain": [
              "<IPython.core.display.Javascript object>"
            ],
            "application/javascript": [
              "download(\"download_9b20ed91-1e37-4f71-aaca-532cb7891b1a\", \"site1-F3.png\", 196182)"
            ]
          },
          "metadata": {}
        },
        {
          "name": "stdout",
          "output_type": "stream",
          "text": [
            "site1-F3.png saved\n",
            "\n",
            "site2  >  B1\n",
            "This floor has 27 iBeacons.\n",
            "Example 5 iBeacon UUID_MajorID_MinorIDs:\n",
            "\n",
            "FDA50693-A4E2-4FB1-AFCF-C6EB07647825_10065_26049\n",
            "E7FC9D3C-EF01-4B70-B280-2CF6D50FA5CA_25548_35325\n",
            "6B76E28A-6FA2-48C9-8502-C1DAA388AB2C_11793_12338\n",
            "6B76E28A-6FA2-48C9-8502-C1DAA388AB2C_37845_58916\n",
            "6B76E28A-6FA2-48C9-8502-C1DAA388AB2C_15613_52042\n",
            "Please input target iBeacon UUID_MajorID_MinorID:\n",
            "E7FC9D3C-EF01-4B70-B280-2CF6D50FA5CA_25548_35325\n"
          ]
        },
        {
          "output_type": "display_data",
          "data": {
            "text/plain": [
              "<IPython.core.display.Javascript object>"
            ],
            "application/javascript": [
              "\n",
              "    async function download(id, filename, size) {\n",
              "      if (!google.colab.kernel.accessAllowed) {\n",
              "        return;\n",
              "      }\n",
              "      const div = document.createElement('div');\n",
              "      const label = document.createElement('label');\n",
              "      label.textContent = `Downloading \"${filename}\": `;\n",
              "      div.appendChild(label);\n",
              "      const progress = document.createElement('progress');\n",
              "      progress.max = size;\n",
              "      div.appendChild(progress);\n",
              "      document.body.appendChild(div);\n",
              "\n",
              "      const buffers = [];\n",
              "      let downloaded = 0;\n",
              "\n",
              "      const channel = await google.colab.kernel.comms.open(id);\n",
              "      // Send a message to notify the kernel that we're ready.\n",
              "      channel.send({})\n",
              "\n",
              "      for await (const message of channel.messages) {\n",
              "        // Send a message to notify the kernel that we're ready.\n",
              "        channel.send({})\n",
              "        if (message.buffers) {\n",
              "          for (const buffer of message.buffers) {\n",
              "            buffers.push(buffer);\n",
              "            downloaded += buffer.byteLength;\n",
              "            progress.value = downloaded;\n",
              "          }\n",
              "        }\n",
              "      }\n",
              "      const blob = new Blob(buffers, {type: 'application/binary'});\n",
              "      const a = document.createElement('a');\n",
              "      a.href = window.URL.createObjectURL(blob);\n",
              "      a.download = filename;\n",
              "      div.appendChild(a);\n",
              "      a.click();\n",
              "      div.remove();\n",
              "    }\n",
              "  "
            ]
          },
          "metadata": {}
        },
        {
          "output_type": "display_data",
          "data": {
            "text/plain": [
              "<IPython.core.display.Javascript object>"
            ],
            "application/javascript": [
              "download(\"download_4732f7eb-d3d7-4c32-8cf6-b55e9983ff28\", \"site2-B1.png\", 193674)"
            ]
          },
          "metadata": {}
        },
        {
          "name": "stdout",
          "output_type": "stream",
          "text": [
            "site2-B1.png saved\n",
            "\n",
            "site2  >  F4\n",
            "This floor has 11 iBeacons.\n",
            "Example 5 iBeacon UUID_MajorID_MinorIDs:\n",
            "\n",
            "6B76E28A-6FA2-48C9-8502-C1DAA388AB2C_7147_14931\n",
            "FDA50693-A4E2-4FB1-AFCF-C6EB07647825_10065_26049\n",
            "6B76E28A-6FA2-48C9-8502-C1DAA388AB2C_7874_14243\n",
            "FB349B5F-8000-0080-0010-00003CFE0000_10309_12756\n",
            "6B76E28A-6FA2-48C9-8502-C1DAA388AB2C_51495_40606\n",
            "Please input target iBeacon UUID_MajorID_MinorID:\n",
            "6B76E28A-6FA2-48C9-8502-C1DAA388AB2C_7147_14931\n"
          ]
        },
        {
          "output_type": "display_data",
          "data": {
            "text/plain": [
              "<IPython.core.display.Javascript object>"
            ],
            "application/javascript": [
              "\n",
              "    async function download(id, filename, size) {\n",
              "      if (!google.colab.kernel.accessAllowed) {\n",
              "        return;\n",
              "      }\n",
              "      const div = document.createElement('div');\n",
              "      const label = document.createElement('label');\n",
              "      label.textContent = `Downloading \"${filename}\": `;\n",
              "      div.appendChild(label);\n",
              "      const progress = document.createElement('progress');\n",
              "      progress.max = size;\n",
              "      div.appendChild(progress);\n",
              "      document.body.appendChild(div);\n",
              "\n",
              "      const buffers = [];\n",
              "      let downloaded = 0;\n",
              "\n",
              "      const channel = await google.colab.kernel.comms.open(id);\n",
              "      // Send a message to notify the kernel that we're ready.\n",
              "      channel.send({})\n",
              "\n",
              "      for await (const message of channel.messages) {\n",
              "        // Send a message to notify the kernel that we're ready.\n",
              "        channel.send({})\n",
              "        if (message.buffers) {\n",
              "          for (const buffer of message.buffers) {\n",
              "            buffers.push(buffer);\n",
              "            downloaded += buffer.byteLength;\n",
              "            progress.value = downloaded;\n",
              "          }\n",
              "        }\n",
              "      }\n",
              "      const blob = new Blob(buffers, {type: 'application/binary'});\n",
              "      const a = document.createElement('a');\n",
              "      a.href = window.URL.createObjectURL(blob);\n",
              "      a.download = filename;\n",
              "      div.appendChild(a);\n",
              "      a.click();\n",
              "      div.remove();\n",
              "    }\n",
              "  "
            ]
          },
          "metadata": {}
        },
        {
          "output_type": "display_data",
          "data": {
            "text/plain": [
              "<IPython.core.display.Javascript object>"
            ],
            "application/javascript": [
              "download(\"download_0ffdc578-0f08-437d-b0c3-2d46763c671b\", \"site2-F4.png\", 206976)"
            ]
          },
          "metadata": {}
        },
        {
          "name": "stdout",
          "output_type": "stream",
          "text": [
            "site2-F4.png saved\n",
            "\n",
            "site2  >  F2\n",
            "This floor has 8 iBeacons.\n",
            "Example 5 iBeacon UUID_MajorID_MinorIDs:\n",
            "\n",
            "FB349B5F-8000-0080-0010-00003CFE0000_29680_25758\n",
            "6B76E28A-6FA2-48C9-8502-C1DAA388AB2C_43832_27674\n",
            "6B76E28A-6FA2-48C9-8502-C1DAA388AB2C_12652_10372\n",
            "9195B3AD-A9D0-4500-85FF-9FB0F65A5201_0_0\n",
            "E6E7160C-F095-4F5E-A1E7-15C936AD8914_0_0\n",
            "Please input target iBeacon UUID_MajorID_MinorID:\n",
            "E6E7160C-F095-4F5E-A1E7-15C936AD8914_0_0\n"
          ]
        },
        {
          "output_type": "display_data",
          "data": {
            "text/plain": [
              "<IPython.core.display.Javascript object>"
            ],
            "application/javascript": [
              "\n",
              "    async function download(id, filename, size) {\n",
              "      if (!google.colab.kernel.accessAllowed) {\n",
              "        return;\n",
              "      }\n",
              "      const div = document.createElement('div');\n",
              "      const label = document.createElement('label');\n",
              "      label.textContent = `Downloading \"${filename}\": `;\n",
              "      div.appendChild(label);\n",
              "      const progress = document.createElement('progress');\n",
              "      progress.max = size;\n",
              "      div.appendChild(progress);\n",
              "      document.body.appendChild(div);\n",
              "\n",
              "      const buffers = [];\n",
              "      let downloaded = 0;\n",
              "\n",
              "      const channel = await google.colab.kernel.comms.open(id);\n",
              "      // Send a message to notify the kernel that we're ready.\n",
              "      channel.send({})\n",
              "\n",
              "      for await (const message of channel.messages) {\n",
              "        // Send a message to notify the kernel that we're ready.\n",
              "        channel.send({})\n",
              "        if (message.buffers) {\n",
              "          for (const buffer of message.buffers) {\n",
              "            buffers.push(buffer);\n",
              "            downloaded += buffer.byteLength;\n",
              "            progress.value = downloaded;\n",
              "          }\n",
              "        }\n",
              "      }\n",
              "      const blob = new Blob(buffers, {type: 'application/binary'});\n",
              "      const a = document.createElement('a');\n",
              "      a.href = window.URL.createObjectURL(blob);\n",
              "      a.download = filename;\n",
              "      div.appendChild(a);\n",
              "      a.click();\n",
              "      div.remove();\n",
              "    }\n",
              "  "
            ]
          },
          "metadata": {}
        },
        {
          "output_type": "display_data",
          "data": {
            "text/plain": [
              "<IPython.core.display.Javascript object>"
            ],
            "application/javascript": [
              "download(\"download_8b69a3b6-2cb1-4f8c-9177-b6555149c443\", \"site2-F2.png\", 194923)"
            ]
          },
          "metadata": {}
        },
        {
          "name": "stdout",
          "output_type": "stream",
          "text": [
            "site2-F2.png saved\n",
            "\n",
            "site2  >  F5\n",
            "This floor has 30 iBeacons.\n",
            "Example 5 iBeacon UUID_MajorID_MinorIDs:\n",
            "\n",
            "975FB7E9-2181-FE7B-0000-0A50CE021623_2357_30069\n",
            "6B76E28A-6FA2-48C9-8502-C1DAA388AB2C_12652_10372\n",
            "975FB7E9-1241-FE7B-0000-0A50CE022927_176_0\n",
            "975FB7E9-1241-CE7C-0000-0A50CE022927_20791_264\n",
            "975FB7E9-2181-FE7B-0000-0A50CE022927_6965_32131\n",
            "Please input target iBeacon UUID_MajorID_MinorID:\n",
            "975FB7E9-2181-FE7B-0000-0A50CE021623_2357_30069\n"
          ]
        },
        {
          "output_type": "display_data",
          "data": {
            "text/plain": [
              "<IPython.core.display.Javascript object>"
            ],
            "application/javascript": [
              "\n",
              "    async function download(id, filename, size) {\n",
              "      if (!google.colab.kernel.accessAllowed) {\n",
              "        return;\n",
              "      }\n",
              "      const div = document.createElement('div');\n",
              "      const label = document.createElement('label');\n",
              "      label.textContent = `Downloading \"${filename}\": `;\n",
              "      div.appendChild(label);\n",
              "      const progress = document.createElement('progress');\n",
              "      progress.max = size;\n",
              "      div.appendChild(progress);\n",
              "      document.body.appendChild(div);\n",
              "\n",
              "      const buffers = [];\n",
              "      let downloaded = 0;\n",
              "\n",
              "      const channel = await google.colab.kernel.comms.open(id);\n",
              "      // Send a message to notify the kernel that we're ready.\n",
              "      channel.send({})\n",
              "\n",
              "      for await (const message of channel.messages) {\n",
              "        // Send a message to notify the kernel that we're ready.\n",
              "        channel.send({})\n",
              "        if (message.buffers) {\n",
              "          for (const buffer of message.buffers) {\n",
              "            buffers.push(buffer);\n",
              "            downloaded += buffer.byteLength;\n",
              "            progress.value = downloaded;\n",
              "          }\n",
              "        }\n",
              "      }\n",
              "      const blob = new Blob(buffers, {type: 'application/binary'});\n",
              "      const a = document.createElement('a');\n",
              "      a.href = window.URL.createObjectURL(blob);\n",
              "      a.download = filename;\n",
              "      div.appendChild(a);\n",
              "      a.click();\n",
              "      div.remove();\n",
              "    }\n",
              "  "
            ]
          },
          "metadata": {}
        },
        {
          "output_type": "display_data",
          "data": {
            "text/plain": [
              "<IPython.core.display.Javascript object>"
            ],
            "application/javascript": [
              "download(\"download_fdb574de-7c10-4072-85dd-c9836184c31c\", \"site2-F5.png\", 180186)"
            ]
          },
          "metadata": {}
        },
        {
          "name": "stdout",
          "output_type": "stream",
          "text": [
            "site2-F5.png saved\n",
            "\n",
            "site2  >  F6\n",
            "This floor has 18 iBeacons.\n",
            "Example 5 iBeacon UUID_MajorID_MinorIDs:\n",
            "\n",
            "6B76E28A-6FA2-48C9-8502-C1DAA388AB2C_60326_39387\n",
            "FB349B5F-8000-0080-0010-00003CFE0000_1858_41996\n",
            "6B76E28A-6FA2-48C9-8502-C1DAA388AB2C_62574_14808\n",
            "6B76E28A-6FA2-48C9-8502-C1DAA388AB2C_10036_1433\n",
            "6B76E28A-6FA2-48C9-8502-C1DAA388AB2C_20746_7371\n",
            "Please input target iBeacon UUID_MajorID_MinorID:\n",
            "FB349B5F-8000-0080-0010-00003CFE0000_1858_41996\n"
          ]
        },
        {
          "output_type": "display_data",
          "data": {
            "text/plain": [
              "<IPython.core.display.Javascript object>"
            ],
            "application/javascript": [
              "\n",
              "    async function download(id, filename, size) {\n",
              "      if (!google.colab.kernel.accessAllowed) {\n",
              "        return;\n",
              "      }\n",
              "      const div = document.createElement('div');\n",
              "      const label = document.createElement('label');\n",
              "      label.textContent = `Downloading \"${filename}\": `;\n",
              "      div.appendChild(label);\n",
              "      const progress = document.createElement('progress');\n",
              "      progress.max = size;\n",
              "      div.appendChild(progress);\n",
              "      document.body.appendChild(div);\n",
              "\n",
              "      const buffers = [];\n",
              "      let downloaded = 0;\n",
              "\n",
              "      const channel = await google.colab.kernel.comms.open(id);\n",
              "      // Send a message to notify the kernel that we're ready.\n",
              "      channel.send({})\n",
              "\n",
              "      for await (const message of channel.messages) {\n",
              "        // Send a message to notify the kernel that we're ready.\n",
              "        channel.send({})\n",
              "        if (message.buffers) {\n",
              "          for (const buffer of message.buffers) {\n",
              "            buffers.push(buffer);\n",
              "            downloaded += buffer.byteLength;\n",
              "            progress.value = downloaded;\n",
              "          }\n",
              "        }\n",
              "      }\n",
              "      const blob = new Blob(buffers, {type: 'application/binary'});\n",
              "      const a = document.createElement('a');\n",
              "      a.href = window.URL.createObjectURL(blob);\n",
              "      a.download = filename;\n",
              "      div.appendChild(a);\n",
              "      a.click();\n",
              "      div.remove();\n",
              "    }\n",
              "  "
            ]
          },
          "metadata": {}
        },
        {
          "output_type": "display_data",
          "data": {
            "text/plain": [
              "<IPython.core.display.Javascript object>"
            ],
            "application/javascript": [
              "download(\"download_4f95331d-b798-47e9-a71a-68764ef9c44d\", \"site2-F6.png\", 194298)"
            ]
          },
          "metadata": {}
        },
        {
          "name": "stdout",
          "output_type": "stream",
          "text": [
            "site2-F6.png saved\n",
            "\n",
            "site2  >  F1\n",
            "This floor has 23 iBeacons.\n",
            "Example 5 iBeacon UUID_MajorID_MinorIDs:\n",
            "\n",
            "616C6970-6179-626F-7869-626561636F6A_33059_39876\n",
            "0ADCED27-E304-82E4-0598-04B079163892_56792_40227\n",
            "48F8C9EF-AEF9-482D-987F-3752F1C51DA1_20_45257\n",
            "FB349B5F-8000-0080-0010-00003CFE0000_17834_10672\n",
            "6B76E28A-6FA2-48C9-8502-C1DAA388AB2C_43832_27674\n",
            "Please input target iBeacon UUID_MajorID_MinorID:\n",
            "616C6970-6179-626F-7869-626561636F6A_33059_39876\n"
          ]
        },
        {
          "output_type": "display_data",
          "data": {
            "text/plain": [
              "<IPython.core.display.Javascript object>"
            ],
            "application/javascript": [
              "\n",
              "    async function download(id, filename, size) {\n",
              "      if (!google.colab.kernel.accessAllowed) {\n",
              "        return;\n",
              "      }\n",
              "      const div = document.createElement('div');\n",
              "      const label = document.createElement('label');\n",
              "      label.textContent = `Downloading \"${filename}\": `;\n",
              "      div.appendChild(label);\n",
              "      const progress = document.createElement('progress');\n",
              "      progress.max = size;\n",
              "      div.appendChild(progress);\n",
              "      document.body.appendChild(div);\n",
              "\n",
              "      const buffers = [];\n",
              "      let downloaded = 0;\n",
              "\n",
              "      const channel = await google.colab.kernel.comms.open(id);\n",
              "      // Send a message to notify the kernel that we're ready.\n",
              "      channel.send({})\n",
              "\n",
              "      for await (const message of channel.messages) {\n",
              "        // Send a message to notify the kernel that we're ready.\n",
              "        channel.send({})\n",
              "        if (message.buffers) {\n",
              "          for (const buffer of message.buffers) {\n",
              "            buffers.push(buffer);\n",
              "            downloaded += buffer.byteLength;\n",
              "            progress.value = downloaded;\n",
              "          }\n",
              "        }\n",
              "      }\n",
              "      const blob = new Blob(buffers, {type: 'application/binary'});\n",
              "      const a = document.createElement('a');\n",
              "      a.href = window.URL.createObjectURL(blob);\n",
              "      a.download = filename;\n",
              "      div.appendChild(a);\n",
              "      a.click();\n",
              "      div.remove();\n",
              "    }\n",
              "  "
            ]
          },
          "metadata": {}
        },
        {
          "output_type": "display_data",
          "data": {
            "text/plain": [
              "<IPython.core.display.Javascript object>"
            ],
            "application/javascript": [
              "download(\"download_bfb8446b-9c37-4bf3-a060-c27b4071b9d7\", \"site2-F1.png\", 174450)"
            ]
          },
          "metadata": {}
        },
        {
          "name": "stdout",
          "output_type": "stream",
          "text": [
            "site2-F1.png saved\n",
            "\n",
            "site2  >  F3\n",
            "This floor has 11 iBeacons.\n",
            "Example 5 iBeacon UUID_MajorID_MinorIDs:\n",
            "\n",
            "F59EDB6A-F399-4C80-A759-D059BF84C96D_65520_4608\n",
            "9195B3AD-A9D0-4500-85FF-9FB0F65A5201_0_0\n",
            "FB349B5F-8000-0080-0010-00003CFE0000_27998_53053\n",
            "616C6970-6179-626F-7869-626561636F6A_33059_39876\n",
            "FDA50693-A4E2-4FB1-AFCF-C6EB07647825_10073_61418\n",
            "Please input target iBeacon UUID_MajorID_MinorID:\n",
            "F59EDB6A-F399-4C80-A759-D059BF84C96D_65520_4608\n"
          ]
        },
        {
          "output_type": "display_data",
          "data": {
            "text/plain": [
              "<IPython.core.display.Javascript object>"
            ],
            "application/javascript": [
              "\n",
              "    async function download(id, filename, size) {\n",
              "      if (!google.colab.kernel.accessAllowed) {\n",
              "        return;\n",
              "      }\n",
              "      const div = document.createElement('div');\n",
              "      const label = document.createElement('label');\n",
              "      label.textContent = `Downloading \"${filename}\": `;\n",
              "      div.appendChild(label);\n",
              "      const progress = document.createElement('progress');\n",
              "      progress.max = size;\n",
              "      div.appendChild(progress);\n",
              "      document.body.appendChild(div);\n",
              "\n",
              "      const buffers = [];\n",
              "      let downloaded = 0;\n",
              "\n",
              "      const channel = await google.colab.kernel.comms.open(id);\n",
              "      // Send a message to notify the kernel that we're ready.\n",
              "      channel.send({})\n",
              "\n",
              "      for await (const message of channel.messages) {\n",
              "        // Send a message to notify the kernel that we're ready.\n",
              "        channel.send({})\n",
              "        if (message.buffers) {\n",
              "          for (const buffer of message.buffers) {\n",
              "            buffers.push(buffer);\n",
              "            downloaded += buffer.byteLength;\n",
              "            progress.value = downloaded;\n",
              "          }\n",
              "        }\n",
              "      }\n",
              "      const blob = new Blob(buffers, {type: 'application/binary'});\n",
              "      const a = document.createElement('a');\n",
              "      a.href = window.URL.createObjectURL(blob);\n",
              "      a.download = filename;\n",
              "      div.appendChild(a);\n",
              "      a.click();\n",
              "      div.remove();\n",
              "    }\n",
              "  "
            ]
          },
          "metadata": {}
        },
        {
          "output_type": "display_data",
          "data": {
            "text/plain": [
              "<IPython.core.display.Javascript object>"
            ],
            "application/javascript": [
              "download(\"download_6de039fa-08f7-4568-b859-1db529e8222f\", \"site2-F3.png\", 187933)"
            ]
          },
          "metadata": {}
        },
        {
          "name": "stdout",
          "output_type": "stream",
          "text": [
            "site2-F3.png saved\n",
            "\n",
            "site2  >  F7\n",
            "This floor has 15 iBeacons.\n",
            "Example 5 iBeacon UUID_MajorID_MinorIDs:\n",
            "\n",
            "E7FC9D3C-EF01-4B70-B280-2CF6D50FA5CA_38122_24948\n",
            "6B76E28A-6FA2-48C9-8502-C1DAA388AB2C_35621_12090\n",
            "FB349B5F-8000-0080-0010-00003CFE0000_1858_41996\n",
            "6B76E28A-6FA2-48C9-8502-C1DAA388AB2C_20746_7371\n",
            "6B76E28A-6FA2-48C9-8502-C1DAA388AB2C_60326_39387\n",
            "Please input target iBeacon UUID_MajorID_MinorID:\n",
            "6B76E28A-6FA2-48C9-8502-C1DAA388AB2C_35621_12090\n"
          ]
        },
        {
          "output_type": "display_data",
          "data": {
            "text/plain": [
              "<IPython.core.display.Javascript object>"
            ],
            "application/javascript": [
              "\n",
              "    async function download(id, filename, size) {\n",
              "      if (!google.colab.kernel.accessAllowed) {\n",
              "        return;\n",
              "      }\n",
              "      const div = document.createElement('div');\n",
              "      const label = document.createElement('label');\n",
              "      label.textContent = `Downloading \"${filename}\": `;\n",
              "      div.appendChild(label);\n",
              "      const progress = document.createElement('progress');\n",
              "      progress.max = size;\n",
              "      div.appendChild(progress);\n",
              "      document.body.appendChild(div);\n",
              "\n",
              "      const buffers = [];\n",
              "      let downloaded = 0;\n",
              "\n",
              "      const channel = await google.colab.kernel.comms.open(id);\n",
              "      // Send a message to notify the kernel that we're ready.\n",
              "      channel.send({})\n",
              "\n",
              "      for await (const message of channel.messages) {\n",
              "        // Send a message to notify the kernel that we're ready.\n",
              "        channel.send({})\n",
              "        if (message.buffers) {\n",
              "          for (const buffer of message.buffers) {\n",
              "            buffers.push(buffer);\n",
              "            downloaded += buffer.byteLength;\n",
              "            progress.value = downloaded;\n",
              "          }\n",
              "        }\n",
              "      }\n",
              "      const blob = new Blob(buffers, {type: 'application/binary'});\n",
              "      const a = document.createElement('a');\n",
              "      a.href = window.URL.createObjectURL(blob);\n",
              "      a.download = filename;\n",
              "      div.appendChild(a);\n",
              "      a.click();\n",
              "      div.remove();\n",
              "    }\n",
              "  "
            ]
          },
          "metadata": {}
        },
        {
          "output_type": "display_data",
          "data": {
            "text/plain": [
              "<IPython.core.display.Javascript object>"
            ],
            "application/javascript": [
              "download(\"download_d52b53fe-79e8-44eb-8bd8-9d61165c0562\", \"site2-F7.png\", 176390)"
            ]
          },
          "metadata": {}
        },
        {
          "name": "stdout",
          "output_type": "stream",
          "text": [
            "site2-F7.png saved\n",
            "\n",
            "site2  >  F8\n",
            "This floor has 7 iBeacons.\n",
            "Example 5 iBeacon UUID_MajorID_MinorIDs:\n",
            "\n",
            "48F8C9EF-AEF9-482D-987F-3752F1C51DA1_17_11425\n",
            "FB349B5F-8000-0080-0010-00003CFE0000_1858_41996\n",
            "48F8C9EF-AEF9-482D-987F-3752F1C51DA1_22_16153\n",
            "6B76E28A-6FA2-48C9-8502-C1DAA388AB2C_27292_47348\n",
            "991CB71E-850B-C24D-4047-90A0ACAA4951_45830_56687\n",
            "Please input target iBeacon UUID_MajorID_MinorID:\n",
            "48F8C9EF-AEF9-482D-987F-3752F1C51DA1_17_11425\n"
          ]
        },
        {
          "output_type": "display_data",
          "data": {
            "text/plain": [
              "<IPython.core.display.Javascript object>"
            ],
            "application/javascript": [
              "\n",
              "    async function download(id, filename, size) {\n",
              "      if (!google.colab.kernel.accessAllowed) {\n",
              "        return;\n",
              "      }\n",
              "      const div = document.createElement('div');\n",
              "      const label = document.createElement('label');\n",
              "      label.textContent = `Downloading \"${filename}\": `;\n",
              "      div.appendChild(label);\n",
              "      const progress = document.createElement('progress');\n",
              "      progress.max = size;\n",
              "      div.appendChild(progress);\n",
              "      document.body.appendChild(div);\n",
              "\n",
              "      const buffers = [];\n",
              "      let downloaded = 0;\n",
              "\n",
              "      const channel = await google.colab.kernel.comms.open(id);\n",
              "      // Send a message to notify the kernel that we're ready.\n",
              "      channel.send({})\n",
              "\n",
              "      for await (const message of channel.messages) {\n",
              "        // Send a message to notify the kernel that we're ready.\n",
              "        channel.send({})\n",
              "        if (message.buffers) {\n",
              "          for (const buffer of message.buffers) {\n",
              "            buffers.push(buffer);\n",
              "            downloaded += buffer.byteLength;\n",
              "            progress.value = downloaded;\n",
              "          }\n",
              "        }\n",
              "      }\n",
              "      const blob = new Blob(buffers, {type: 'application/binary'});\n",
              "      const a = document.createElement('a');\n",
              "      a.href = window.URL.createObjectURL(blob);\n",
              "      a.download = filename;\n",
              "      div.appendChild(a);\n",
              "      a.click();\n",
              "      div.remove();\n",
              "    }\n",
              "  "
            ]
          },
          "metadata": {}
        },
        {
          "output_type": "display_data",
          "data": {
            "text/plain": [
              "<IPython.core.display.Javascript object>"
            ],
            "application/javascript": [
              "download(\"download_8290c006-e5b5-44b5-9951-47d609bda6ac\", \"site2-F8.png\", 145533)"
            ]
          },
          "metadata": {}
        },
        {
          "output_type": "stream",
          "name": "stdout",
          "text": [
            "site2-F8.png saved\n",
            "\n",
            "FINISHED\n"
          ]
        },
        {
          "output_type": "display_data",
          "data": {
            "text/plain": [
              "<Figure size 432x288 with 2 Axes>"
            ],
            "image/png": "[encoded data removed]"
          },
          "metadata": {
            "needs_background": "light"
          }
        }
      ]
    },
    {
      "cell_type": "markdown",
      "source": [
        "## Compute_f.py"
      ],
      "metadata": {
        "id": "YM4yGcNfINWm"
      }
    },
    {
      "cell_type": "code",
      "source": [
        "import numpy as np\n",
        "import scipy.signal as signal\n",
        "\n",
        "\n",
        "def split_ts_seq(ts_seq, sep_ts):\n",
        "    \"\"\"\n",
        "\n",
        "    :param ts_seq:\n",
        "    :param sep_ts:\n",
        "    :return:\n",
        "    \"\"\"\n",
        "    tss = ts_seq[:, 0].astype(float)\n",
        "    unique_sep_ts = np.unique(sep_ts)\n",
        "    ts_seqs = []\n",
        "    start_index = 0\n",
        "    for i in range(0, unique_sep_ts.shape[0]):\n",
        "        end_index = np.searchsorted(tss, unique_sep_ts[i], side='right')\n",
        "        if start_index == end_index:\n",
        "            continue\n",
        "        ts_seqs.append(ts_seq[start_index:end_index, :].copy())\n",
        "        start_index = end_index\n",
        "\n",
        "    # tail data\n",
        "    if start_index < ts_seq.shape[0]:\n",
        "        ts_seqs.append(ts_seq[start_index:, :].copy())\n",
        "\n",
        "    return ts_seqs\n",
        "\n",
        "\n",
        "def correct_trajectory(original_xys, end_xy):\n",
        "    \"\"\"\n",
        "\n",
        "    :param original_xys: numpy ndarray, shape(N, 2)\n",
        "    :param end_xy: numpy ndarray, shape(1, 2)\n",
        "    :return:\n",
        "    \"\"\"\n",
        "    corrected_xys = np.zeros((0, 2))\n",
        "\n",
        "    A = original_xys[0, :]\n",
        "    B = end_xy\n",
        "    Bp = original_xys[-1, :]\n",
        "\n",
        "    angle_BAX = np.arctan2(B[1] - A[1], B[0] - A[0])\n",
        "    angle_BpAX = np.arctan2(Bp[1] - A[1], Bp[0] - A[0])\n",
        "    angle_BpAB = angle_BpAX - angle_BAX\n",
        "    AB = np.sqrt(np.sum((B - A) ** 2))\n",
        "    ABp = np.sqrt(np.sum((Bp - A) ** 2))\n",
        "\n",
        "    corrected_xys = np.append(corrected_xys, [A], 0)\n",
        "    for i in np.arange(1, np.size(original_xys, 0)):\n",
        "        angle_CpAX = np.arctan2(original_xys[i, 1] - A[1], original_xys[i, 0] - A[0])\n",
        "\n",
        "        angle_CAX = angle_CpAX - angle_BpAB\n",
        "\n",
        "        ACp = np.sqrt(np.sum((original_xys[i, :] - A) ** 2))\n",
        "\n",
        "        AC = ACp * AB / ABp\n",
        "\n",
        "        delta_C = np.array([AC * np.cos(angle_CAX), AC * np.sin(angle_CAX)])\n",
        "\n",
        "        C = delta_C + A\n",
        "\n",
        "        corrected_xys = np.append(corrected_xys, [C], 0)\n",
        "\n",
        "    return corrected_xys\n",
        "\n",
        "\n",
        "def correct_positions(rel_positions, reference_positions):\n",
        "    \"\"\"\n",
        "\n",
        "    :param rel_positions:\n",
        "    :param reference_positions:\n",
        "    :return:\n",
        "    \"\"\"\n",
        "    rel_positions_list = split_ts_seq(rel_positions, reference_positions[:, 0])\n",
        "    if len(rel_positions_list) != reference_positions.shape[0] - 1:\n",
        "        # print(f'Rel positions list size: {len(rel_positions_list)}, ref positions size: {reference_positions.shape[0]}')\n",
        "        del rel_positions_list[-1]\n",
        "    assert len(rel_positions_list) == reference_positions.shape[0] - 1\n",
        "\n",
        "    corrected_positions = np.zeros((0, 3))\n",
        "    for i, rel_ps in enumerate(rel_positions_list):\n",
        "        start_position = reference_positions[i]\n",
        "        end_position = reference_positions[i + 1]\n",
        "        abs_ps = np.zeros(rel_ps.shape)\n",
        "        abs_ps[:, 0] = rel_ps[:, 0]\n",
        "        # abs_ps[:, 1:3] = rel_ps[:, 1:3] + start_position[1:3]\n",
        "        abs_ps[0, 1:3] = rel_ps[0, 1:3] + start_position[1:3]\n",
        "        for j in range(1, rel_ps.shape[0]):\n",
        "            abs_ps[j, 1:3] = abs_ps[j-1, 1:3] + rel_ps[j, 1:3]\n",
        "        abs_ps = np.insert(abs_ps, 0, start_position, axis=0)\n",
        "        corrected_xys = correct_trajectory(abs_ps[:, 1:3], end_position[1:3])\n",
        "        corrected_ps = np.column_stack((abs_ps[:, 0], corrected_xys))\n",
        "        if i == 0:\n",
        "            corrected_positions = np.append(corrected_positions, corrected_ps, axis=0)\n",
        "        else:\n",
        "            corrected_positions = np.append(corrected_positions, corrected_ps[1:], axis=0)\n",
        "\n",
        "    corrected_positions = np.array(corrected_positions)\n",
        "\n",
        "    return corrected_positions\n",
        "\n",
        "\n",
        "def init_parameters_filter(sample_freq, warmup_data, cut_off_freq=2):\n",
        "    order = 4\n",
        "    filter_b, filter_a = signal.butter(order, cut_off_freq / (sample_freq / 2), 'low', False)\n",
        "    zf = signal.lfilter_zi(filter_b, filter_a)\n",
        "    _, zf = signal.lfilter(filter_b, filter_a, warmup_data, zi=zf)\n",
        "    _, filter_zf = signal.lfilter(filter_b, filter_a, warmup_data, zi=zf)\n",
        "\n",
        "    return filter_b, filter_a, filter_zf\n",
        "\n",
        "\n",
        "def get_rotation_matrix_from_vector(rotation_vector):\n",
        "    q1 = rotation_vector[0]\n",
        "    q2 = rotation_vector[1]\n",
        "    q3 = rotation_vector[2]\n",
        "\n",
        "    if rotation_vector.size >= 4:\n",
        "        q0 = rotation_vector[3]\n",
        "    else:\n",
        "        q0 = 1 - q1*q1 - q2*q2 - q3*q3\n",
        "        if q0 > 0:\n",
        "            q0 = np.sqrt(q0)\n",
        "        else:\n",
        "            q0 = 0\n",
        "\n",
        "    sq_q1 = 2 * q1 * q1\n",
        "    sq_q2 = 2 * q2 * q2\n",
        "    sq_q3 = 2 * q3 * q3\n",
        "    q1_q2 = 2 * q1 * q2\n",
        "    q3_q0 = 2 * q3 * q0\n",
        "    q1_q3 = 2 * q1 * q3\n",
        "    q2_q0 = 2 * q2 * q0\n",
        "    q2_q3 = 2 * q2 * q3\n",
        "    q1_q0 = 2 * q1 * q0\n",
        "\n",
        "    R = np.zeros((9,))\n",
        "    if R.size == 9:\n",
        "        R[0] = 1 - sq_q2 - sq_q3\n",
        "        R[1] = q1_q2 - q3_q0\n",
        "        R[2] = q1_q3 + q2_q0\n",
        "\n",
        "        R[3] = q1_q2 + q3_q0\n",
        "        R[4] = 1 - sq_q1 - sq_q3\n",
        "        R[5] = q2_q3 - q1_q0\n",
        "\n",
        "        R[6] = q1_q3 - q2_q0\n",
        "        R[7] = q2_q3 + q1_q0\n",
        "        R[8] = 1 - sq_q1 - sq_q2\n",
        "\n",
        "        R = np.reshape(R, (3, 3))\n",
        "    elif R.size == 16:\n",
        "        R[0] = 1 - sq_q2 - sq_q3\n",
        "        R[1] = q1_q2 - q3_q0\n",
        "        R[2] = q1_q3 + q2_q0\n",
        "        R[3] = 0.0\n",
        "\n",
        "        R[4] = q1_q2 + q3_q0\n",
        "        R[5] = 1 - sq_q1 - sq_q3\n",
        "        R[6] = q2_q3 - q1_q0\n",
        "        R[7] = 0.0\n",
        "\n",
        "        R[8] = q1_q3 - q2_q0\n",
        "        R[9] = q2_q3 + q1_q0\n",
        "        R[10] = 1 - sq_q1 - sq_q2\n",
        "        R[11] = 0.0\n",
        "\n",
        "        R[12] = R[13] = R[14] = 0.0\n",
        "        R[15] = 1.0\n",
        "\n",
        "        R = np.reshape(R, (4, 4))\n",
        "\n",
        "    return R\n",
        "\n",
        "\n",
        "def get_orientation(R):\n",
        "    flat_R = R.flatten()\n",
        "    values = np.zeros((3,))\n",
        "    if np.size(flat_R) == 9:\n",
        "        values[0] = np.arctan2(flat_R[1], flat_R[4])\n",
        "        values[1] = np.arcsin(-flat_R[7])\n",
        "        values[2] = np.arctan2(-flat_R[6], flat_R[8])\n",
        "    else:\n",
        "        values[0] = np.arctan2(flat_R[1], flat_R[5])\n",
        "        values[1] = np.arcsin(-flat_R[9])\n",
        "        values[2] = np.arctan2(-flat_R[8], flat_R[10])\n",
        "\n",
        "    return values\n",
        "\n",
        "\n",
        "def compute_steps(acce_datas):\n",
        "    step_timestamps = np.array([])\n",
        "    step_indexs = np.array([], dtype=int)\n",
        "    step_acce_max_mins = np.zeros((0, 4))\n",
        "    sample_freq = 50\n",
        "    window_size = 22\n",
        "    low_acce_mag = 0.6\n",
        "    step_criterion = 1\n",
        "    interval_threshold = 250\n",
        "\n",
        "    acce_max = np.zeros((2,))\n",
        "    acce_min = np.zeros((2,))\n",
        "    acce_binarys = np.zeros((window_size,), dtype=int)\n",
        "    acce_mag_pre = 0\n",
        "    state_flag = 0\n",
        "\n",
        "    warmup_data = np.ones((window_size,)) * 9.81\n",
        "    filter_b, filter_a, filter_zf = init_parameters_filter(sample_freq, warmup_data)\n",
        "    acce_mag_window = np.zeros((window_size, 1))\n",
        "\n",
        "    # detect steps according to acceleration magnitudes\n",
        "    for i in np.arange(0, np.size(acce_datas, 0)):\n",
        "        acce_data = acce_datas[i, :]\n",
        "        acce_mag = np.sqrt(np.sum(acce_data[1:] ** 2))\n",
        "\n",
        "        acce_mag_filt, filter_zf = signal.lfilter(filter_b, filter_a, [acce_mag], zi=filter_zf)\n",
        "        acce_mag_filt = acce_mag_filt[0]\n",
        "\n",
        "        acce_mag_window = np.append(acce_mag_window, [acce_mag_filt])\n",
        "        acce_mag_window = np.delete(acce_mag_window, 0)\n",
        "        mean_gravity = np.mean(acce_mag_window)\n",
        "        acce_std = np.std(acce_mag_window)\n",
        "        mag_threshold = np.max([low_acce_mag, 0.4 * acce_std])\n",
        "\n",
        "        # detect valid peak or valley of acceleration magnitudes\n",
        "        acce_mag_filt_detrend = acce_mag_filt - mean_gravity\n",
        "        if acce_mag_filt_detrend > np.max([acce_mag_pre, mag_threshold]):\n",
        "            # peak\n",
        "            acce_binarys = np.append(acce_binarys, [1])\n",
        "            acce_binarys = np.delete(acce_binarys, 0)\n",
        "        elif acce_mag_filt_detrend < np.min([acce_mag_pre, -mag_threshold]):\n",
        "            # valley\n",
        "            acce_binarys = np.append(acce_binarys, [-1])\n",
        "            acce_binarys = np.delete(acce_binarys, 0)\n",
        "        else:\n",
        "            # between peak and valley\n",
        "            acce_binarys = np.append(acce_binarys, [0])\n",
        "            acce_binarys = np.delete(acce_binarys, 0)\n",
        "\n",
        "        if (acce_binarys[-1] == 0) and (acce_binarys[-2] == 1):\n",
        "            if state_flag == 0:\n",
        "                acce_max[:] = acce_data[0], acce_mag_filt\n",
        "                state_flag = 1\n",
        "            elif (state_flag == 1) and ((acce_data[0] - acce_max[0]) <= interval_threshold) and (\n",
        "                    acce_mag_filt > acce_max[1]):\n",
        "                acce_max[:] = acce_data[0], acce_mag_filt\n",
        "            elif (state_flag == 2) and ((acce_data[0] - acce_max[0]) > interval_threshold):\n",
        "                acce_max[:] = acce_data[0], acce_mag_filt\n",
        "                state_flag = 1\n",
        "\n",
        "        # choose reasonable step criterion and check if there is a valid step\n",
        "        # save step acceleration data: step_acce_max_mins = [timestamp, max, min, variance]\n",
        "        step_flag = False\n",
        "        if step_criterion == 2:\n",
        "            if (acce_binarys[-1] == -1) and ((acce_binarys[-2] == 1) or (acce_binarys[-2] == 0)):\n",
        "                step_flag = True\n",
        "        elif step_criterion == 3:\n",
        "            if (acce_binarys[-1] == -1) and (acce_binarys[-2] == 0) and (np.sum(acce_binarys[:-2]) > 1):\n",
        "                step_flag = True\n",
        "        else:\n",
        "            if (acce_binarys[-1] == 0) and acce_binarys[-2] == -1:\n",
        "                if (state_flag == 1) and ((acce_data[0] - acce_min[0]) > interval_threshold):\n",
        "                    acce_min[:] = acce_data[0], acce_mag_filt\n",
        "                    state_flag = 2\n",
        "                    step_flag = True\n",
        "                elif (state_flag == 2) and ((acce_data[0] - acce_min[0]) <= interval_threshold) and (\n",
        "                        acce_mag_filt < acce_min[1]):\n",
        "                    acce_min[:] = acce_data[0], acce_mag_filt\n",
        "        if step_flag:\n",
        "            step_timestamps = np.append(step_timestamps, acce_data[0])\n",
        "            step_indexs = np.append(step_indexs, [i])\n",
        "            step_acce_max_mins = np.append(step_acce_max_mins,\n",
        "                                           [[acce_data[0], acce_max[1], acce_min[1], acce_std ** 2]], axis=0)\n",
        "        acce_mag_pre = acce_mag_filt_detrend\n",
        "\n",
        "    return step_timestamps, step_indexs, step_acce_max_mins\n",
        "\n",
        "\n",
        "def compute_stride_length(step_acce_max_mins):\n",
        "    K = 0.4\n",
        "    K_max = 0.8\n",
        "    K_min = 0.4\n",
        "    para_a0 = 0.21468084\n",
        "    para_a1 = 0.09154517\n",
        "    para_a2 = 0.02301998\n",
        "\n",
        "    stride_lengths = np.zeros((step_acce_max_mins.shape[0], 2))\n",
        "    k_real = np.zeros((step_acce_max_mins.shape[0], 2))\n",
        "    step_timeperiod = np.zeros((step_acce_max_mins.shape[0] - 1, ))\n",
        "    stride_lengths[:, 0] = step_acce_max_mins[:, 0]\n",
        "    window_size = 2\n",
        "    step_timeperiod_temp = np.zeros((0, ))\n",
        "\n",
        "    # calculate every step period - step_timeperiod unit: second\n",
        "    for i in range(0, step_timeperiod.shape[0]):\n",
        "        step_timeperiod_data = (step_acce_max_mins[i + 1, 0] - step_acce_max_mins[i, 0]) / 1000\n",
        "        step_timeperiod_temp = np.append(step_timeperiod_temp, [step_timeperiod_data])\n",
        "        if step_timeperiod_temp.shape[0] > window_size:\n",
        "            step_timeperiod_temp = np.delete(step_timeperiod_temp, [0])\n",
        "        step_timeperiod[i] = np.sum(step_timeperiod_temp) / step_timeperiod_temp.shape[0]\n",
        "\n",
        "    # calculate parameters by step period and acceleration magnitude variance\n",
        "    k_real[:, 0] = step_acce_max_mins[:, 0]\n",
        "    k_real[0, 1] = K\n",
        "    for i in range(0, step_timeperiod.shape[0]):\n",
        "        k_real[i + 1, 1] = np.max([(para_a0 + para_a1 / step_timeperiod[i] + para_a2 * step_acce_max_mins[i, 3]), K_min])\n",
        "        k_real[i + 1, 1] = np.min([k_real[i + 1, 1], K_max]) * (K / K_min)\n",
        "\n",
        "    # calculate every stride length by parameters and max and min data of acceleration magnitude\n",
        "    stride_lengths[:, 1] = np.max([(step_acce_max_mins[:, 1] - step_acce_max_mins[:, 2]),\n",
        "                                   np.ones((step_acce_max_mins.shape[0], ))], axis=0)**(1 / 4) * k_real[:, 1]\n",
        "\n",
        "    return stride_lengths\n",
        "\n",
        "\n",
        "def compute_headings(ahrs_datas):\n",
        "    headings = np.zeros((np.size(ahrs_datas, 0), 2))\n",
        "    for i in np.arange(0, np.size(ahrs_datas, 0)):\n",
        "        ahrs_data = ahrs_datas[i, :]\n",
        "        rot_mat = get_rotation_matrix_from_vector(ahrs_data[1:])\n",
        "        azimuth, pitch, roll = get_orientation(rot_mat)\n",
        "        around_z = (-azimuth) % (2 * np.pi)\n",
        "        headings[i, :] = ahrs_data[0], around_z\n",
        "    return headings\n",
        "\n",
        "\n",
        "def compute_step_heading(step_timestamps, headings):\n",
        "    step_headings = np.zeros((len(step_timestamps), 2))\n",
        "    step_timestamps_index = 0\n",
        "    for i in range(0, len(headings)):\n",
        "        if step_timestamps_index < len(step_timestamps):\n",
        "            if headings[i, 0] == step_timestamps[step_timestamps_index]:\n",
        "                step_headings[step_timestamps_index, :] = headings[i, :]\n",
        "                step_timestamps_index += 1\n",
        "        else:\n",
        "            break\n",
        "    assert step_timestamps_index == len(step_timestamps)\n",
        "\n",
        "    return step_headings\n",
        "\n",
        "\n",
        "def compute_rel_positions(stride_lengths, step_headings):\n",
        "    rel_positions = np.zeros((stride_lengths.shape[0], 3))\n",
        "    for i in range(0, stride_lengths.shape[0]):\n",
        "        rel_positions[i, 0] = stride_lengths[i, 0]\n",
        "        rel_positions[i, 1] = -stride_lengths[i, 1] * np.sin(step_headings[i, 1])\n",
        "        rel_positions[i, 2] = stride_lengths[i, 1] * np.cos(step_headings[i, 1])\n",
        "\n",
        "    return rel_positions\n",
        "\n",
        "\n",
        "def compute_step_positions(acce_datas, ahrs_datas, posi_datas):\n",
        "    step_timestamps, step_indexs, step_acce_max_mins = compute_steps(acce_datas)\n",
        "    headings = compute_headings(ahrs_datas)\n",
        "    stride_lengths = compute_stride_length(step_acce_max_mins)\n",
        "    step_headings = compute_step_heading(step_timestamps, headings)\n",
        "    rel_positions = compute_rel_positions(stride_lengths, step_headings)\n",
        "    step_positions = correct_positions(rel_positions, posi_datas)\n",
        "\n",
        "    return step_positions"
      ],
      "metadata": {
        "id": "HyG88TrAIHF3"
      },
      "execution_count": 11,
      "outputs": []
    },
    {
      "cell_type": "markdown",
      "source": [
        "## Visualize iBeacon RSSI with accelerometer, rotation vectors and waypoints "
      ],
      "metadata": {
        "id": "-enZa2nICwvF"
      }
    },
    {
      "cell_type": "code",
      "source": [
        "save_dir = os.path.join('/content/drive/My Drive/Colab_Notebooks/indoor-location-competition-20-master/output', 'rss_ibeacon_wp_augmented')\n",
        "!mkdir save_dir\n",
        "data_dir = \"/content/drive/My Drive/Colab_Notebooks/indoor-location-competition-20-master/data/\"\n",
        "\n",
        "for site, floor in site_floors(data_dir):\n",
        "  print(site, ' > ', floor)\n",
        "\n",
        "  data_dir = os.path.join('/content/drive/My Drive/Colab_Notebooks/indoor-location-competition-20-master/data/', site, floor)\n",
        "  data_list = os.listdir(os.path.join(data_dir, \"path_data_files\"))\n",
        "  \n",
        "  json_dir = os.path.join(data_dir, 'floor_info.json')\n",
        "  with open(json_dir) as file:\n",
        "    mapinfo = json.load(file)['map_info']\n",
        "  map_height = mapinfo['height']\n",
        "  map_width = mapinfo['width']\n",
        "  # print(map_height)\n",
        "\n",
        "  beacon_data = defaultdict(list)\n",
        "  for filename in data_list:\n",
        "    # print(f'Processing file: {filename}...')\n",
        "    path_data      = read_data_file(os.path.join(data_dir, \"path_data_files\", filename))\n",
        "    accel_data     = path_data.acce\n",
        "    manet_data     = path_data.magn\n",
        "    rot_vec_data   = path_data.ahrs\n",
        "    ibeacon_datas  = path_data.ibeacon\n",
        "    pos_datas      = path_data.waypoint\n",
        "\n",
        "    augmented_data = compute_step_positions(accel_data, rot_vec_data, pos_datas)\n",
        "\n",
        "    index_data = [{'ibeacon': defaultdict(list)} for _ in range(len(augmented_data))]\n",
        "    index_time = augmented_data[:, 0]\n",
        "    # print(index_time)\n",
        "\n",
        "    for ibeacon_data in ibeacon_datas:\n",
        "      tdiff = abs(index_time - int(ibeacon_data[0]))\n",
        "      arg_min = np.argmin(tdiff)  # INDEX of argmin\n",
        "      index_data[arg_min]['ibeacon'][ibeacon_data[1]].append(int(ibeacon_data[2]))\n",
        "      # print(index_data)\n",
        "\n",
        "    txt_data = [None] * len(augmented_data)\n",
        "    for index in range(len(index_time)):\n",
        "      t, x_pos, y_pos = augmented_data[index]\n",
        "\n",
        "      txt_data[index] = [t, x_pos, y_pos]\n",
        "      # print(waypoint[index])\n",
        "      ibeacons = index_data[index]['ibeacon']\n",
        "\n",
        "      txt_data[index].append(defaultdict(lambda: -100))\n",
        "      for bssid, rssis in ibeacons.items():\n",
        "        txt_data[index][-1][bssid] = sum(rssis) / len(rssis)\n",
        "\n",
        "    # print(txt_data)\n",
        "    save_path = os.path.join(save_dir, site + '-' + floor)\n",
        "\n",
        "    for tdata in txt_data:\n",
        "      x_pos, y_pos = tdata[1], tdata[2]\n",
        "      beacon_timestamp = tdata[3]\n",
        "      \n",
        "      for ummid, rssi in beacon_timestamp.items():\n",
        "        beacon_data[ummid].append((x_pos, y_pos, rssi))\n",
        "        # print(beacon_data[ummid])\n",
        "\n",
        "  print(f'This floor has {len(beacon_data)} iBeacons.')\n",
        "  print('Example 5 iBeacon UUID_MajorID_MinorIDs:\\n')\n",
        "  five_ibeacon_ummids = random.sample(beacon_data.keys(), 5)\n",
        "  for ummid in five_ibeacon_ummids:\n",
        "      print(ummid)\n",
        "  target_ibeacon = input(f\"Please input target iBeacon UUID_MajorID_MinorID:\\n\")\n",
        "  target_ibeacon_data = np.array(beacon_data[target_ibeacon])\n",
        "\n",
        "  img = mpimg.imread(os.path.join(data_dir, 'floor_image.png'))\n",
        "  plt.clf()\n",
        "  plt.imshow(img)\n",
        "  plt.title('iBeacon: \\n' + target_ibeacon)\n",
        "  mapscaler = (img.shape[0] / map_height + img.shape[1] / map_width) / 2\n",
        "  x = target_ibeacon_data[:, 0] * mapscaler\n",
        "  y = img.shape[0] - target_ibeacon_data[:, 1] * mapscaler\n",
        "  rssi_intensity = target_ibeacon_data[:, 2]\n",
        "\n",
        "  plt.scatter(x, y, c=rssi_intensity, s=5, cmap = plt.cm.get_cmap('cividis'))\n",
        "  plt.colorbar()\n",
        "  plt.xticks((np.arange(25, map_width, 25) * mapscaler).astype('uint'), np.arange(25, map_width, 25).astype('uint'))\n",
        "  plt.yticks((img.shape[0] - np.arange(25, map_height, 25) * mapscaler).astype('uint'),\n",
        "              np.arange(25, map_height, 25).astype('uint'))\n",
        "  if save_path:\n",
        "    plt.savefig(f\"{site}-{floor}.png\", dpi=160)\n",
        "    files.download(f\"{site}-{floor}.png\") \n",
        "    print(f\"{site}-{floor}.png saved\\n\")\n",
        "\n",
        "  else:\n",
        "      plt.show()\n",
        "\n",
        "\n",
        "print(\"FINISHED\")"
      ],
      "metadata": {
        "colab": {
          "base_uri": "https://localhost:8080/",
          "height": 1000
        },
        "id": "R4_CTTNt2HUj",
        "outputId": "eb2e6a55-dc11-4334-87df-6efb16d7f196"
      },
      "execution_count": 12,
      "outputs": [
        {
          "name": "stdout",
          "output_type": "stream",
          "text": [
            "mkdir: cannot create directory ‘save_dir’: File exists\n",
            "site1  >  B1\n",
            "This floor has 55 iBeacons.\n",
            "Example 5 iBeacon UUID_MajorID_MinorIDs:\n",
            "\n",
            "6B76E28A-6FA2-48C9-8502-C1DAA388AB2C_35901_41693\n",
            "616C6970-6179-626F-7869-626561636F6A_3824_27065\n",
            "616C6970-6179-626F-7869-626561636F6A_30011_12239\n",
            "616C6970-6179-626F-7869-626561636F6A_62915_27020\n",
            "616C6970-6179-626F-7869-626561636F6A_49662_37272\n",
            "Please input target iBeacon UUID_MajorID_MinorID:\n",
            "6B76E28A-6FA2-48C9-8502-C1DAA388AB2C_20057_38865\n"
          ]
        },
        {
          "output_type": "display_data",
          "data": {
            "text/plain": [
              "<IPython.core.display.Javascript object>"
            ],
            "application/javascript": [
              "\n",
              "    async function download(id, filename, size) {\n",
              "      if (!google.colab.kernel.accessAllowed) {\n",
              "        return;\n",
              "      }\n",
              "      const div = document.createElement('div');\n",
              "      const label = document.createElement('label');\n",
              "      label.textContent = `Downloading \"${filename}\": `;\n",
              "      div.appendChild(label);\n",
              "      const progress = document.createElement('progress');\n",
              "      progress.max = size;\n",
              "      div.appendChild(progress);\n",
              "      document.body.appendChild(div);\n",
              "\n",
              "      const buffers = [];\n",
              "      let downloaded = 0;\n",
              "\n",
              "      const channel = await google.colab.kernel.comms.open(id);\n",
              "      // Send a message to notify the kernel that we're ready.\n",
              "      channel.send({})\n",
              "\n",
              "      for await (const message of channel.messages) {\n",
              "        // Send a message to notify the kernel that we're ready.\n",
              "        channel.send({})\n",
              "        if (message.buffers) {\n",
              "          for (const buffer of message.buffers) {\n",
              "            buffers.push(buffer);\n",
              "            downloaded += buffer.byteLength;\n",
              "            progress.value = downloaded;\n",
              "          }\n",
              "        }\n",
              "      }\n",
              "      const blob = new Blob(buffers, {type: 'application/binary'});\n",
              "      const a = document.createElement('a');\n",
              "      a.href = window.URL.createObjectURL(blob);\n",
              "      a.download = filename;\n",
              "      div.appendChild(a);\n",
              "      a.click();\n",
              "      div.remove();\n",
              "    }\n",
              "  "
            ]
          },
          "metadata": {}
        },
        {
          "output_type": "display_data",
          "data": {
            "text/plain": [
              "<IPython.core.display.Javascript object>"
            ],
            "application/javascript": [
              "download(\"download_e5c75ec8-3262-423f-ae5e-0ee5963bf0a2\", \"site1-B1.png\", 315072)"
            ]
          },
          "metadata": {}
        },
        {
          "name": "stdout",
          "output_type": "stream",
          "text": [
            "site1-B1.png saved\n",
            "\n",
            "site1  >  F2\n",
            "This floor has 16 iBeacons.\n",
            "Example 5 iBeacon UUID_MajorID_MinorIDs:\n",
            "\n",
            "48F8C9EF-AEF9-482D-987F-3752F1C51DA1_20_31450\n",
            "6B76E28A-6FA2-48C9-8502-C1DAA388AB2C_45850_14031\n",
            "9195B3AD-A9D0-4500-85FF-9FB0F65A5201_0_0\n",
            "616C6970-6179-626F-7869-626561636F6A_49662_37272\n",
            "07A50693-A4E2-4FB1-AFCF-201707181336_10004_6119\n",
            "Please input target iBeacon UUID_MajorID_MinorID:\n",
            "616C6970-6179-626F-7869-626561636F6A_49662_37272\n"
          ]
        },
        {
          "output_type": "display_data",
          "data": {
            "text/plain": [
              "<IPython.core.display.Javascript object>"
            ],
            "application/javascript": [
              "\n",
              "    async function download(id, filename, size) {\n",
              "      if (!google.colab.kernel.accessAllowed) {\n",
              "        return;\n",
              "      }\n",
              "      const div = document.createElement('div');\n",
              "      const label = document.createElement('label');\n",
              "      label.textContent = `Downloading \"${filename}\": `;\n",
              "      div.appendChild(label);\n",
              "      const progress = document.createElement('progress');\n",
              "      progress.max = size;\n",
              "      div.appendChild(progress);\n",
              "      document.body.appendChild(div);\n",
              "\n",
              "      const buffers = [];\n",
              "      let downloaded = 0;\n",
              "\n",
              "      const channel = await google.colab.kernel.comms.open(id);\n",
              "      // Send a message to notify the kernel that we're ready.\n",
              "      channel.send({})\n",
              "\n",
              "      for await (const message of channel.messages) {\n",
              "        // Send a message to notify the kernel that we're ready.\n",
              "        channel.send({})\n",
              "        if (message.buffers) {\n",
              "          for (const buffer of message.buffers) {\n",
              "            buffers.push(buffer);\n",
              "            downloaded += buffer.byteLength;\n",
              "            progress.value = downloaded;\n",
              "          }\n",
              "        }\n",
              "      }\n",
              "      const blob = new Blob(buffers, {type: 'application/binary'});\n",
              "      const a = document.createElement('a');\n",
              "      a.href = window.URL.createObjectURL(blob);\n",
              "      a.download = filename;\n",
              "      div.appendChild(a);\n",
              "      a.click();\n",
              "      div.remove();\n",
              "    }\n",
              "  "
            ]
          },
          "metadata": {}
        },
        {
          "output_type": "display_data",
          "data": {
            "text/plain": [
              "<IPython.core.display.Javascript object>"
            ],
            "application/javascript": [
              "download(\"download_07196d62-5684-40e8-abdd-6a79be4b0738\", \"site1-F2.png\", 205281)"
            ]
          },
          "metadata": {}
        },
        {
          "name": "stdout",
          "output_type": "stream",
          "text": [
            "site1-F2.png saved\n",
            "\n",
            "site1  >  F1\n",
            "This floor has 20 iBeacons.\n",
            "Example 5 iBeacon UUID_MajorID_MinorIDs:\n",
            "\n",
            "3C3493F1-997A-D187-0AD6-FB5A8D4EFA63_30242_6415\n",
            "800DB72B-5C3C-480B-B6F2-E7D5A7388E75_16160_2818\n",
            "48F8C9EF-AEF9-482D-987F-3752F1C51DA1_22_40969\n",
            "9195B3AD-A9D0-4500-85FF-9FB0F65A5201_0_0\n",
            "6B76E28A-6FA2-48C9-8502-C1DAA388AB2C_45101_52752\n",
            "Please input target iBeacon UUID_MajorID_MinorID:\n",
            "6B76E28A-6FA2-48C9-8502-C1DAA388AB2C_19018_35270\n"
          ]
        },
        {
          "output_type": "display_data",
          "data": {
            "text/plain": [
              "<IPython.core.display.Javascript object>"
            ],
            "application/javascript": [
              "\n",
              "    async function download(id, filename, size) {\n",
              "      if (!google.colab.kernel.accessAllowed) {\n",
              "        return;\n",
              "      }\n",
              "      const div = document.createElement('div');\n",
              "      const label = document.createElement('label');\n",
              "      label.textContent = `Downloading \"${filename}\": `;\n",
              "      div.appendChild(label);\n",
              "      const progress = document.createElement('progress');\n",
              "      progress.max = size;\n",
              "      div.appendChild(progress);\n",
              "      document.body.appendChild(div);\n",
              "\n",
              "      const buffers = [];\n",
              "      let downloaded = 0;\n",
              "\n",
              "      const channel = await google.colab.kernel.comms.open(id);\n",
              "      // Send a message to notify the kernel that we're ready.\n",
              "      channel.send({})\n",
              "\n",
              "      for await (const message of channel.messages) {\n",
              "        // Send a message to notify the kernel that we're ready.\n",
              "        channel.send({})\n",
              "        if (message.buffers) {\n",
              "          for (const buffer of message.buffers) {\n",
              "            buffers.push(buffer);\n",
              "            downloaded += buffer.byteLength;\n",
              "            progress.value = downloaded;\n",
              "          }\n",
              "        }\n",
              "      }\n",
              "      const blob = new Blob(buffers, {type: 'application/binary'});\n",
              "      const a = document.createElement('a');\n",
              "      a.href = window.URL.createObjectURL(blob);\n",
              "      a.download = filename;\n",
              "      div.appendChild(a);\n",
              "      a.click();\n",
              "      div.remove();\n",
              "    }\n",
              "  "
            ]
          },
          "metadata": {}
        },
        {
          "output_type": "display_data",
          "data": {
            "text/plain": [
              "<IPython.core.display.Javascript object>"
            ],
            "application/javascript": [
              "download(\"download_3e950516-8beb-4e8b-b0e1-b0103f917777\", \"site1-F1.png\", 183954)"
            ]
          },
          "metadata": {}
        },
        {
          "name": "stdout",
          "output_type": "stream",
          "text": [
            "site1-F1.png saved\n",
            "\n",
            "site1  >  F4\n",
            "This floor has 12 iBeacons.\n",
            "Example 5 iBeacon UUID_MajorID_MinorIDs:\n",
            "\n",
            "6B76E28A-6FA2-48C9-8502-C1DAA388AB2C_60952_63450\n",
            "48F8C9EF-AEF9-482D-987F-3752F1C51DA1_22_40969\n",
            "FDA50693-A4E2-4FB1-AFCF-C6EB07647825_10073_61418\n",
            "6B76E28A-6FA2-48C9-8502-C1DAA388AB2C_64096_25388\n",
            "6B76E28A-6FA2-48C9-8502-C1DAA388AB2C_45651_11327\n",
            "Please input target iBeacon UUID_MajorID_MinorID:\n",
            "9195B3AD-A9D0-4500-85FF-9FB0F65A5201_0_0\n"
          ]
        },
        {
          "output_type": "display_data",
          "data": {
            "text/plain": [
              "<IPython.core.display.Javascript object>"
            ],
            "application/javascript": [
              "\n",
              "    async function download(id, filename, size) {\n",
              "      if (!google.colab.kernel.accessAllowed) {\n",
              "        return;\n",
              "      }\n",
              "      const div = document.createElement('div');\n",
              "      const label = document.createElement('label');\n",
              "      label.textContent = `Downloading \"${filename}\": `;\n",
              "      div.appendChild(label);\n",
              "      const progress = document.createElement('progress');\n",
              "      progress.max = size;\n",
              "      div.appendChild(progress);\n",
              "      document.body.appendChild(div);\n",
              "\n",
              "      const buffers = [];\n",
              "      let downloaded = 0;\n",
              "\n",
              "      const channel = await google.colab.kernel.comms.open(id);\n",
              "      // Send a message to notify the kernel that we're ready.\n",
              "      channel.send({})\n",
              "\n",
              "      for await (const message of channel.messages) {\n",
              "        // Send a message to notify the kernel that we're ready.\n",
              "        channel.send({})\n",
              "        if (message.buffers) {\n",
              "          for (const buffer of message.buffers) {\n",
              "            buffers.push(buffer);\n",
              "            downloaded += buffer.byteLength;\n",
              "            progress.value = downloaded;\n",
              "          }\n",
              "        }\n",
              "      }\n",
              "      const blob = new Blob(buffers, {type: 'application/binary'});\n",
              "      const a = document.createElement('a');\n",
              "      a.href = window.URL.createObjectURL(blob);\n",
              "      a.download = filename;\n",
              "      div.appendChild(a);\n",
              "      a.click();\n",
              "      div.remove();\n",
              "    }\n",
              "  "
            ]
          },
          "metadata": {}
        },
        {
          "output_type": "display_data",
          "data": {
            "text/plain": [
              "<IPython.core.display.Javascript object>"
            ],
            "application/javascript": [
              "download(\"download_fb8c9500-7e3d-440c-bc6e-8945d59046fa\", \"site1-F4.png\", 209010)"
            ]
          },
          "metadata": {}
        },
        {
          "name": "stdout",
          "output_type": "stream",
          "text": [
            "site1-F4.png saved\n",
            "\n",
            "site1  >  F3\n",
            "This floor has 14 iBeacons.\n",
            "Example 5 iBeacon UUID_MajorID_MinorIDs:\n",
            "\n",
            "6B76E28A-6FA2-48C9-8502-C1DAA388AB2C_47237_15305\n",
            "E7FC9D3C-EF01-4B70-B280-2CF6D50FA5CA_43336_37672\n",
            "FDA50693-A4E2-4FB1-AFCF-C6EB07647825_10073_61418\n",
            "6B76E28A-6FA2-48C9-8502-C1DAA388AB2C_5337_45415\n",
            "6B76E28A-6FA2-48C9-8502-C1DAA388AB2C_58251_52693\n",
            "Please input target iBeacon UUID_MajorID_MinorID:\n",
            "A49CD9E0-E367-59D2-4FD4-1DE0557702D8_44413_58550\n"
          ]
        },
        {
          "output_type": "display_data",
          "data": {
            "text/plain": [
              "<IPython.core.display.Javascript object>"
            ],
            "application/javascript": [
              "\n",
              "    async function download(id, filename, size) {\n",
              "      if (!google.colab.kernel.accessAllowed) {\n",
              "        return;\n",
              "      }\n",
              "      const div = document.createElement('div');\n",
              "      const label = document.createElement('label');\n",
              "      label.textContent = `Downloading \"${filename}\": `;\n",
              "      div.appendChild(label);\n",
              "      const progress = document.createElement('progress');\n",
              "      progress.max = size;\n",
              "      div.appendChild(progress);\n",
              "      document.body.appendChild(div);\n",
              "\n",
              "      const buffers = [];\n",
              "      let downloaded = 0;\n",
              "\n",
              "      const channel = await google.colab.kernel.comms.open(id);\n",
              "      // Send a message to notify the kernel that we're ready.\n",
              "      channel.send({})\n",
              "\n",
              "      for await (const message of channel.messages) {\n",
              "        // Send a message to notify the kernel that we're ready.\n",
              "        channel.send({})\n",
              "        if (message.buffers) {\n",
              "          for (const buffer of message.buffers) {\n",
              "            buffers.push(buffer);\n",
              "            downloaded += buffer.byteLength;\n",
              "            progress.value = downloaded;\n",
              "          }\n",
              "        }\n",
              "      }\n",
              "      const blob = new Blob(buffers, {type: 'application/binary'});\n",
              "      const a = document.createElement('a');\n",
              "      a.href = window.URL.createObjectURL(blob);\n",
              "      a.download = filename;\n",
              "      div.appendChild(a);\n",
              "      a.click();\n",
              "      div.remove();\n",
              "    }\n",
              "  "
            ]
          },
          "metadata": {}
        },
        {
          "output_type": "display_data",
          "data": {
            "text/plain": [
              "<IPython.core.display.Javascript object>"
            ],
            "application/javascript": [
              "download(\"download_581c4862-8df6-444e-8291-b6b3739ebc82\", \"site1-F3.png\", 198585)"
            ]
          },
          "metadata": {}
        },
        {
          "name": "stdout",
          "output_type": "stream",
          "text": [
            "site1-F3.png saved\n",
            "\n",
            "site2  >  B1\n",
            "This floor has 27 iBeacons.\n",
            "Example 5 iBeacon UUID_MajorID_MinorIDs:\n",
            "\n",
            "6B76E28A-6FA2-48C9-8502-C1DAA388AB2C_37845_58916\n",
            "616C6970-6179-626F-7869-626561636F6A_23614_54201\n",
            "FB349B5F-8000-0080-0010-00003CFE0000_11354_9437\n",
            "E7FC9D3C-EF01-4B70-B280-2CF6D50FA5CA_25548_35325\n",
            "616C6970-6179-626F-7869-626561636F6A_5325_24259\n",
            "Please input target iBeacon UUID_MajorID_MinorID:\n",
            "E7FC9D3C-EF01-4B70-B280-2CF6D50FA5CA_25548_35325\n"
          ]
        },
        {
          "output_type": "display_data",
          "data": {
            "text/plain": [
              "<IPython.core.display.Javascript object>"
            ],
            "application/javascript": [
              "\n",
              "    async function download(id, filename, size) {\n",
              "      if (!google.colab.kernel.accessAllowed) {\n",
              "        return;\n",
              "      }\n",
              "      const div = document.createElement('div');\n",
              "      const label = document.createElement('label');\n",
              "      label.textContent = `Downloading \"${filename}\": `;\n",
              "      div.appendChild(label);\n",
              "      const progress = document.createElement('progress');\n",
              "      progress.max = size;\n",
              "      div.appendChild(progress);\n",
              "      document.body.appendChild(div);\n",
              "\n",
              "      const buffers = [];\n",
              "      let downloaded = 0;\n",
              "\n",
              "      const channel = await google.colab.kernel.comms.open(id);\n",
              "      // Send a message to notify the kernel that we're ready.\n",
              "      channel.send({})\n",
              "\n",
              "      for await (const message of channel.messages) {\n",
              "        // Send a message to notify the kernel that we're ready.\n",
              "        channel.send({})\n",
              "        if (message.buffers) {\n",
              "          for (const buffer of message.buffers) {\n",
              "            buffers.push(buffer);\n",
              "            downloaded += buffer.byteLength;\n",
              "            progress.value = downloaded;\n",
              "          }\n",
              "        }\n",
              "      }\n",
              "      const blob = new Blob(buffers, {type: 'application/binary'});\n",
              "      const a = document.createElement('a');\n",
              "      a.href = window.URL.createObjectURL(blob);\n",
              "      a.download = filename;\n",
              "      div.appendChild(a);\n",
              "      a.click();\n",
              "      div.remove();\n",
              "    }\n",
              "  "
            ]
          },
          "metadata": {}
        },
        {
          "output_type": "display_data",
          "data": {
            "text/plain": [
              "<IPython.core.display.Javascript object>"
            ],
            "application/javascript": [
              "download(\"download_6870e218-2653-434f-9c3a-ee18c0b1c017\", \"site2-B1.png\", 193720)"
            ]
          },
          "metadata": {}
        },
        {
          "name": "stdout",
          "output_type": "stream",
          "text": [
            "site2-B1.png saved\n",
            "\n",
            "site2  >  F4\n",
            "This floor has 11 iBeacons.\n",
            "Example 5 iBeacon UUID_MajorID_MinorIDs:\n",
            "\n",
            "FB349B5F-8000-0080-0010-00003CFE0000_19623_24590\n",
            "6B76E28A-6FA2-48C9-8502-C1DAA388AB2C_51495_40606\n",
            "6B76E28A-6FA2-48C9-8502-C1DAA388AB2C_7147_14931\n",
            "6B76E28A-6FA2-48C9-8502-C1DAA388AB2C_5730_49012\n",
            "FB349B5F-8000-0080-0010-00003CFE0000_10309_12756\n",
            "Please input target iBeacon UUID_MajorID_MinorID:\n",
            "6B76E28A-6FA2-48C9-8502-C1DAA388AB2C_7147_14931\n"
          ]
        },
        {
          "output_type": "display_data",
          "data": {
            "text/plain": [
              "<IPython.core.display.Javascript object>"
            ],
            "application/javascript": [
              "\n",
              "    async function download(id, filename, size) {\n",
              "      if (!google.colab.kernel.accessAllowed) {\n",
              "        return;\n",
              "      }\n",
              "      const div = document.createElement('div');\n",
              "      const label = document.createElement('label');\n",
              "      label.textContent = `Downloading \"${filename}\": `;\n",
              "      div.appendChild(label);\n",
              "      const progress = document.createElement('progress');\n",
              "      progress.max = size;\n",
              "      div.appendChild(progress);\n",
              "      document.body.appendChild(div);\n",
              "\n",
              "      const buffers = [];\n",
              "      let downloaded = 0;\n",
              "\n",
              "      const channel = await google.colab.kernel.comms.open(id);\n",
              "      // Send a message to notify the kernel that we're ready.\n",
              "      channel.send({})\n",
              "\n",
              "      for await (const message of channel.messages) {\n",
              "        // Send a message to notify the kernel that we're ready.\n",
              "        channel.send({})\n",
              "        if (message.buffers) {\n",
              "          for (const buffer of message.buffers) {\n",
              "            buffers.push(buffer);\n",
              "            downloaded += buffer.byteLength;\n",
              "            progress.value = downloaded;\n",
              "          }\n",
              "        }\n",
              "      }\n",
              "      const blob = new Blob(buffers, {type: 'application/binary'});\n",
              "      const a = document.createElement('a');\n",
              "      a.href = window.URL.createObjectURL(blob);\n",
              "      a.download = filename;\n",
              "      div.appendChild(a);\n",
              "      a.click();\n",
              "      div.remove();\n",
              "    }\n",
              "  "
            ]
          },
          "metadata": {}
        },
        {
          "output_type": "display_data",
          "data": {
            "text/plain": [
              "<IPython.core.display.Javascript object>"
            ],
            "application/javascript": [
              "download(\"download_eefc4f73-3a3e-43cd-96e2-1168f79e0d19\", \"site2-F4.png\", 200942)"
            ]
          },
          "metadata": {}
        },
        {
          "name": "stdout",
          "output_type": "stream",
          "text": [
            "site2-F4.png saved\n",
            "\n",
            "site2  >  F2\n",
            "This floor has 8 iBeacons.\n",
            "Example 5 iBeacon UUID_MajorID_MinorIDs:\n",
            "\n",
            "FB349B5F-8000-0080-0010-00003CFE0000_29680_25758\n",
            "E6E7160C-F095-4F5E-A1E7-15C936AD8914_0_0\n",
            "616C6970-6179-626F-7869-626561636F6A_33059_39876\n",
            "6B76E28A-6FA2-48C9-8502-C1DAA388AB2C_12652_10372\n",
            "FDA50693-A4E2-4FB1-AFCF-C6EB07647825_10073_61418\n",
            "Please input target iBeacon UUID_MajorID_MinorID:\n",
            "E6E7160C-F095-4F5E-A1E7-15C936AD8914_0_0\n"
          ]
        },
        {
          "output_type": "display_data",
          "data": {
            "text/plain": [
              "<IPython.core.display.Javascript object>"
            ],
            "application/javascript": [
              "\n",
              "    async function download(id, filename, size) {\n",
              "      if (!google.colab.kernel.accessAllowed) {\n",
              "        return;\n",
              "      }\n",
              "      const div = document.createElement('div');\n",
              "      const label = document.createElement('label');\n",
              "      label.textContent = `Downloading \"${filename}\": `;\n",
              "      div.appendChild(label);\n",
              "      const progress = document.createElement('progress');\n",
              "      progress.max = size;\n",
              "      div.appendChild(progress);\n",
              "      document.body.appendChild(div);\n",
              "\n",
              "      const buffers = [];\n",
              "      let downloaded = 0;\n",
              "\n",
              "      const channel = await google.colab.kernel.comms.open(id);\n",
              "      // Send a message to notify the kernel that we're ready.\n",
              "      channel.send({})\n",
              "\n",
              "      for await (const message of channel.messages) {\n",
              "        // Send a message to notify the kernel that we're ready.\n",
              "        channel.send({})\n",
              "        if (message.buffers) {\n",
              "          for (const buffer of message.buffers) {\n",
              "            buffers.push(buffer);\n",
              "            downloaded += buffer.byteLength;\n",
              "            progress.value = downloaded;\n",
              "          }\n",
              "        }\n",
              "      }\n",
              "      const blob = new Blob(buffers, {type: 'application/binary'});\n",
              "      const a = document.createElement('a');\n",
              "      a.href = window.URL.createObjectURL(blob);\n",
              "      a.download = filename;\n",
              "      div.appendChild(a);\n",
              "      a.click();\n",
              "      div.remove();\n",
              "    }\n",
              "  "
            ]
          },
          "metadata": {}
        },
        {
          "output_type": "display_data",
          "data": {
            "text/plain": [
              "<IPython.core.display.Javascript object>"
            ],
            "application/javascript": [
              "download(\"download_7a053e1c-30ca-4bb3-a848-904d8719f73b\", \"site2-F2.png\", 194923)"
            ]
          },
          "metadata": {}
        },
        {
          "name": "stdout",
          "output_type": "stream",
          "text": [
            "site2-F2.png saved\n",
            "\n",
            "site2  >  F5\n",
            "This floor has 30 iBeacons.\n",
            "Example 5 iBeacon UUID_MajorID_MinorIDs:\n",
            "\n",
            "FDA50693-A4E2-4FB1-AFCF-C6EB07647825_10065_26049\n",
            "975FB7E9-1241-FE7B-0000-0A50CE022927_183_0\n",
            "975FB7E9-1241-CE7C-0000-0A50CE022927_20790_264\n",
            "975FB7E9-1241-FE7B-0000-0A50CE022927_176_0\n",
            "975FAA55-0000-0000-0000-0A50CE022927_0_0\n",
            "Please input target iBeacon UUID_MajorID_MinorID:\n",
            "975FB7E9-2181-FE7B-0000-0A50CE021623_2357_30069\n"
          ]
        },
        {
          "output_type": "display_data",
          "data": {
            "text/plain": [
              "<IPython.core.display.Javascript object>"
            ],
            "application/javascript": [
              "\n",
              "    async function download(id, filename, size) {\n",
              "      if (!google.colab.kernel.accessAllowed) {\n",
              "        return;\n",
              "      }\n",
              "      const div = document.createElement('div');\n",
              "      const label = document.createElement('label');\n",
              "      label.textContent = `Downloading \"${filename}\": `;\n",
              "      div.appendChild(label);\n",
              "      const progress = document.createElement('progress');\n",
              "      progress.max = size;\n",
              "      div.appendChild(progress);\n",
              "      document.body.appendChild(div);\n",
              "\n",
              "      const buffers = [];\n",
              "      let downloaded = 0;\n",
              "\n",
              "      const channel = await google.colab.kernel.comms.open(id);\n",
              "      // Send a message to notify the kernel that we're ready.\n",
              "      channel.send({})\n",
              "\n",
              "      for await (const message of channel.messages) {\n",
              "        // Send a message to notify the kernel that we're ready.\n",
              "        channel.send({})\n",
              "        if (message.buffers) {\n",
              "          for (const buffer of message.buffers) {\n",
              "            buffers.push(buffer);\n",
              "            downloaded += buffer.byteLength;\n",
              "            progress.value = downloaded;\n",
              "          }\n",
              "        }\n",
              "      }\n",
              "      const blob = new Blob(buffers, {type: 'application/binary'});\n",
              "      const a = document.createElement('a');\n",
              "      a.href = window.URL.createObjectURL(blob);\n",
              "      a.download = filename;\n",
              "      div.appendChild(a);\n",
              "      a.click();\n",
              "      div.remove();\n",
              "    }\n",
              "  "
            ]
          },
          "metadata": {}
        },
        {
          "output_type": "display_data",
          "data": {
            "text/plain": [
              "<IPython.core.display.Javascript object>"
            ],
            "application/javascript": [
              "download(\"download_71aad8d7-d7ed-49aa-b54b-09cda0ef302c\", \"site2-F5.png\", 180460)"
            ]
          },
          "metadata": {}
        },
        {
          "name": "stdout",
          "output_type": "stream",
          "text": [
            "site2-F5.png saved\n",
            "\n",
            "site2  >  F6\n",
            "This floor has 18 iBeacons.\n",
            "Example 5 iBeacon UUID_MajorID_MinorIDs:\n",
            "\n",
            "6B76E28A-6FA2-48C9-8502-C1DAA388AB2C_17400_23398\n",
            "AAAAAAAA-A4E2-4FB1-AFCF-FF4008866815_12360_40760\n",
            "E7FC9D3C-EF01-4B70-B280-2CF6D50FA5CA_29421_63019\n",
            "FDA50693-A4E2-4FB1-AFCF-C6EB07647825_10073_61418\n",
            "FB349B5F-8000-0080-0010-00003CFE0000_1858_41996\n",
            "Please input target iBeacon UUID_MajorID_MinorID:\n",
            "FB349B5F-8000-0080-0010-00003CFE0000_1858_41996\n"
          ]
        },
        {
          "output_type": "display_data",
          "data": {
            "text/plain": [
              "<IPython.core.display.Javascript object>"
            ],
            "application/javascript": [
              "\n",
              "    async function download(id, filename, size) {\n",
              "      if (!google.colab.kernel.accessAllowed) {\n",
              "        return;\n",
              "      }\n",
              "      const div = document.createElement('div');\n",
              "      const label = document.createElement('label');\n",
              "      label.textContent = `Downloading \"${filename}\": `;\n",
              "      div.appendChild(label);\n",
              "      const progress = document.createElement('progress');\n",
              "      progress.max = size;\n",
              "      div.appendChild(progress);\n",
              "      document.body.appendChild(div);\n",
              "\n",
              "      const buffers = [];\n",
              "      let downloaded = 0;\n",
              "\n",
              "      const channel = await google.colab.kernel.comms.open(id);\n",
              "      // Send a message to notify the kernel that we're ready.\n",
              "      channel.send({})\n",
              "\n",
              "      for await (const message of channel.messages) {\n",
              "        // Send a message to notify the kernel that we're ready.\n",
              "        channel.send({})\n",
              "        if (message.buffers) {\n",
              "          for (const buffer of message.buffers) {\n",
              "            buffers.push(buffer);\n",
              "            downloaded += buffer.byteLength;\n",
              "            progress.value = downloaded;\n",
              "          }\n",
              "        }\n",
              "      }\n",
              "      const blob = new Blob(buffers, {type: 'application/binary'});\n",
              "      const a = document.createElement('a');\n",
              "      a.href = window.URL.createObjectURL(blob);\n",
              "      a.download = filename;\n",
              "      div.appendChild(a);\n",
              "      a.click();\n",
              "      div.remove();\n",
              "    }\n",
              "  "
            ]
          },
          "metadata": {}
        },
        {
          "output_type": "display_data",
          "data": {
            "text/plain": [
              "<IPython.core.display.Javascript object>"
            ],
            "application/javascript": [
              "download(\"download_72d4e2c8-a317-4f40-baa3-875944e2df93\", \"site2-F6.png\", 194269)"
            ]
          },
          "metadata": {}
        },
        {
          "name": "stdout",
          "output_type": "stream",
          "text": [
            "site2-F6.png saved\n",
            "\n",
            "site2  >  F1\n",
            "This floor has 23 iBeacons.\n",
            "Example 5 iBeacon UUID_MajorID_MinorIDs:\n",
            "\n",
            "6B76E28A-6FA2-48C9-8502-C1DAA388AB2C_5103_55553\n",
            "FDA50693-A4E2-4FB1-AFCF-C6EB07647825_0_0\n",
            "44A41250-97A4-E6CC-510E-F97F7ED6966B_50522_30374\n",
            "6B76E28A-6FA2-48C9-8502-C1DAA388AB2C_43832_27674\n",
            "E6E7160C-F095-4F5E-A1E7-15C936AD8914_0_0\n",
            "Please input target iBeacon UUID_MajorID_MinorID:\n",
            "616C6970-6179-626F-7869-626561636F6A_33059_39876\n"
          ]
        },
        {
          "output_type": "display_data",
          "data": {
            "text/plain": [
              "<IPython.core.display.Javascript object>"
            ],
            "application/javascript": [
              "\n",
              "    async function download(id, filename, size) {\n",
              "      if (!google.colab.kernel.accessAllowed) {\n",
              "        return;\n",
              "      }\n",
              "      const div = document.createElement('div');\n",
              "      const label = document.createElement('label');\n",
              "      label.textContent = `Downloading \"${filename}\": `;\n",
              "      div.appendChild(label);\n",
              "      const progress = document.createElement('progress');\n",
              "      progress.max = size;\n",
              "      div.appendChild(progress);\n",
              "      document.body.appendChild(div);\n",
              "\n",
              "      const buffers = [];\n",
              "      let downloaded = 0;\n",
              "\n",
              "      const channel = await google.colab.kernel.comms.open(id);\n",
              "      // Send a message to notify the kernel that we're ready.\n",
              "      channel.send({})\n",
              "\n",
              "      for await (const message of channel.messages) {\n",
              "        // Send a message to notify the kernel that we're ready.\n",
              "        channel.send({})\n",
              "        if (message.buffers) {\n",
              "          for (const buffer of message.buffers) {\n",
              "            buffers.push(buffer);\n",
              "            downloaded += buffer.byteLength;\n",
              "            progress.value = downloaded;\n",
              "          }\n",
              "        }\n",
              "      }\n",
              "      const blob = new Blob(buffers, {type: 'application/binary'});\n",
              "      const a = document.createElement('a');\n",
              "      a.href = window.URL.createObjectURL(blob);\n",
              "      a.download = filename;\n",
              "      div.appendChild(a);\n",
              "      a.click();\n",
              "      div.remove();\n",
              "    }\n",
              "  "
            ]
          },
          "metadata": {}
        },
        {
          "output_type": "display_data",
          "data": {
            "text/plain": [
              "<IPython.core.display.Javascript object>"
            ],
            "application/javascript": [
              "download(\"download_c9faabd2-92e3-4881-90ba-edc7bc53476c\", \"site2-F1.png\", 177768)"
            ]
          },
          "metadata": {}
        },
        {
          "name": "stdout",
          "output_type": "stream",
          "text": [
            "site2-F1.png saved\n",
            "\n",
            "site2  >  F3\n",
            "This floor has 11 iBeacons.\n",
            "Example 5 iBeacon UUID_MajorID_MinorIDs:\n",
            "\n",
            "E6E7160C-F095-4F5E-A1E7-15C936AD8914_0_0\n",
            "9195B3AD-A9D0-4500-85FF-9FB0F65A5201_0_0\n",
            "FB349B5F-8000-0080-0010-00003CFE0000_17834_10672\n",
            "FDA50693-A4E2-4FB1-AFCF-C6EB07647825_0_0\n",
            "616C6970-6179-626F-7869-626561636F6A_33059_39876\n",
            "Please input target iBeacon UUID_MajorID_MinorID:\n",
            "F59EDB6A-F399-4C80-A759-D059BF84C96D_65520_4608\n"
          ]
        },
        {
          "output_type": "display_data",
          "data": {
            "text/plain": [
              "<IPython.core.display.Javascript object>"
            ],
            "application/javascript": [
              "\n",
              "    async function download(id, filename, size) {\n",
              "      if (!google.colab.kernel.accessAllowed) {\n",
              "        return;\n",
              "      }\n",
              "      const div = document.createElement('div');\n",
              "      const label = document.createElement('label');\n",
              "      label.textContent = `Downloading \"${filename}\": `;\n",
              "      div.appendChild(label);\n",
              "      const progress = document.createElement('progress');\n",
              "      progress.max = size;\n",
              "      div.appendChild(progress);\n",
              "      document.body.appendChild(div);\n",
              "\n",
              "      const buffers = [];\n",
              "      let downloaded = 0;\n",
              "\n",
              "      const channel = await google.colab.kernel.comms.open(id);\n",
              "      // Send a message to notify the kernel that we're ready.\n",
              "      channel.send({})\n",
              "\n",
              "      for await (const message of channel.messages) {\n",
              "        // Send a message to notify the kernel that we're ready.\n",
              "        channel.send({})\n",
              "        if (message.buffers) {\n",
              "          for (const buffer of message.buffers) {\n",
              "            buffers.push(buffer);\n",
              "            downloaded += buffer.byteLength;\n",
              "            progress.value = downloaded;\n",
              "          }\n",
              "        }\n",
              "      }\n",
              "      const blob = new Blob(buffers, {type: 'application/binary'});\n",
              "      const a = document.createElement('a');\n",
              "      a.href = window.URL.createObjectURL(blob);\n",
              "      a.download = filename;\n",
              "      div.appendChild(a);\n",
              "      a.click();\n",
              "      div.remove();\n",
              "    }\n",
              "  "
            ]
          },
          "metadata": {}
        },
        {
          "output_type": "display_data",
          "data": {
            "text/plain": [
              "<IPython.core.display.Javascript object>"
            ],
            "application/javascript": [
              "download(\"download_08d0c728-a532-4482-957d-9ba658620336\", \"site2-F3.png\", 190770)"
            ]
          },
          "metadata": {}
        },
        {
          "name": "stdout",
          "output_type": "stream",
          "text": [
            "site2-F3.png saved\n",
            "\n",
            "site2  >  F7\n",
            "This floor has 15 iBeacons.\n",
            "Example 5 iBeacon UUID_MajorID_MinorIDs:\n",
            "\n",
            "FDA50693-A4E2-4FB1-AFCF-C6EB07647825_10073_61418\n",
            "6B76E28A-6FA2-48C9-8502-C1DAA388AB2C_5103_55553\n",
            "6B76E28A-6FA2-48C9-8502-C1DAA388AB2C_62574_14808\n",
            "6B76E28A-6FA2-48C9-8502-C1DAA388AB2C_18987_11827\n",
            "FDA50693-A4E2-4FB1-AFCF-C6EB07647825_10065_26049\n",
            "Please input target iBeacon UUID_MajorID_MinorID:\n",
            "6B76E28A-6FA2-48C9-8502-C1DAA388AB2C_35621_12090\n"
          ]
        },
        {
          "output_type": "display_data",
          "data": {
            "text/plain": [
              "<IPython.core.display.Javascript object>"
            ],
            "application/javascript": [
              "\n",
              "    async function download(id, filename, size) {\n",
              "      if (!google.colab.kernel.accessAllowed) {\n",
              "        return;\n",
              "      }\n",
              "      const div = document.createElement('div');\n",
              "      const label = document.createElement('label');\n",
              "      label.textContent = `Downloading \"${filename}\": `;\n",
              "      div.appendChild(label);\n",
              "      const progress = document.createElement('progress');\n",
              "      progress.max = size;\n",
              "      div.appendChild(progress);\n",
              "      document.body.appendChild(div);\n",
              "\n",
              "      const buffers = [];\n",
              "      let downloaded = 0;\n",
              "\n",
              "      const channel = await google.colab.kernel.comms.open(id);\n",
              "      // Send a message to notify the kernel that we're ready.\n",
              "      channel.send({})\n",
              "\n",
              "      for await (const message of channel.messages) {\n",
              "        // Send a message to notify the kernel that we're ready.\n",
              "        channel.send({})\n",
              "        if (message.buffers) {\n",
              "          for (const buffer of message.buffers) {\n",
              "            buffers.push(buffer);\n",
              "            downloaded += buffer.byteLength;\n",
              "            progress.value = downloaded;\n",
              "          }\n",
              "        }\n",
              "      }\n",
              "      const blob = new Blob(buffers, {type: 'application/binary'});\n",
              "      const a = document.createElement('a');\n",
              "      a.href = window.URL.createObjectURL(blob);\n",
              "      a.download = filename;\n",
              "      div.appendChild(a);\n",
              "      a.click();\n",
              "      div.remove();\n",
              "    }\n",
              "  "
            ]
          },
          "metadata": {}
        },
        {
          "output_type": "display_data",
          "data": {
            "text/plain": [
              "<IPython.core.display.Javascript object>"
            ],
            "application/javascript": [
              "download(\"download_b170b41f-a709-4cd3-8263-dd6e40c724cb\", \"site2-F7.png\", 176412)"
            ]
          },
          "metadata": {}
        },
        {
          "name": "stdout",
          "output_type": "stream",
          "text": [
            "site2-F7.png saved\n",
            "\n",
            "site2  >  F8\n",
            "This floor has 7 iBeacons.\n",
            "Example 5 iBeacon UUID_MajorID_MinorIDs:\n",
            "\n",
            "FDA50693-A4E2-4FB1-AFCF-C6EB07647825_10073_61418\n",
            "991CB71E-850B-C24D-4047-90A0ACAA4951_45830_56687\n",
            "6B76E28A-6FA2-48C9-8502-C1DAA388AB2C_5103_55553\n",
            "48F8C9EF-AEF9-482D-987F-3752F1C51DA1_22_16153\n",
            "48F8C9EF-AEF9-482D-987F-3752F1C51DA1_17_11425\n",
            "Please input target iBeacon UUID_MajorID_MinorID:\n",
            "48F8C9EF-AEF9-482D-987F-3752F1C51DA1_17_11425\n"
          ]
        },
        {
          "output_type": "display_data",
          "data": {
            "text/plain": [
              "<IPython.core.display.Javascript object>"
            ],
            "application/javascript": [
              "\n",
              "    async function download(id, filename, size) {\n",
              "      if (!google.colab.kernel.accessAllowed) {\n",
              "        return;\n",
              "      }\n",
              "      const div = document.createElement('div');\n",
              "      const label = document.createElement('label');\n",
              "      label.textContent = `Downloading \"${filename}\": `;\n",
              "      div.appendChild(label);\n",
              "      const progress = document.createElement('progress');\n",
              "      progress.max = size;\n",
              "      div.appendChild(progress);\n",
              "      document.body.appendChild(div);\n",
              "\n",
              "      const buffers = [];\n",
              "      let downloaded = 0;\n",
              "\n",
              "      const channel = await google.colab.kernel.comms.open(id);\n",
              "      // Send a message to notify the kernel that we're ready.\n",
              "      channel.send({})\n",
              "\n",
              "      for await (const message of channel.messages) {\n",
              "        // Send a message to notify the kernel that we're ready.\n",
              "        channel.send({})\n",
              "        if (message.buffers) {\n",
              "          for (const buffer of message.buffers) {\n",
              "            buffers.push(buffer);\n",
              "            downloaded += buffer.byteLength;\n",
              "            progress.value = downloaded;\n",
              "          }\n",
              "        }\n",
              "      }\n",
              "      const blob = new Blob(buffers, {type: 'application/binary'});\n",
              "      const a = document.createElement('a');\n",
              "      a.href = window.URL.createObjectURL(blob);\n",
              "      a.download = filename;\n",
              "      div.appendChild(a);\n",
              "      a.click();\n",
              "      div.remove();\n",
              "    }\n",
              "  "
            ]
          },
          "metadata": {}
        },
        {
          "output_type": "display_data",
          "data": {
            "text/plain": [
              "<IPython.core.display.Javascript object>"
            ],
            "application/javascript": [
              "download(\"download_c83fdc01-7e2a-4755-bd3f-4e69644c9cfb\", \"site2-F8.png\", 147477)"
            ]
          },
          "metadata": {}
        },
        {
          "output_type": "stream",
          "name": "stdout",
          "text": [
            "site2-F8.png saved\n",
            "\n",
            "FINISHED\n"
          ]
        },
        {
          "output_type": "display_data",
          "data": {
            "text/plain": [
              "<Figure size 432x288 with 2 Axes>"
            ],
            "image/png": "[encoded data removed]"
          },
          "metadata": {
            "needs_background": "light"
          }
        }
      ]
    },
    {
      "cell_type": "markdown",
      "source": [
        "## Calibrate data to Position"
      ],
      "metadata": {
        "id": "NR1cM83QIX7X"
      }
    },
    {
      "cell_type": "code",
      "source": [
        "def calibrate_magnetic_wifi_ibeacon_to_position(path_file_list):\n",
        "  mwi_datas = {}\n",
        "  for path_filename in path_file_list:\n",
        "      print(f'Processing {path_filename}...')\n",
        "\n",
        "      path_datas = read_data_file(path_filename)\n",
        "      acce_datas = path_datas.acce\n",
        "      magn_datas = path_datas.magn\n",
        "      ahrs_datas = path_datas.ahrs\n",
        "      wifi_datas = path_datas.wifi\n",
        "      ibeacon_datas = path_datas.ibeacon\n",
        "      posi_datas = path_datas.waypoint\n",
        "\n",
        "      step_positions = compute_step_positions(acce_datas, ahrs_datas, posi_datas)\n",
        "      # visualize_trajectory(posi_datas[:, 1:3], floor_plan_filename, width_meter, height_meter, title='Ground Truth', show=True)\n",
        "      # visualize_trajectory(step_positions[:, 1:3], floor_plan_filename, width_meter, height_meter, title='Step Position', show=True)\n",
        "\n",
        "      if wifi_datas.size != 0:\n",
        "          sep_tss = np.unique(wifi_datas[:, 0].astype(float))\n",
        "          wifi_datas_list = split_ts_seq(wifi_datas, sep_tss)\n",
        "          for wifi_ds in wifi_datas_list:\n",
        "              diff = np.abs(step_positions[:, 0] - float(wifi_ds[0, 0]))\n",
        "              index = np.argmin(diff)\n",
        "              target_xy_key = tuple(step_positions[index, 1:3])\n",
        "              if target_xy_key in mwi_datas:\n",
        "                  mwi_datas[target_xy_key]['wifi'] = np.append(mwi_datas[target_xy_key]['wifi'], wifi_ds, axis=0)\n",
        "              else:\n",
        "                  mwi_datas[target_xy_key] = {\n",
        "                      'magnetic': np.zeros((0, 4)),\n",
        "                      'wifi': wifi_ds,\n",
        "                      'ibeacon': np.zeros((0, 3))\n",
        "                  }\n",
        "\n",
        "      if ibeacon_datas.size != 0:\n",
        "          sep_tss = np.unique(ibeacon_datas[:, 0].astype(float))\n",
        "          ibeacon_datas_list = split_ts_seq(ibeacon_datas, sep_tss)\n",
        "          for ibeacon_ds in ibeacon_datas_list:\n",
        "              diff = np.abs(step_positions[:, 0] - float(ibeacon_ds[0, 0]))\n",
        "              index = np.argmin(diff)\n",
        "              target_xy_key = tuple(step_positions[index, 1:3])\n",
        "              if target_xy_key in mwi_datas:\n",
        "                  mwi_datas[target_xy_key]['ibeacon'] = np.append(mwi_datas[target_xy_key]['ibeacon'], ibeacon_ds, axis=0)\n",
        "              else:\n",
        "                  mwi_datas[target_xy_key] = {\n",
        "                      'magnetic': np.zeros((0, 4)),\n",
        "                      'wifi': np.zeros((0, 5)),\n",
        "                      'ibeacon': ibeacon_ds\n",
        "                  }\n",
        "\n",
        "      sep_tss = np.unique(magn_datas[:, 0].astype(float))\n",
        "      magn_datas_list = split_ts_seq(magn_datas, sep_tss)\n",
        "      for magn_ds in magn_datas_list:\n",
        "          diff = np.abs(step_positions[:, 0] - float(magn_ds[0, 0]))\n",
        "          index = np.argmin(diff)\n",
        "          target_xy_key = tuple(step_positions[index, 1:3])\n",
        "          if target_xy_key in mwi_datas:\n",
        "              mwi_datas[target_xy_key]['magnetic'] = np.append(mwi_datas[target_xy_key]['magnetic'], magn_ds, axis=0)\n",
        "          else:\n",
        "              mwi_datas[target_xy_key] = {\n",
        "                  'magnetic': magn_ds,\n",
        "                  'wifi': np.zeros((0, 5)),\n",
        "                  'ibeacon': np.zeros((0, 3))\n",
        "              }\n",
        "\n",
        "  return mwi_datas"
      ],
      "metadata": {
        "id": "BrWmKiiVdAt4"
      },
      "execution_count": null,
      "outputs": []
    }
  ]
}