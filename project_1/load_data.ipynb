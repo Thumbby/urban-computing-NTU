{
 "cells": [
  {
   "cell_type": "code",
   "execution_count": 103,
   "metadata": {},
   "outputs": [],
   "source": [
    "import numpy as np\n",
    "from dataclasses import dataclass"
   ]
  },
  {
   "cell_type": "markdown",
   "metadata": {},
   "source": [
    "Define the return data"
   ]
  },
  {
   "cell_type": "code",
   "execution_count": 104,
   "metadata": {},
   "outputs": [],
   "source": [
    "@dataclass\n",
    "class PathData:\n",
    "    acc_data : np.array\n",
    "    gyr_data : np.array\n",
    "    rot_data : np.array\n",
    "    mag_data : np.array\n",
    "    mag_uncal_data : np.array\n",
    "    gyr_uncal_data : np.array\n",
    "    acc_uncal_data : np.array\n",
    "    wif_data : np.array\n",
    "    bea_data : np.array\n",
    "    way_data : np.array"
   ]
  },
  {
   "cell_type": "markdown",
   "metadata": {},
   "source": [
    "Assemble the path data"
   ]
  },
  {
   "cell_type": "code",
   "execution_count": 105,
   "metadata": {},
   "outputs": [],
   "source": [
    "def assmble_path_data(data_lines):\n",
    "    \n",
    "    type_acc = []\n",
    "    type_gyr = []\n",
    "    type_rot = []\n",
    "    type_mag = []\n",
    "    type_mag_uncal = []\n",
    "    type_gyr_uncal = []\n",
    "    type_acc_uncal = []\n",
    "    type_wif = []\n",
    "    type_bea = []\n",
    "    type_way = []\n",
    "\n",
    "    data_type_dict = {\n",
    "        'TYPE_ACCELEROMETER' : type_acc, \n",
    "        'TYPE_GYROSCOPE' : type_gyr,\n",
    "        'TYPE_ROTATION_VECTOR' : type_rot,\n",
    "        'TYPE_MAGNETIC_FIELD' : type_mag,\n",
    "        'TYPE_MAGNETIC_FIELD_UNCALIBRATED' : type_mag_uncal,\n",
    "        'TYPE_GYROSCOPE_UNCALIBRATED' : type_gyr_uncal,\n",
    "        'TYPE_ACCELEROMETER_UNCALIBRATED' : type_acc_uncal,\n",
    "        'TYPE_WIFI' : type_wif,\n",
    "        'TYPE_BEACON' : type_bea,\n",
    "        'TYPE_WAYPOINT' : type_way\n",
    "    }\n",
    "\n",
    "\n",
    "    for data_line in data_lines:\n",
    "        data_line = data_line.strip()\n",
    "        \n",
    "        if data_line[0] == '#' or data_line[0] is None:\n",
    "            continue\n",
    "\n",
    "        data_line = data_line.split('\\t')\n",
    "\n",
    "        if not data_type_dict.__contains__(data_line[1]):\n",
    "            continue\n",
    "\n",
    "        if data_line[1] == 'TYPE_WIFI':\n",
    "            ts = data_line[0]\n",
    "            ssid = data_line[2]\n",
    "            bssid = data_line[3]\n",
    "            rssi = data_line[4]\n",
    "            last_ts = data_line[6]\n",
    "            wifi_data = [ts, ssid, bssid, rssi, last_ts]\n",
    "            type_wif.append(wifi_data)\n",
    "            continue\n",
    "\n",
    "        elif data_line[1] == 'TYPE_BEACON':\n",
    "            ts = data_line[0]\n",
    "            uuid = data_line[2]\n",
    "            major = data_line[3]\n",
    "            minor = data_line[4]\n",
    "            rssi = data_line[6]\n",
    "            beacon_data = [ts, '_'.join([uuid, major, minor]), rssi]\n",
    "            type_bea.append(beacon_data)\n",
    "            continue\n",
    "\n",
    "        elif data_line[1] == 'TYPE_WAYPOINT':\n",
    "            type_way.append([int(data_line[0]), float(data_line[2]), float(data_line[3])])\n",
    "            continue\n",
    "\n",
    "        else:\n",
    "            data_type_dict[data_line[1]].append([int(data_line[0]), float(data_line[2]), float(data_line[3]), float(data_line[4])])\n",
    "            continue\n",
    "    \n",
    "    type_acc = np.array(type_acc)\n",
    "    type_gyr = np.array(type_gyr)\n",
    "    type_rot = np.array(type_rot)\n",
    "    type_mag = np.array(type_mag)\n",
    "    type_mag_uncal = np.array(type_mag_uncal)\n",
    "    type_gyr_uncal = np.array(type_gyr_uncal)\n",
    "    type_acc_uncal = np.array(type_acc_uncal)\n",
    "    type_wif = np.array(type_wif)\n",
    "    type_bea = np.array(type_bea)\n",
    "    type_way = np.array(type_way)\n",
    "\n",
    "    return PathData(type_acc, type_gyr, type_rot, type_mag, type_mag_uncal, type_gyr_uncal, type_acc_uncal, type_wif, type_bea, type_way)"
   ]
  },
  {
   "cell_type": "markdown",
   "metadata": {},
   "source": [
    "Read the path data"
   ]
  },
  {
   "cell_type": "code",
   "execution_count": 106,
   "metadata": {},
   "outputs": [],
   "source": [
    "def read_path_data(filename):\n",
    "\n",
    "    lines = []\n",
    "\n",
    "    with open(filename, 'r', encoding='utf-8') as file:\n",
    "        lines = file.readlines()\n",
    "\n",
    "    return assmble_path_data(lines)"
   ]
  },
  {
   "cell_type": "markdown",
   "metadata": {},
   "source": [
    "Test for load data"
   ]
  },
  {
   "cell_type": "code",
   "execution_count": 108,
   "metadata": {},
   "outputs": [
    {
     "name": "stdout",
     "output_type": "stream",
     "text": [
      "[['1574572524224' 'intime_pos' '06:74:9c:2e:9e:f3' '-42' '1574572523661']\n",
      " ['1574572524224' 'intime_office' '0a:74:9c:2e:9e:f3' '-42'\n",
      "  '1574572523662']\n",
      " ['1574572524224' 'cloud time_license_5' '1e:74:9c:2e:9e:f3' '-43'\n",
      "  '1574572523664']\n",
      " ...\n",
      " ['1574572539861' 'intime_lease' '12:74:9c:2e:d8:0b' '-91'\n",
      "  '1574572535239']\n",
      " ['1574572539861' 'TP-LINK_1C04' '74:05:a5:0e:1c:06' '-91'\n",
      "  '1574572537201']\n",
      " ['1574572539861' '' '74:59:09:e1:3e:e2' '-92' '1574572537080']]\n"
     ]
    }
   ],
   "source": [
    "path_data = read_path_data('./data/site1/B1/path_data_files/5dda14979191710006b5720e.txt')\n",
    "print(path_data.wif_data)"
   ]
  }
 ],
 "metadata": {
  "kernelspec": {
   "display_name": "Python 3.9.12 ('torch')",
   "language": "python",
   "name": "python3"
  },
  "language_info": {
   "codemirror_mode": {
    "name": "ipython",
    "version": 3
   },
   "file_extension": ".py",
   "mimetype": "text/x-python",
   "name": "python",
   "nbconvert_exporter": "python",
   "pygments_lexer": "ipython3",
   "version": "3.9.12"
  },
  "orig_nbformat": 4,
  "vscode": {
   "interpreter": {
    "hash": "f31b5846fe4d0e510ff280a80fa1fd1567c5c662c3b99a86eb737e0309da4a2e"
   }
  }
 },
 "nbformat": 4,
 "nbformat_minor": 2
}
